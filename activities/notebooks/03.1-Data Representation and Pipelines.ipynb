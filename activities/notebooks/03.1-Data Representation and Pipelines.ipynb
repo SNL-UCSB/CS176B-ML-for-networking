{
 "cells": [
  {
   "cell_type": "markdown",
   "id": "supreme-thickness",
   "metadata": {},
   "source": [
    "# Data Representation and Pipelines\n",
    "\n",
    "An important step in developing machine learning models is determining how to represent network traffic as input to those models.  One possible way to represent packets is using a standard, algined traffic fingerprint called an [nPrint](https://nprint.github.io/nprint/). \n",
    "\n",
    "In this notebook/exercise, we will:\n",
    "* Explore how to represent network traffic with a standard representation ([nPrint](https://nprint.github.io/nprint/))\n",
    "* Show how nPrint can be coupled with an AutoML pipeline to automatically evaluate a range of machine learning models.\n",
    "\n",
    "### Requirements\n",
    "\n",
    "nPrint must be installed into $PATH for external commands to work. Note: You may not be able to do this part in Google collab; it may only work if you have a local (Linux) machine on which you are running the notebook.  If that is the case, the second cell where you execute the commands on pcaps may not run, but we have provided the \"npt\" nprint output files as well, so you can run the rest of the notebook.\n",
    "\n",
    "\n",
    "#### Learning Objectives\n",
    "\n",
    "By the end of this activity you will:\n",
    "\n",
    "1. Understand how to take a packet trace and represent it in a standard, generic form.\n",
    "2. Run nprint on a few classes of machine learning algorithms.\n",
    "3. Try the pipeline on some of your own (labeled) packet traces to understand how to build an end-to-end machine learning pipeline for a cybersecurity problem.\n",
    "\n",
    "#### Tasks\n",
    "\n",
    "1. Install nprint and run it on a packet trace---either the one provided, one that is available from public repositories (e.g., CICIDS). Optionally, try it on your own traffic.\n",
    "2. Run the notebook below to understand nprint and the basic machine learning pipeline.\n",
    "3. Try nprint on a new (security) classification problem, using one of the provided datasets.\n",
    "\n",
    "---\n",
    "\n",
    "## Example: Encrypted vs. Unencrypted Traffic \n",
    "\n",
    "There are 2 `pcap` files that we will use in this example:\n",
    "\n",
    "1. `port443.pcap` - a small trace of packets sent and received over https  \n",
    "2. `port80.pcap` - a small trace of packets sent and received over http\n",
    "\n",
    "We will (1) generate nprints for each of these packet traces; (2) train and evaluate a classifier using these samples."
   ]
  },
  {
   "cell_type": "markdown",
   "id": "offshore-filename",
   "metadata": {},
   "source": [
    "### Step 1: Generate nPrints"
   ]
  },
  {
   "cell_type": "code",
   "execution_count": 4,
   "id": "private-banks",
   "metadata": {},
   "outputs": [
    {
     "name": "stdout",
     "output_type": "stream",
     "text": [
      "/bin/bash: line 1: /usr/local/bin/nprint: No such file or directory\n",
      "/bin/bash: line 1: /usr/local/bin/nprint: No such file or directory\n"
     ]
    }
   ],
   "source": [
    "nprint = '/usr/local/bin/nprint'\n",
    "data = '../data'\n",
    "\n",
    "cmd_80 = '{} -P {}/port80.pcap -t -W {}/port80.npt'.format(nprint, data, data)\n",
    "cmd_443 = '{} -P {}/port443.pcap -t -W {}/port443.npt'.format(nprint, data, data)\n",
    "!{cmd_80}\n",
    "!{cmd_443}"
   ]
  },
  {
   "cell_type": "code",
   "execution_count": 5,
   "id": "detected-thompson",
   "metadata": {},
   "outputs": [
    {
     "name": "stdout",
     "output_type": "stream",
     "text": [
      "Port 80 nPrint:\t\t Number of Packets: 2421, Features per packet: 480\n",
      "Port 443 nPrint:\t Number of Packets: 2500, Features per packet: 480\n"
     ]
    }
   ],
   "source": [
    "import pandas as pd\n",
    "nprint_80 = pd.read_csv('{}/port80.npt'.format(data), index_col=0)\n",
    "nprint_443 = pd.read_csv('{}/port443.npt'.format(data), index_col=0)\n",
    "\n",
    "print('Port 80 nPrint:\\t\\t Number of Packets: {0}, Features per packet: {1}'.format(nprint_80.shape[0], nprint_80.shape[1]))\n",
    "print('Port 443 nPrint:\\t Number of Packets: {0}, Features per packet: {1}'.format(nprint_443.shape[0], nprint_443.shape[1]))"
   ]
  },
  {
   "cell_type": "code",
   "execution_count": 6,
   "id": "instant-counter",
   "metadata": {},
   "outputs": [
    {
     "name": "stdout",
     "output_type": "stream",
     "text": [
      "Index(['tcp_sprt_0', 'tcp_sprt_1', 'tcp_sprt_2', 'tcp_sprt_3', 'tcp_sprt_4',\n",
      "       'tcp_sprt_5', 'tcp_sprt_6', 'tcp_sprt_7', 'tcp_sprt_8', 'tcp_sprt_9',\n",
      "       ...\n",
      "       'tcp_opt_310', 'tcp_opt_311', 'tcp_opt_312', 'tcp_opt_313',\n",
      "       'tcp_opt_314', 'tcp_opt_315', 'tcp_opt_316', 'tcp_opt_317',\n",
      "       'tcp_opt_318', 'tcp_opt_319'],\n",
      "      dtype='object', length=480)\n",
      "Index(['tcp_sprt_0', 'tcp_sprt_1', 'tcp_sprt_2', 'tcp_sprt_3', 'tcp_sprt_4',\n",
      "       'tcp_sprt_5', 'tcp_sprt_6', 'tcp_sprt_7', 'tcp_sprt_8', 'tcp_sprt_9',\n",
      "       ...\n",
      "       'tcp_opt_310', 'tcp_opt_311', 'tcp_opt_312', 'tcp_opt_313',\n",
      "       'tcp_opt_314', 'tcp_opt_315', 'tcp_opt_316', 'tcp_opt_317',\n",
      "       'tcp_opt_318', 'tcp_opt_319'],\n",
      "      dtype='object', length=480)\n"
     ]
    }
   ],
   "source": [
    "print(nprint_80.columns)\n",
    "print(nprint_443.columns)"
   ]
  },
  {
   "cell_type": "markdown",
   "id": "dutch-employer",
   "metadata": {},
   "source": [
    "Notice how each bit (feature) is named according to the exact bit it represents in the packet, and all the possible bits of a TCP header are accounted for."
   ]
  },
  {
   "cell_type": "code",
   "execution_count": 7,
   "id": "incomplete-going",
   "metadata": {},
   "outputs": [],
   "source": [
    "import numpy as np\n",
    "\n",
    "features = []\n",
    "targets = []\n",
    "for _, row in nprint_80.iterrows():\n",
    "    features.append(np.array(row))\n",
    "    targets.append('unencrypted')\n",
    "\n",
    "for _, row in nprint_443.iterrows():\n",
    "    features.append(np.array(row))\n",
    "    targets.append('encrypted')"
   ]
  },
  {
   "cell_type": "markdown",
   "id": "pharmaceutical-heading",
   "metadata": {},
   "source": [
    "## Training a Classifier\n",
    "\n",
    "We're already ready to train and test a model on the traffic we gathered. Let's split the data into training and testing data, train a model, and get a stat report."
   ]
  },
  {
   "cell_type": "code",
   "execution_count": 8,
   "id": "provincial-auction",
   "metadata": {},
   "outputs": [
    {
     "name": "stdout",
     "output_type": "stream",
     "text": [
      "              precision    recall  f1-score   support\n",
      "\n",
      "   encrypted       1.00      1.00      1.00       623\n",
      " unencrypted       1.00      1.00      1.00       608\n",
      "\n",
      "    accuracy                           1.00      1231\n",
      "   macro avg       1.00      1.00      1.00      1231\n",
      "weighted avg       1.00      1.00      1.00      1231\n",
      "\n",
      "ROC AUC Score: 1.0\n"
     ]
    }
   ],
   "source": [
    "from sklearn.model_selection import train_test_split\n",
    "from sklearn.ensemble import RandomForestClassifier\n",
    "from sklearn.metrics import classification_report\n",
    "from sklearn.metrics import roc_auc_score\n",
    "\n",
    "# Split data\n",
    "X_train, X_test, y_train, y_test = train_test_split(features, targets)\n",
    "\n",
    "# Initialize Classifier\n",
    "clf = RandomForestClassifier(n_estimators=1000, max_depth=None, min_samples_split=2, random_state=0)\n",
    "\n",
    "# Train \n",
    "clf.fit(X_train, y_train) \n",
    "\n",
    "# Predict\n",
    "y_pred = clf.predict(X_test)\n",
    "\n",
    "# Statistics\n",
    "\n",
    "# First, lets get a stat report about the precision and recall:\n",
    "report = classification_report(y_test, y_pred)\n",
    "print(report)\n",
    "\n",
    "# Let's also get the ROC AUC score while we're here, which requires a probability instead of just the prediction\n",
    "y_pred_proba = clf.predict_proba(X_test)\n",
    "# predict_proba gives us a probability estimate of each class, while roc_auc just cares about the \"positive\" class\n",
    "y_pred_proba_pos = [sublist[1] for sublist in y_pred_proba]\n",
    "roc = roc_auc_score(y_test, y_pred_proba_pos)\n",
    "print('ROC AUC Score: {0}'.format(roc))"
   ]
  },
  {
   "cell_type": "markdown",
   "id": "animal-cross",
   "metadata": {},
   "source": [
    "## Understanding the Model\n",
    "\n",
    "nPrint's alignment of each packet allows for understanding the specific features (parts of the packet) that are driving the model's performance. It turns out that the options that are being set in the TCP header is actually more important than the port numbers themselves!"
   ]
  },
  {
   "cell_type": "code",
   "execution_count": 9,
   "id": "offensive-thong",
   "metadata": {},
   "outputs": [
    {
     "data": {
      "image/png": "[encoded data removed]",
      "text/plain": [
       "<Figure size 640x480 with 1 Axes>"
      ]
     },
     "metadata": {},
     "output_type": "display_data"
    }
   ],
   "source": [
    "# Import Plotting Libraries\n",
    "import matplotlib.pyplot as plt\n",
    "%matplotlib inline\n",
    "\n",
    "# Get feature importances\n",
    "importances = clf.feature_importances_\n",
    "\n",
    "# Sort in descending order\n",
    "indices = np.argsort(importances)[::-1]\n",
    "\n",
    "# Sort the labels in a corresponding fashion\n",
    "labels = nprint_80.columns.values\n",
    "names = [labels[i] for i in indices]\n",
    "\n",
    "# Plot\n",
    "# number of important features to plot\n",
    "# plt.bar(range(nprint_80.shape[1]),importances[indices])\n",
    "\n",
    "num = 30\n",
    "plt.figure()\n",
    "plt.bar(range(num),importances[indices][:num])\n",
    "plt.xticks(range(num), names[:num], rotation=90)\n",
    "plt.ylabel('Feature Importance')\n",
    "plt.xlabel('Feature')\n",
    "plt.show()"
   ]
  },
  {
   "cell_type": "code",
   "execution_count": null,
   "id": "dc0bf294-111b-46b8-9234-20ca652cdd0f",
   "metadata": {},
   "outputs": [],
   "source": []
  },
  {
   "cell_type": "code",
   "execution_count": null,
   "id": "79970a4d-88f9-442f-86e2-73e2838ab147",
   "metadata": {},
   "outputs": [],
   "source": []
  }
 ],
 "metadata": {
  "kernelspec": {
   "display_name": "Python 3 (ipykernel)",
   "language": "python",
   "name": "python3"
  },
  "language_info": {
   "codemirror_mode": {
    "name": "ipython",
    "version": 3
   },
   "file_extension": ".py",
   "mimetype": "text/x-python",
   "name": "python",
   "nbconvert_exporter": "python",
   "pygments_lexer": "ipython3",
   "version": "3.10.6"
  }
 },
 "nbformat": 4,
 "nbformat_minor": 5
}
