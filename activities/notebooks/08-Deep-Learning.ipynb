{
 "cells": [
  {
   "cell_type": "code",
   "execution_count": 12,
   "metadata": {
    "colab": {
     "autoexec": {
      "startup": false,
      "wait_interval": 0
     }
    },
    "colab_type": "code",
    "id": "8ZH1s2vy5acJ",
    "outputId": "19e901f4-ce58-4494-9ddc-42d743882fea"
   },
   "outputs": [
    {
     "name": "stderr",
     "output_type": "stream",
     "text": [
      "2023-02-13 19:36:26.781735: I tensorflow/core/platform/cpu_feature_guard.cc:193] This TensorFlow binary is optimized with oneAPI Deep Neural Network Library (oneDNN) to use the following CPU instructions in performance-critical operations:  AVX2 AVX512F AVX512_VNNI FMA\n",
      "To enable them in other operations, rebuild TensorFlow with the appropriate compiler flags.\n",
      "2023-02-13 19:36:26.924435: I tensorflow/core/util/port.cc:104] oneDNN custom operations are on. You may see slightly different numerical results due to floating-point round-off errors from different computation orders. To turn them off, set the environment variable `TF_ENABLE_ONEDNN_OPTS=0`.\n",
      "2023-02-13 19:36:27.764358: W tensorflow/compiler/xla/stream_executor/platform/default/dso_loader.cc:64] Could not load dynamic library 'libnvinfer.so.7'; dlerror: libnvinfer.so.7: cannot open shared object file: No such file or directory\n",
      "2023-02-13 19:36:27.764441: W tensorflow/compiler/xla/stream_executor/platform/default/dso_loader.cc:64] Could not load dynamic library 'libnvinfer_plugin.so.7'; dlerror: libnvinfer_plugin.so.7: cannot open shared object file: No such file or directory\n",
      "2023-02-13 19:36:27.764449: W tensorflow/compiler/tf2tensorrt/utils/py_utils.cc:38] TF-TRT Warning: Cannot dlopen some TensorRT libraries. If you would like to use Nvidia GPU with TensorRT, please make sure the missing libraries mentioned above are installed properly.\n"
     ]
    }
   ],
   "source": [
    "import numpy as np\n",
    "import pandas as pd\n",
    "from collections import defaultdict\n",
    "import math\n",
    "\n",
    "# Plotting and Utils\n",
    "import matplotlib.pyplot as plt\n",
    "import itertools\n",
    "%matplotlib inline\n",
    "\n",
    "\n",
    "# ML Classifiers\n",
    "from sklearn.naive_bayes import MultinomialNB\n",
    "from sklearn.neighbors import KNeighborsClassifier\n",
    "from sklearn.svm import LinearSVC\n",
    "from sklearn.tree import DecisionTreeClassifier\n",
    "from sklearn.ensemble import RandomForestClassifier\n",
    "\n",
    "# Evaluation\n",
    "from sklearn.model_selection import train_test_split\n",
    "from sklearn.metrics import zero_one_loss\n",
    "from sklearn.metrics import confusion_matrix\n",
    "from sklearn.metrics import precision_recall_fscore_support\n",
    "\n",
    "# Deep Learning\n",
    "import keras\n",
    "from keras.models import Sequential\n",
    "from keras.layers import Dense, Activation"
   ]
  },
  {
   "cell_type": "markdown",
   "metadata": {
    "colab_type": "text",
    "id": "1Y9T7bD_5acV"
   },
   "source": [
    "### Normal Traffic\n",
    "We collect normal traffic from a simulated consumer IoT network over the course of 10 minutes. There are three devices: a security camera, a blood pressure monitor, and a smart outlet. There is also an Android phone to control these devices; the phone also serves as a wif link for uploading data to the internet, as is the case for the bluetooth-connected blood presure monitor."
   ]
  },
  {
   "cell_type": "code",
   "execution_count": 13,
   "metadata": {
    "colab": {
     "autoexec": {
      "startup": false,
      "wait_interval": 0
     }
    },
    "colab_type": "code",
    "id": "WrvS394W5acX"
   },
   "outputs": [],
   "source": [
    "normal = pd.read_csv('../data/ddos/normal.csv')\n",
    "normal['Label'] = 0 # 0 is normal traffic, 1 is attack traffic"
   ]
  },
  {
   "cell_type": "code",
   "execution_count": 14,
   "metadata": {
    "colab": {
     "autoexec": {
      "startup": false,
      "wait_interval": 0
     }
    },
    "colab_type": "code",
    "id": "4lZuwGaP5acb"
   },
   "outputs": [],
   "source": [
    "# We split the traffic by device using the source IP of the three\n",
    "# devices connected to wifi.\n",
    "\n",
    "# WeMo Smart Switch: a Wifi connected outlet that is controlled\n",
    "# by a phone via the cloud.\n",
    "normal_switch = normal[normal['Source'] == '172.24.1.81']\n",
    "\n",
    "# Yi Home Camera: a Wifi enabled home security camera that supports\n",
    "# control and streaming from your phone via the cloud.\n",
    "normal_camera = normal[normal['Source'] == '172.24.1.107']\n",
    "\n",
    "# Android Phone. This phone, although not an IoT device, controls three\n",
    "# diffferent IoT devices on the network:\n",
    "# 1. WeMo Smart Switch: turns switch on/off\n",
    "# 2. Yi Home Camera: live video streaming \n",
    "# 3. Withings Blood Pressure Monitor: connect to device via bluetooth and \n",
    "#    uploads medical data to cloud; the phone acts just as a wifi link\n",
    "# Phones behave quite differently from other IoT devices. They connect with\n",
    "# more endpoints and are more versatile in the types of protocols they use.\n",
    "normal_phone = normal[normal['Source'] == '172.24.1.63']"
   ]
  },
  {
   "cell_type": "markdown",
   "metadata": {
    "colab_type": "text",
    "id": "2IsnpyBg5acd"
   },
   "source": [
    "### Attack Traffic\n",
    "We simulate the three most common denial of service of attacks that an IoT device infected with the Mirai botnet\n",
    "would execute. Using a Linux VM and a Raspberry Pi connected to a router running on another Raspberry Pi, we generates attack traffic across the three following attack vectors:\n",
    "1. HTTP GET Flood - 2 miuntes; simulated with Goldeneye on Linux VM attacking Google.com\n",
    "2. TCP SYN Flood - 5 minutes; simulated with hping3 on Raspberry Pi attacking Linux VM on LAN\n",
    "3. UDP Flood - 2.5 minutes; simulated with hping3 on Raspberry Pi attacking Linux VM on LAN"
   ]
  },
  {
   "cell_type": "markdown",
   "metadata": {
    "colab_type": "text",
    "id": "NhuOwO3H5acf"
   },
   "source": [
    "We preprocess the attack traffic as if the attacks are coming from the devices in the simulated IoT network. We make a variety of assumptions in order to overlay the attack traffic on the three hosts from the normal traffic. Each of the three Wifi connected devices is infected with the botnet and will execute each of the four attacks once within a 10 minute internal in a random order for a random time period of around 100 seconds each; this way, at any given time, there is a 50% probability that an attack is underway ( (100*3)/600 = .5). During an attack period, each device will be able to simultaneously send attack and normal traffic. The distribution of attacks between devices is independent of each other. We set the target of all attacks to an arbitrary IP on the internet: 8.8.8.8. (e.g. google.com) at a fixed port (80 for http attack, 443 for tcp/udp attack). \n",
    "\n",
    "**Note: We assume that we cannot leverage the destination IP address for classification purposes because we do not want to maintain state at the router. This is a KEY advantage of using ML for flow-based anomaly detection. Otherwise, we could consume memory at the router and count the number of connections to each external IP address; if above threshold, we could identify DOS attack."
   ]
  },
  {
   "cell_type": "code",
   "execution_count": 15,
   "metadata": {
    "colab": {
     "autoexec": {
      "startup": false,
      "wait_interval": 0
     }
    },
    "colab_type": "code",
    "id": "-3oRZUTa5acg"
   },
   "outputs": [],
   "source": [
    "# Load attack traffic\n",
    "attack_http = pd.read_csv('../data/ddos/http_get_attack.csv')\n",
    "attack_tcp = pd.read_csv('../data/ddos/tcp_flood.csv')\n",
    "attack_udp = pd.read_csv('../data/ddos/udp_flood.csv')\n",
    "\n",
    "# Add Label, 0 is normal traffic, 1 is attack traffic\n",
    "attack_http['Label'] = 1\n",
    "attack_tcp['Label'] = 1\n",
    "attack_udp['Label'] = 1\n",
    "\n",
    "# clean the attack data by isolating the source IP address\n",
    "# only consider look at DOS attack originating from within the network.\n",
    "attack_http = attack_http[ (attack_http['Source'] == '172.24.1.67') & (attack_http['Destination'] == '172.217.11.36')]\n",
    "attack_tcp = attack_tcp[ (attack_tcp['Source'] == '172.24.1.108') & (attack_tcp['Destination'] == '172.24.1.67') ]\n",
    "attack_udp = attack_udp[ (attack_udp['Source'] == '172.24.1.108') & (attack_udp['Destination'] == '172.24.1.67') ]\n",
    "\n",
    "# set destination IP of attacks\n",
    "attack_http['Destination'] = '8.8.8.8'\n",
    "attack_tcp['Destination'] = '8.8.8.8'\n",
    "attack_udp['Destination'] = '8.8.8.8'\n",
    "\n",
    "# set destination ports of attacks\n",
    "attack_http['Dst_port'] = 80\n",
    "attack_tcp['Dst_port'] = 443\n",
    "attack_udp['Dst_port'] = 443"
   ]
  },
  {
   "cell_type": "code",
   "execution_count": 16,
   "metadata": {
    "colab": {
     "autoexec": {
      "startup": false,
      "wait_interval": 0
     }
    },
    "colab_type": "code",
    "id": "j6xFzyzq5acj",
    "outputId": "2ddd0758-eeb0-4931-e18f-904abbedf520"
   },
   "outputs": [
    {
     "data": {
      "text/html": [
       "<div>\n",
       "<style scoped>\n",
       "    .dataframe tbody tr th:only-of-type {\n",
       "        vertical-align: middle;\n",
       "    }\n",
       "\n",
       "    .dataframe tbody tr th {\n",
       "        vertical-align: top;\n",
       "    }\n",
       "\n",
       "    .dataframe thead th {\n",
       "        text-align: right;\n",
       "    }\n",
       "</style>\n",
       "<table border=\"1\" class=\"dataframe\">\n",
       "  <thead>\n",
       "    <tr style=\"text-align: right;\">\n",
       "      <th></th>\n",
       "      <th>No.</th>\n",
       "      <th>Time</th>\n",
       "      <th>Source</th>\n",
       "      <th>Destination</th>\n",
       "      <th>Protocol</th>\n",
       "      <th>Length</th>\n",
       "      <th>Info</th>\n",
       "      <th>Src_port</th>\n",
       "      <th>Dst_port</th>\n",
       "      <th>Delta_time</th>\n",
       "      <th>Label</th>\n",
       "    </tr>\n",
       "  </thead>\n",
       "  <tbody>\n",
       "    <tr>\n",
       "      <th>1</th>\n",
       "      <td>2</td>\n",
       "      <td>0.017480</td>\n",
       "      <td>172.24.1.108</td>\n",
       "      <td>8.8.8.8</td>\n",
       "      <td>SSH</td>\n",
       "      <td>122</td>\n",
       "      <td>Server: Encrypted packet (len=56)</td>\n",
       "      <td>22.0</td>\n",
       "      <td>443</td>\n",
       "      <td>0.017480</td>\n",
       "      <td>1</td>\n",
       "    </tr>\n",
       "    <tr>\n",
       "      <th>4</th>\n",
       "      <td>5</td>\n",
       "      <td>0.031885</td>\n",
       "      <td>172.24.1.108</td>\n",
       "      <td>8.8.8.8</td>\n",
       "      <td>SSH</td>\n",
       "      <td>106</td>\n",
       "      <td>Server: Encrypted packet (len=40)</td>\n",
       "      <td>22.0</td>\n",
       "      <td>443</td>\n",
       "      <td>0.001397</td>\n",
       "      <td>1</td>\n",
       "    </tr>\n",
       "    <tr>\n",
       "      <th>13</th>\n",
       "      <td>14</td>\n",
       "      <td>0.737961</td>\n",
       "      <td>172.24.1.108</td>\n",
       "      <td>8.8.8.8</td>\n",
       "      <td>SSH</td>\n",
       "      <td>106</td>\n",
       "      <td>Server: Encrypted packet (len=40)</td>\n",
       "      <td>22.0</td>\n",
       "      <td>443</td>\n",
       "      <td>0.027162</td>\n",
       "      <td>1</td>\n",
       "    </tr>\n",
       "    <tr>\n",
       "      <th>15</th>\n",
       "      <td>16</td>\n",
       "      <td>0.738272</td>\n",
       "      <td>172.24.1.108</td>\n",
       "      <td>8.8.8.8</td>\n",
       "      <td>TCP</td>\n",
       "      <td>66</td>\n",
       "      <td>22 &gt; 50953 [ACK] Seq=137 Ack=201 Win=294 Len=0...</td>\n",
       "      <td>22.0</td>\n",
       "      <td>443</td>\n",
       "      <td>0.000089</td>\n",
       "      <td>1</td>\n",
       "    </tr>\n",
       "    <tr>\n",
       "      <th>16</th>\n",
       "      <td>17</td>\n",
       "      <td>0.738418</td>\n",
       "      <td>172.24.1.108</td>\n",
       "      <td>8.8.8.8</td>\n",
       "      <td>SSH</td>\n",
       "      <td>106</td>\n",
       "      <td>Server: Encrypted packet (len=40)</td>\n",
       "      <td>22.0</td>\n",
       "      <td>443</td>\n",
       "      <td>0.000146</td>\n",
       "      <td>1</td>\n",
       "    </tr>\n",
       "    <tr>\n",
       "      <th>17</th>\n",
       "      <td>18</td>\n",
       "      <td>0.738984</td>\n",
       "      <td>172.24.1.108</td>\n",
       "      <td>8.8.8.8</td>\n",
       "      <td>SSH</td>\n",
       "      <td>106</td>\n",
       "      <td>Server: Encrypted packet (len=40)</td>\n",
       "      <td>22.0</td>\n",
       "      <td>443</td>\n",
       "      <td>0.000566</td>\n",
       "      <td>1</td>\n",
       "    </tr>\n",
       "    <tr>\n",
       "      <th>21</th>\n",
       "      <td>22</td>\n",
       "      <td>0.839763</td>\n",
       "      <td>172.24.1.108</td>\n",
       "      <td>8.8.8.8</td>\n",
       "      <td>SSH</td>\n",
       "      <td>106</td>\n",
       "      <td>Server: Encrypted packet (len=40)</td>\n",
       "      <td>22.0</td>\n",
       "      <td>443</td>\n",
       "      <td>0.040248</td>\n",
       "      <td>1</td>\n",
       "    </tr>\n",
       "    <tr>\n",
       "      <th>24</th>\n",
       "      <td>25</td>\n",
       "      <td>0.942004</td>\n",
       "      <td>172.24.1.108</td>\n",
       "      <td>8.8.8.8</td>\n",
       "      <td>SSH</td>\n",
       "      <td>106</td>\n",
       "      <td>Server: Encrypted packet (len=40)</td>\n",
       "      <td>22.0</td>\n",
       "      <td>443</td>\n",
       "      <td>0.058905</td>\n",
       "      <td>1</td>\n",
       "    </tr>\n",
       "    <tr>\n",
       "      <th>27</th>\n",
       "      <td>28</td>\n",
       "      <td>0.962898</td>\n",
       "      <td>172.24.1.108</td>\n",
       "      <td>8.8.8.8</td>\n",
       "      <td>SSH</td>\n",
       "      <td>106</td>\n",
       "      <td>Server: Encrypted packet (len=40)</td>\n",
       "      <td>22.0</td>\n",
       "      <td>443</td>\n",
       "      <td>0.000095</td>\n",
       "      <td>1</td>\n",
       "    </tr>\n",
       "    <tr>\n",
       "      <th>31</th>\n",
       "      <td>32</td>\n",
       "      <td>1.143729</td>\n",
       "      <td>172.24.1.108</td>\n",
       "      <td>8.8.8.8</td>\n",
       "      <td>SSH</td>\n",
       "      <td>106</td>\n",
       "      <td>Server: Encrypted packet (len=40)</td>\n",
       "      <td>22.0</td>\n",
       "      <td>443</td>\n",
       "      <td>0.009299</td>\n",
       "      <td>1</td>\n",
       "    </tr>\n",
       "  </tbody>\n",
       "</table>\n",
       "</div>"
      ],
      "text/plain": [
       "    No.      Time        Source Destination Protocol  Length  \\\n",
       "1     2  0.017480  172.24.1.108     8.8.8.8      SSH     122   \n",
       "4     5  0.031885  172.24.1.108     8.8.8.8      SSH     106   \n",
       "13   14  0.737961  172.24.1.108     8.8.8.8      SSH     106   \n",
       "15   16  0.738272  172.24.1.108     8.8.8.8      TCP      66   \n",
       "16   17  0.738418  172.24.1.108     8.8.8.8      SSH     106   \n",
       "17   18  0.738984  172.24.1.108     8.8.8.8      SSH     106   \n",
       "21   22  0.839763  172.24.1.108     8.8.8.8      SSH     106   \n",
       "24   25  0.942004  172.24.1.108     8.8.8.8      SSH     106   \n",
       "27   28  0.962898  172.24.1.108     8.8.8.8      SSH     106   \n",
       "31   32  1.143729  172.24.1.108     8.8.8.8      SSH     106   \n",
       "\n",
       "                                                 Info  Src_port  Dst_port  \\\n",
       "1                   Server: Encrypted packet (len=56)      22.0       443   \n",
       "4                   Server: Encrypted packet (len=40)      22.0       443   \n",
       "13                  Server: Encrypted packet (len=40)      22.0       443   \n",
       "15  22 > 50953 [ACK] Seq=137 Ack=201 Win=294 Len=0...      22.0       443   \n",
       "16                  Server: Encrypted packet (len=40)      22.0       443   \n",
       "17                  Server: Encrypted packet (len=40)      22.0       443   \n",
       "21                  Server: Encrypted packet (len=40)      22.0       443   \n",
       "24                  Server: Encrypted packet (len=40)      22.0       443   \n",
       "27                  Server: Encrypted packet (len=40)      22.0       443   \n",
       "31                  Server: Encrypted packet (len=40)      22.0       443   \n",
       "\n",
       "    Delta_time  Label  \n",
       "1     0.017480      1  \n",
       "4     0.001397      1  \n",
       "13    0.027162      1  \n",
       "15    0.000089      1  \n",
       "16    0.000146      1  \n",
       "17    0.000566      1  \n",
       "21    0.040248      1  \n",
       "24    0.058905      1  \n",
       "27    0.000095      1  \n",
       "31    0.009299      1  "
      ]
     },
     "execution_count": 16,
     "metadata": {},
     "output_type": "execute_result"
    }
   ],
   "source": [
    "attack_tcp.head(10)"
   ]
  },
  {
   "cell_type": "markdown",
   "metadata": {
    "colab_type": "text",
    "id": "MUH31KtR5acm"
   },
   "source": [
    "#### Device 1 (WeMo Smart Switch) Attack Profile  \n",
    "Attack 1: HTTP GET Flood, 90 seconds, 20-110 sec  \n",
    "Attack 2: TCP SYN Flood, 110 seconds, 300-410 sec  \n",
    "Attack 3: UDP Flood, 100 seconds, 475-575 sec  "
   ]
  },
  {
   "cell_type": "code",
   "execution_count": 17,
   "metadata": {
    "colab": {
     "autoexec": {
      "startup": false,
      "wait_interval": 0
     }
    },
    "colab_type": "code",
    "id": "FT7yKT235acn",
    "outputId": "f07b57d8-f56c-40f2-973a-23ed54ba3c46"
   },
   "outputs": [
    {
     "name": "stderr",
     "output_type": "stream",
     "text": [
      "/tmp/ipykernel_1536186/1149553916.py:3: SettingWithCopyWarning: \n",
      "A value is trying to be set on a copy of a slice from a DataFrame.\n",
      "Try using .loc[row_indexer,col_indexer] = value instead\n",
      "\n",
      "See the caveats in the documentation: https://pandas.pydata.org/pandas-docs/stable/user_guide/indexing.html#returning-a-view-versus-a-copy\n",
      "  attack_http_switch.loc[:,'Time'] = attack_http_switch.loc[:,'Time'] + 20\n",
      "/tmp/ipykernel_1536186/1149553916.py:4: SettingWithCopyWarning: \n",
      "A value is trying to be set on a copy of a slice from a DataFrame.\n",
      "Try using .loc[row_indexer,col_indexer] = value instead\n",
      "\n",
      "See the caveats in the documentation: https://pandas.pydata.org/pandas-docs/stable/user_guide/indexing.html#returning-a-view-versus-a-copy\n",
      "  attack_http_switch.loc[:,'Source'] = '172.24.1.81'\n",
      "/tmp/ipykernel_1536186/1149553916.py:8: SettingWithCopyWarning: \n",
      "A value is trying to be set on a copy of a slice from a DataFrame.\n",
      "Try using .loc[row_indexer,col_indexer] = value instead\n",
      "\n",
      "See the caveats in the documentation: https://pandas.pydata.org/pandas-docs/stable/user_guide/indexing.html#returning-a-view-versus-a-copy\n",
      "  attack_tcp_switch.loc[:,'Time'] = attack_tcp_switch.loc[:,'Time'] + 300\n",
      "/tmp/ipykernel_1536186/1149553916.py:9: SettingWithCopyWarning: \n",
      "A value is trying to be set on a copy of a slice from a DataFrame.\n",
      "Try using .loc[row_indexer,col_indexer] = value instead\n",
      "\n",
      "See the caveats in the documentation: https://pandas.pydata.org/pandas-docs/stable/user_guide/indexing.html#returning-a-view-versus-a-copy\n",
      "  attack_tcp_switch.loc[:,'Source'] = '172.24.1.81'\n",
      "/tmp/ipykernel_1536186/1149553916.py:13: SettingWithCopyWarning: \n",
      "A value is trying to be set on a copy of a slice from a DataFrame.\n",
      "Try using .loc[row_indexer,col_indexer] = value instead\n",
      "\n",
      "See the caveats in the documentation: https://pandas.pydata.org/pandas-docs/stable/user_guide/indexing.html#returning-a-view-versus-a-copy\n",
      "  attack_udp_switch.loc[:,'Time'] = attack_udp_switch.loc[:,'Time'] + 475\n",
      "/tmp/ipykernel_1536186/1149553916.py:14: SettingWithCopyWarning: \n",
      "A value is trying to be set on a copy of a slice from a DataFrame.\n",
      "Try using .loc[row_indexer,col_indexer] = value instead\n",
      "\n",
      "See the caveats in the documentation: https://pandas.pydata.org/pandas-docs/stable/user_guide/indexing.html#returning-a-view-versus-a-copy\n",
      "  attack_udp_switch.loc[:,'Source'] = '172.24.1.81'\n"
     ]
    }
   ],
   "source": [
    "# attack 1\n",
    "attack_http_switch = attack_http[attack_http['Time'] <= 90]\n",
    "attack_http_switch.loc[:,'Time'] = attack_http_switch.loc[:,'Time'] + 20\n",
    "attack_http_switch.loc[:,'Source'] = '172.24.1.81'\n",
    "\n",
    "# attack 2\n",
    "attack_tcp_switch = attack_tcp[attack_tcp['Time'] <= 110]\n",
    "attack_tcp_switch.loc[:,'Time'] = attack_tcp_switch.loc[:,'Time'] + 300\n",
    "attack_tcp_switch.loc[:,'Source'] = '172.24.1.81'\n",
    "\n",
    "# attack 3\n",
    "attack_udp_switch = attack_udp[attack_udp['Time'] <= 100]\n",
    "attack_udp_switch.loc[:,'Time'] = attack_udp_switch.loc[:,'Time'] + 475\n",
    "attack_udp_switch.loc[:,'Source'] = '172.24.1.81'"
   ]
  },
  {
   "cell_type": "markdown",
   "metadata": {
    "colab_type": "text",
    "id": "9ZNEjCsk5acq"
   },
   "source": [
    "#### Device 2 (YI Home Camera) Attack Profile  \n",
    "Attack 1: TCP SYN Flood, 80 seconds, 25-107 sec  \n",
    "Attack 2: HTTP GET Flood, 100 seconds, 310-410 sec  \n",
    "Attack 3: UDP Flood, 120 seconds, 450-570 sec  "
   ]
  },
  {
   "cell_type": "code",
   "execution_count": 18,
   "metadata": {
    "colab": {
     "autoexec": {
      "startup": false,
      "wait_interval": 0
     }
    },
    "colab_type": "code",
    "id": "D6svm0F15acr",
    "outputId": "bf50faf1-daec-426f-e276-8e97a00ea7ac"
   },
   "outputs": [
    {
     "name": "stderr",
     "output_type": "stream",
     "text": [
      "/tmp/ipykernel_1536186/1655365951.py:3: SettingWithCopyWarning: \n",
      "A value is trying to be set on a copy of a slice from a DataFrame.\n",
      "Try using .loc[row_indexer,col_indexer] = value instead\n",
      "\n",
      "See the caveats in the documentation: https://pandas.pydata.org/pandas-docs/stable/user_guide/indexing.html#returning-a-view-versus-a-copy\n",
      "  attack_tcp_camera.loc[:,'Time'] = attack_tcp_camera['Time'] + 25\n",
      "/tmp/ipykernel_1536186/1655365951.py:4: SettingWithCopyWarning: \n",
      "A value is trying to be set on a copy of a slice from a DataFrame.\n",
      "Try using .loc[row_indexer,col_indexer] = value instead\n",
      "\n",
      "See the caveats in the documentation: https://pandas.pydata.org/pandas-docs/stable/user_guide/indexing.html#returning-a-view-versus-a-copy\n",
      "  attack_tcp_camera.loc[:,'Source'] = '172.24.1.107'\n",
      "/tmp/ipykernel_1536186/1655365951.py:8: SettingWithCopyWarning: \n",
      "A value is trying to be set on a copy of a slice from a DataFrame.\n",
      "Try using .loc[row_indexer,col_indexer] = value instead\n",
      "\n",
      "See the caveats in the documentation: https://pandas.pydata.org/pandas-docs/stable/user_guide/indexing.html#returning-a-view-versus-a-copy\n",
      "  attack_http_camera.loc[:,'Time'] = attack_http_camera['Time'] + 310\n",
      "/tmp/ipykernel_1536186/1655365951.py:9: SettingWithCopyWarning: \n",
      "A value is trying to be set on a copy of a slice from a DataFrame.\n",
      "Try using .loc[row_indexer,col_indexer] = value instead\n",
      "\n",
      "See the caveats in the documentation: https://pandas.pydata.org/pandas-docs/stable/user_guide/indexing.html#returning-a-view-versus-a-copy\n",
      "  attack_http_camera.loc[:,'Source'] = '172.24.1.107'\n",
      "/tmp/ipykernel_1536186/1655365951.py:13: SettingWithCopyWarning: \n",
      "A value is trying to be set on a copy of a slice from a DataFrame.\n",
      "Try using .loc[row_indexer,col_indexer] = value instead\n",
      "\n",
      "See the caveats in the documentation: https://pandas.pydata.org/pandas-docs/stable/user_guide/indexing.html#returning-a-view-versus-a-copy\n",
      "  attack_udp_camera.loc[:,'Time'] = attack_udp_camera['Time'] + 450\n",
      "/tmp/ipykernel_1536186/1655365951.py:14: SettingWithCopyWarning: \n",
      "A value is trying to be set on a copy of a slice from a DataFrame.\n",
      "Try using .loc[row_indexer,col_indexer] = value instead\n",
      "\n",
      "See the caveats in the documentation: https://pandas.pydata.org/pandas-docs/stable/user_guide/indexing.html#returning-a-view-versus-a-copy\n",
      "  attack_udp_camera.loc[:,'Source'] = '172.24.1.107'\n"
     ]
    }
   ],
   "source": [
    "# attack 1\n",
    "attack_tcp_camera = attack_tcp[attack_tcp['Time'] <= 80]\n",
    "attack_tcp_camera.loc[:,'Time'] = attack_tcp_camera['Time'] + 25\n",
    "attack_tcp_camera.loc[:,'Source'] = '172.24.1.107'\n",
    "\n",
    "# attack 2\n",
    "attack_http_camera = attack_http[attack_http['Time'] <= 100]\n",
    "attack_http_camera.loc[:,'Time'] = attack_http_camera['Time'] + 310\n",
    "attack_http_camera.loc[:,'Source'] = '172.24.1.107'\n",
    "\n",
    "# attack 3\n",
    "attack_udp_camera = attack_udp[attack_udp['Time'] <= 120]\n",
    "attack_udp_camera.loc[:,'Time'] = attack_udp_camera['Time'] + 450\n",
    "attack_udp_camera.loc[:,'Source'] = '172.24.1.107'"
   ]
  },
  {
   "cell_type": "markdown",
   "metadata": {
    "colab_type": "text",
    "id": "z5C8Qvjl5acv"
   },
   "source": [
    "#### Device 3 (Android Phone) Attack Profile  \n",
    "Attack 1: UDP Flood, 105 seconds, 5-120 sec  \n",
    "Attack 2: TCP SYN Flood, 80 seconds, 240-320 sec  \n",
    "Attack 3: HTPP GET Flood, 115 seconds, 420-535 sec  "
   ]
  },
  {
   "cell_type": "code",
   "execution_count": 19,
   "metadata": {
    "colab": {
     "autoexec": {
      "startup": false,
      "wait_interval": 0
     }
    },
    "colab_type": "code",
    "id": "2KMVzYPv5acx",
    "outputId": "86133cdf-0260-4337-b9c0-a7ac4a6b46d2"
   },
   "outputs": [
    {
     "name": "stderr",
     "output_type": "stream",
     "text": [
      "/tmp/ipykernel_1536186/1051777557.py:3: SettingWithCopyWarning: \n",
      "A value is trying to be set on a copy of a slice from a DataFrame.\n",
      "Try using .loc[row_indexer,col_indexer] = value instead\n",
      "\n",
      "See the caveats in the documentation: https://pandas.pydata.org/pandas-docs/stable/user_guide/indexing.html#returning-a-view-versus-a-copy\n",
      "  attack_udp_phone.loc[:,'Time'] = attack_udp_phone['Time'] + 5\n",
      "/tmp/ipykernel_1536186/1051777557.py:4: SettingWithCopyWarning: \n",
      "A value is trying to be set on a copy of a slice from a DataFrame.\n",
      "Try using .loc[row_indexer,col_indexer] = value instead\n",
      "\n",
      "See the caveats in the documentation: https://pandas.pydata.org/pandas-docs/stable/user_guide/indexing.html#returning-a-view-versus-a-copy\n",
      "  attack_udp_phone.loc[:,'Source'] = '172.24.1.63'\n",
      "/tmp/ipykernel_1536186/1051777557.py:8: SettingWithCopyWarning: \n",
      "A value is trying to be set on a copy of a slice from a DataFrame.\n",
      "Try using .loc[row_indexer,col_indexer] = value instead\n",
      "\n",
      "See the caveats in the documentation: https://pandas.pydata.org/pandas-docs/stable/user_guide/indexing.html#returning-a-view-versus-a-copy\n",
      "  attack_tcp_phone.loc[:,'Time'] = attack_tcp_phone['Time'] + 240\n",
      "/tmp/ipykernel_1536186/1051777557.py:9: SettingWithCopyWarning: \n",
      "A value is trying to be set on a copy of a slice from a DataFrame.\n",
      "Try using .loc[row_indexer,col_indexer] = value instead\n",
      "\n",
      "See the caveats in the documentation: https://pandas.pydata.org/pandas-docs/stable/user_guide/indexing.html#returning-a-view-versus-a-copy\n",
      "  attack_tcp_phone.loc[:,'Source'] = '172.24.1.63'\n",
      "/tmp/ipykernel_1536186/1051777557.py:13: SettingWithCopyWarning: \n",
      "A value is trying to be set on a copy of a slice from a DataFrame.\n",
      "Try using .loc[row_indexer,col_indexer] = value instead\n",
      "\n",
      "See the caveats in the documentation: https://pandas.pydata.org/pandas-docs/stable/user_guide/indexing.html#returning-a-view-versus-a-copy\n",
      "  attack_http_phone.loc[:,'Time'] = attack_http_phone['Time'] + 420\n",
      "/tmp/ipykernel_1536186/1051777557.py:14: SettingWithCopyWarning: \n",
      "A value is trying to be set on a copy of a slice from a DataFrame.\n",
      "Try using .loc[row_indexer,col_indexer] = value instead\n",
      "\n",
      "See the caveats in the documentation: https://pandas.pydata.org/pandas-docs/stable/user_guide/indexing.html#returning-a-view-versus-a-copy\n",
      "  attack_http_phone.loc[:,'Source'] = '172.24.1.63'\n"
     ]
    }
   ],
   "source": [
    "# attack 1\n",
    "attack_udp_phone = attack_udp[attack_udp['Time'] <= 105]\n",
    "attack_udp_phone.loc[:,'Time'] = attack_udp_phone['Time'] + 5\n",
    "attack_udp_phone.loc[:,'Source'] = '172.24.1.63'\n",
    "\n",
    "# attack 2\n",
    "attack_tcp_phone = attack_tcp[attack_tcp['Time'] <= 80]\n",
    "attack_tcp_phone.loc[:,'Time'] = attack_tcp_phone['Time'] + 240\n",
    "attack_tcp_phone.loc[:,'Source'] = '172.24.1.63'\n",
    "\n",
    "# attack 3\n",
    "attack_http_phone = attack_http[attack_http['Time'] <= 115]\n",
    "attack_http_phone.loc[:,'Time'] = attack_http_phone['Time'] + 420\n",
    "attack_http_phone.loc[:,'Source'] = '172.24.1.63'"
   ]
  },
  {
   "cell_type": "markdown",
   "metadata": {
    "colab_type": "text",
    "id": "lfVw7l6F5ac1"
   },
   "source": [
    "### Generating features and labels (1=attack, 0=normal) for each device\n",
    "**Note: Our approach assumes a constant set of features that is not protocol specific. This adds to the versatility of our proposed methodology."
   ]
  },
  {
   "cell_type": "markdown",
   "metadata": {
    "colab_type": "text",
    "id": "yAuunLJO5ac1"
   },
   "source": [
    "#### WeMo Switch Feature Generation"
   ]
  },
  {
   "cell_type": "code",
   "execution_count": 20,
   "metadata": {
    "colab": {
     "autoexec": {
      "startup": false,
      "wait_interval": 0
     }
    },
    "colab_type": "code",
    "id": "x98voLXm5ac3"
   },
   "outputs": [],
   "source": [
    "# merge attack and normal traffic\n",
    "switch_data = pd.concat([normal_switch, attack_http_switch, attack_tcp_switch, attack_udp_switch])\n",
    "camera_data = pd.concat([normal_camera, attack_http_camera, attack_tcp_camera, attack_udp_camera])\n",
    "phone_data = pd.concat([normal_phone, attack_http_phone, attack_tcp_phone, attack_udp_phone])"
   ]
  },
  {
   "cell_type": "code",
   "execution_count": 21,
   "metadata": {
    "colab": {
     "autoexec": {
      "startup": false,
      "wait_interval": 0
     }
    },
    "colab_type": "code",
    "id": "0Zaf_rdh5ac5"
   },
   "outputs": [],
   "source": [
    "# generate device specific temporal features\n",
    "def generate_device_temporal_features_and_labels(data):\n",
    "    # map each row to a 10 second time bin\n",
    "    data['TimeBin'] = data['Time']\n",
    "    data['TimeBin'] = (data['TimeBin']/10.0)\n",
    "    data['TimeBin'] = data['TimeBin'].apply(np.floor)\n",
    "    group = data.groupby(['TimeBin'])\n",
    "    group_features = group.apply(group_feature_extractor)\n",
    "    group_features['device_timebin_delta_num_dest'] = group_features['device_timebin_num_dest'].diff(periods=1)\n",
    "    group_features['device_timebin_delta_num_dest'] = group_features['device_timebin_delta_num_dest'].fillna(0)\n",
    "\n",
    "    data = data.merge(group_features, left_on='TimeBin', right_index=True)\n",
    "    return data\n",
    "    \n",
    "def group_feature_extractor(g):\n",
    "    ten_sec_traffic = (g['Length']).sum() / 10\n",
    "    ten_sec_num_host = len(set(g['Destination']))\n",
    "    return pd.Series([ten_sec_traffic, ten_sec_num_host], index = ['device_timebin_bandwidth', 'device_timebin_num_dest'])"
   ]
  },
  {
   "cell_type": "code",
   "execution_count": 22,
   "metadata": {
    "colab": {
     "autoexec": {
      "startup": false,
      "wait_interval": 0
     }
    },
    "colab_type": "code",
    "id": "0cfnuuLJ5ac9"
   },
   "outputs": [],
   "source": [
    "switch_data = generate_device_temporal_features_and_labels(switch_data)\n",
    "camera_data = generate_device_temporal_features_and_labels(camera_data)\n",
    "phone_data = generate_device_temporal_features_and_labels(phone_data)"
   ]
  },
  {
   "cell_type": "code",
   "execution_count": 23,
   "metadata": {
    "colab": {
     "autoexec": {
      "startup": false,
      "wait_interval": 0
     }
    },
    "colab_type": "code",
    "id": "_NtGLBp45adA",
    "outputId": "856f8746-cb9e-4dfc-dec0-cb5e0427c66d"
   },
   "outputs": [
    {
     "data": {
      "text/html": [
       "<div>\n",
       "<style scoped>\n",
       "    .dataframe tbody tr th:only-of-type {\n",
       "        vertical-align: middle;\n",
       "    }\n",
       "\n",
       "    .dataframe tbody tr th {\n",
       "        vertical-align: top;\n",
       "    }\n",
       "\n",
       "    .dataframe thead th {\n",
       "        text-align: right;\n",
       "    }\n",
       "</style>\n",
       "<table border=\"1\" class=\"dataframe\">\n",
       "  <thead>\n",
       "    <tr style=\"text-align: right;\">\n",
       "      <th></th>\n",
       "      <th>No.</th>\n",
       "      <th>Time</th>\n",
       "      <th>Source</th>\n",
       "      <th>Destination</th>\n",
       "      <th>Protocol</th>\n",
       "      <th>Length</th>\n",
       "      <th>Info</th>\n",
       "      <th>Src_port</th>\n",
       "      <th>Dst_port</th>\n",
       "      <th>Delta_time</th>\n",
       "      <th>Label</th>\n",
       "      <th>TimeBin</th>\n",
       "      <th>device_timebin_bandwidth</th>\n",
       "      <th>device_timebin_num_dest</th>\n",
       "      <th>device_timebin_delta_num_dest</th>\n",
       "    </tr>\n",
       "  </thead>\n",
       "  <tbody>\n",
       "    <tr>\n",
       "      <th>83</th>\n",
       "      <td>84</td>\n",
       "      <td>18.604856</td>\n",
       "      <td>172.24.1.81</td>\n",
       "      <td>172.24.1.1</td>\n",
       "      <td>ICMP</td>\n",
       "      <td>98</td>\n",
       "      <td>Echo (ping) request  id=0x7b08, seq=0/0, ttl=6...</td>\n",
       "      <td>NaN</td>\n",
       "      <td>NaN</td>\n",
       "      <td>1.916105</td>\n",
       "      <td>0</td>\n",
       "      <td>1.0</td>\n",
       "      <td>8888.0</td>\n",
       "      <td>2.0</td>\n",
       "      <td>0.0</td>\n",
       "    </tr>\n",
       "    <tr>\n",
       "      <th>85</th>\n",
       "      <td>86</td>\n",
       "      <td>18.683087</td>\n",
       "      <td>172.24.1.81</td>\n",
       "      <td>172.24.1.1</td>\n",
       "      <td>DNS</td>\n",
       "      <td>76</td>\n",
       "      <td>Standard query 0x001d A insight.lswf.net</td>\n",
       "      <td>3076.0</td>\n",
       "      <td>53.0</td>\n",
       "      <td>0.078088</td>\n",
       "      <td>0</td>\n",
       "      <td>1.0</td>\n",
       "      <td>8888.0</td>\n",
       "      <td>2.0</td>\n",
       "      <td>0.0</td>\n",
       "    </tr>\n",
       "    <tr>\n",
       "      <th>87</th>\n",
       "      <td>88</td>\n",
       "      <td>18.695402</td>\n",
       "      <td>172.24.1.81</td>\n",
       "      <td>23.21.145.73</td>\n",
       "      <td>TCP</td>\n",
       "      <td>66</td>\n",
       "      <td>4925 &gt; 443 [SYN] Seq=0 Win=5840 Len=0 MSS=1460...</td>\n",
       "      <td>4925.0</td>\n",
       "      <td>443.0</td>\n",
       "      <td>0.002567</td>\n",
       "      <td>0</td>\n",
       "      <td>1.0</td>\n",
       "      <td>8888.0</td>\n",
       "      <td>2.0</td>\n",
       "      <td>0.0</td>\n",
       "    </tr>\n",
       "    <tr>\n",
       "      <th>89</th>\n",
       "      <td>90</td>\n",
       "      <td>18.704376</td>\n",
       "      <td>172.24.1.81</td>\n",
       "      <td>23.21.145.73</td>\n",
       "      <td>TCP</td>\n",
       "      <td>54</td>\n",
       "      <td>4925 &gt; 443 [ACK] Seq=1 Ack=1 Win=5840 Len=0</td>\n",
       "      <td>4925.0</td>\n",
       "      <td>443.0</td>\n",
       "      <td>0.001640</td>\n",
       "      <td>0</td>\n",
       "      <td>1.0</td>\n",
       "      <td>8888.0</td>\n",
       "      <td>2.0</td>\n",
       "      <td>0.0</td>\n",
       "    </tr>\n",
       "    <tr>\n",
       "      <th>90</th>\n",
       "      <td>91</td>\n",
       "      <td>18.740927</td>\n",
       "      <td>172.24.1.81</td>\n",
       "      <td>23.21.145.73</td>\n",
       "      <td>TLSv1</td>\n",
       "      <td>175</td>\n",
       "      <td>Client Hello</td>\n",
       "      <td>4925.0</td>\n",
       "      <td>443.0</td>\n",
       "      <td>0.036551</td>\n",
       "      <td>0</td>\n",
       "      <td>1.0</td>\n",
       "      <td>8888.0</td>\n",
       "      <td>2.0</td>\n",
       "      <td>0.0</td>\n",
       "    </tr>\n",
       "    <tr>\n",
       "      <th>...</th>\n",
       "      <td>...</td>\n",
       "      <td>...</td>\n",
       "      <td>...</td>\n",
       "      <td>...</td>\n",
       "      <td>...</td>\n",
       "      <td>...</td>\n",
       "      <td>...</td>\n",
       "      <td>...</td>\n",
       "      <td>...</td>\n",
       "      <td>...</td>\n",
       "      <td>...</td>\n",
       "      <td>...</td>\n",
       "      <td>...</td>\n",
       "      <td>...</td>\n",
       "      <td>...</td>\n",
       "    </tr>\n",
       "    <tr>\n",
       "      <th>11167</th>\n",
       "      <td>11168</td>\n",
       "      <td>499.982123</td>\n",
       "      <td>172.24.1.81</td>\n",
       "      <td>8.8.8.8</td>\n",
       "      <td>UDP</td>\n",
       "      <td>42</td>\n",
       "      <td>52876 &gt; 0 Len=0</td>\n",
       "      <td>52876.0</td>\n",
       "      <td>443.0</td>\n",
       "      <td>0.003938</td>\n",
       "      <td>1</td>\n",
       "      <td>49.0</td>\n",
       "      <td>17039.4</td>\n",
       "      <td>1.0</td>\n",
       "      <td>0.0</td>\n",
       "    </tr>\n",
       "    <tr>\n",
       "      <th>11168</th>\n",
       "      <td>11169</td>\n",
       "      <td>499.986259</td>\n",
       "      <td>172.24.1.81</td>\n",
       "      <td>8.8.8.8</td>\n",
       "      <td>UDP</td>\n",
       "      <td>42</td>\n",
       "      <td>52920 &gt; 0 Len=0</td>\n",
       "      <td>52920.0</td>\n",
       "      <td>443.0</td>\n",
       "      <td>0.004136</td>\n",
       "      <td>1</td>\n",
       "      <td>49.0</td>\n",
       "      <td>17039.4</td>\n",
       "      <td>1.0</td>\n",
       "      <td>0.0</td>\n",
       "    </tr>\n",
       "    <tr>\n",
       "      <th>11169</th>\n",
       "      <td>11170</td>\n",
       "      <td>499.989738</td>\n",
       "      <td>172.24.1.81</td>\n",
       "      <td>8.8.8.8</td>\n",
       "      <td>UDP</td>\n",
       "      <td>42</td>\n",
       "      <td>52957 &gt; 0 Len=0</td>\n",
       "      <td>52957.0</td>\n",
       "      <td>443.0</td>\n",
       "      <td>0.003479</td>\n",
       "      <td>1</td>\n",
       "      <td>49.0</td>\n",
       "      <td>17039.4</td>\n",
       "      <td>1.0</td>\n",
       "      <td>0.0</td>\n",
       "    </tr>\n",
       "    <tr>\n",
       "      <th>11170</th>\n",
       "      <td>11171</td>\n",
       "      <td>499.996349</td>\n",
       "      <td>172.24.1.81</td>\n",
       "      <td>8.8.8.8</td>\n",
       "      <td>UDP</td>\n",
       "      <td>42</td>\n",
       "      <td>53028 &gt; 0 Len=0</td>\n",
       "      <td>53028.0</td>\n",
       "      <td>443.0</td>\n",
       "      <td>0.006611</td>\n",
       "      <td>1</td>\n",
       "      <td>49.0</td>\n",
       "      <td>17039.4</td>\n",
       "      <td>1.0</td>\n",
       "      <td>0.0</td>\n",
       "    </tr>\n",
       "    <tr>\n",
       "      <th>11171</th>\n",
       "      <td>11172</td>\n",
       "      <td>499.999851</td>\n",
       "      <td>172.24.1.81</td>\n",
       "      <td>8.8.8.8</td>\n",
       "      <td>UDP</td>\n",
       "      <td>42</td>\n",
       "      <td>53065 &gt; 0 Len=0</td>\n",
       "      <td>53065.0</td>\n",
       "      <td>443.0</td>\n",
       "      <td>0.003502</td>\n",
       "      <td>1</td>\n",
       "      <td>49.0</td>\n",
       "      <td>17039.4</td>\n",
       "      <td>1.0</td>\n",
       "      <td>0.0</td>\n",
       "    </tr>\n",
       "  </tbody>\n",
       "</table>\n",
       "<p>164822 rows × 15 columns</p>\n",
       "</div>"
      ],
      "text/plain": [
       "         No.        Time       Source   Destination Protocol  Length  \\\n",
       "83        84   18.604856  172.24.1.81    172.24.1.1     ICMP      98   \n",
       "85        86   18.683087  172.24.1.81    172.24.1.1      DNS      76   \n",
       "87        88   18.695402  172.24.1.81  23.21.145.73      TCP      66   \n",
       "89        90   18.704376  172.24.1.81  23.21.145.73      TCP      54   \n",
       "90        91   18.740927  172.24.1.81  23.21.145.73    TLSv1     175   \n",
       "...      ...         ...          ...           ...      ...     ...   \n",
       "11167  11168  499.982123  172.24.1.81       8.8.8.8      UDP      42   \n",
       "11168  11169  499.986259  172.24.1.81       8.8.8.8      UDP      42   \n",
       "11169  11170  499.989738  172.24.1.81       8.8.8.8      UDP      42   \n",
       "11170  11171  499.996349  172.24.1.81       8.8.8.8      UDP      42   \n",
       "11171  11172  499.999851  172.24.1.81       8.8.8.8      UDP      42   \n",
       "\n",
       "                                                    Info  Src_port  Dst_port  \\\n",
       "83     Echo (ping) request  id=0x7b08, seq=0/0, ttl=6...       NaN       NaN   \n",
       "85              Standard query 0x001d A insight.lswf.net    3076.0      53.0   \n",
       "87     4925 > 443 [SYN] Seq=0 Win=5840 Len=0 MSS=1460...    4925.0     443.0   \n",
       "89           4925 > 443 [ACK] Seq=1 Ack=1 Win=5840 Len=0    4925.0     443.0   \n",
       "90                                          Client Hello    4925.0     443.0   \n",
       "...                                                  ...       ...       ...   \n",
       "11167                                    52876 > 0 Len=0   52876.0     443.0   \n",
       "11168                                    52920 > 0 Len=0   52920.0     443.0   \n",
       "11169                                    52957 > 0 Len=0   52957.0     443.0   \n",
       "11170                                    53028 > 0 Len=0   53028.0     443.0   \n",
       "11171                                    53065 > 0 Len=0   53065.0     443.0   \n",
       "\n",
       "       Delta_time  Label  TimeBin  device_timebin_bandwidth  \\\n",
       "83       1.916105      0      1.0                    8888.0   \n",
       "85       0.078088      0      1.0                    8888.0   \n",
       "87       0.002567      0      1.0                    8888.0   \n",
       "89       0.001640      0      1.0                    8888.0   \n",
       "90       0.036551      0      1.0                    8888.0   \n",
       "...           ...    ...      ...                       ...   \n",
       "11167    0.003938      1     49.0                   17039.4   \n",
       "11168    0.004136      1     49.0                   17039.4   \n",
       "11169    0.003479      1     49.0                   17039.4   \n",
       "11170    0.006611      1     49.0                   17039.4   \n",
       "11171    0.003502      1     49.0                   17039.4   \n",
       "\n",
       "       device_timebin_num_dest  device_timebin_delta_num_dest  \n",
       "83                         2.0                            0.0  \n",
       "85                         2.0                            0.0  \n",
       "87                         2.0                            0.0  \n",
       "89                         2.0                            0.0  \n",
       "90                         2.0                            0.0  \n",
       "...                        ...                            ...  \n",
       "11167                      1.0                            0.0  \n",
       "11168                      1.0                            0.0  \n",
       "11169                      1.0                            0.0  \n",
       "11170                      1.0                            0.0  \n",
       "11171                      1.0                            0.0  \n",
       "\n",
       "[164822 rows x 15 columns]"
      ]
     },
     "execution_count": 23,
     "metadata": {},
     "output_type": "execute_result"
    }
   ],
   "source": [
    "switch_data"
   ]
  },
  {
   "cell_type": "code",
   "execution_count": 24,
   "metadata": {
    "colab": {
     "autoexec": {
      "startup": false,
      "wait_interval": 0
     }
    },
    "colab_type": "code",
    "id": "1VFZhUGu5adE"
   },
   "outputs": [],
   "source": [
    "def generate_features_and_labels(data):\n",
    "    data.sort_values(by=['Time'],  ascending=[1]) # sort all traffic by time\n",
    "    data = data.dropna() # drop rows with either missing source or destination ports\n",
    "    data = data.reset_index(drop=True)\n",
    "    \n",
    "    # GENERATE FEATURES\n",
    "    features = data.copy(deep=True)\n",
    "\n",
    "    # velocity, acceleration, and jerk in time in between successive packets\n",
    "    features['dT'] = features['Time'] - features['Time'].shift(3)\n",
    "    features['dT2'] = features['dT'] - features['dT'].shift(3)\n",
    "    features['dT3'] = features['dT2'] - features['dT2'].shift(3)\n",
    "    features = features.fillna(0) # fill offset rows with zeros #### FIX THIS - not working...\n",
    "\n",
    "    # one hot encoding of common protocols: HTTP: TCP, UDP, and OTHER\n",
    "    features['is_HTTP'] = 0\n",
    "    features.loc[ ( (features['Protocol'] == 'HTTP') | (features['Protocol'] == 'HTTP/XML') ), ['is_HTTP']] = 1\n",
    "\n",
    "    features['is_TCP'] = 0\n",
    "    features.loc[features['Protocol'] == 'TCP', ['is_TCP']] = 1\n",
    "\n",
    "    features['is_UDP'] = 0\n",
    "    features.loc[features['Protocol'] == 'UDP', ['is_UDP']] = 1\n",
    "\n",
    "    features['is_OTHER'] = 0\n",
    "    features.loc[(\n",
    "                    (features['Protocol'] != 'HTTP') &\n",
    "                    (features['Protocol'] != 'HTTP/XML') &\n",
    "                    (features['Protocol'] != 'TCP') &\n",
    "                    (features['Protocol'] != 'UDP') \n",
    "                ), ['is_OTHER']] = 1\n",
    "\n",
    "    # generate time-series features based on last most recent 10,000 packets:\n",
    "    # 1. percent of traffic to the given destination IP\n",
    "    # 2. percent of traffic to the given destination port\n",
    "    # 3. Devices \n",
    "    # TODO\n",
    "    \n",
    "    # GENERATE LABELS\n",
    "    labels = features['Label']\n",
    "\n",
    "    del features['No.']\n",
    "    del features['Time']\n",
    "    del features['Source']\n",
    "    del features['Destination']\n",
    "    del features['Protocol']\n",
    "    del features['Info']\n",
    "    del features['Src_port']\n",
    "    del features['Dst_port']\n",
    "    del features['Delta_time']\n",
    "    del features['Label']\n",
    "    del features['TimeBin']\n",
    "    \n",
    "    return (features, labels)"
   ]
  },
  {
   "cell_type": "code",
   "execution_count": 25,
   "metadata": {
    "colab": {
     "autoexec": {
      "startup": false,
      "wait_interval": 0
     }
    },
    "colab_type": "code",
    "id": "QqyWZ6hW5adF",
    "outputId": "c67b7b21-6b18-4e5e-c915-c66537d4be10"
   },
   "outputs": [],
   "source": [
    "# generate \n",
    "switch_features, switch_labels = generate_features_and_labels(switch_data)\n",
    "camera_features, camera_labels = generate_features_and_labels(camera_data)\n",
    "phone_features, phone_labels = generate_features_and_labels(phone_data)"
   ]
  },
  {
   "cell_type": "code",
   "execution_count": 26,
   "metadata": {
    "colab": {
     "autoexec": {
      "startup": false,
      "wait_interval": 0
     }
    },
    "colab_type": "code",
    "id": "Wk5nyG2-5adI"
   },
   "outputs": [],
   "source": [
    "all_features = pd.concat([switch_features, camera_features, phone_features])\n",
    "all_labels = pd.concat([switch_labels, camera_labels, phone_labels])"
   ]
  },
  {
   "cell_type": "markdown",
   "metadata": {
    "colab_type": "text",
    "id": "D5Ew0g-05adL"
   },
   "source": [
    "### Normalize Data"
   ]
  },
  {
   "cell_type": "code",
   "execution_count": 27,
   "metadata": {
    "colab": {
     "autoexec": {
      "startup": false,
      "wait_interval": 0
     }
    },
    "colab_type": "code",
    "id": "OYjZ7VNK5adM"
   },
   "outputs": [],
   "source": [
    "# rescale numerical columns to standard normal\n",
    "numerical = all_features.iloc[:, [0,1,2,3,4,5,6]]\n",
    "numerical = (numerical - np.mean(numerical, axis=0)) / np.std(numerical, axis=0)\n",
    "# rescale categorical columns from [0,1] to [-1,1]\n",
    "categorical = all_features.iloc[:, [7,8,9,10]]\n",
    "categorical = categorical*2-1\n",
    "# recombine data\n",
    "all_features = pd.concat([numerical, categorical], axis=1)"
   ]
  },
  {
   "cell_type": "code",
   "execution_count": 28,
   "metadata": {
    "colab": {
     "autoexec": {
      "startup": false,
      "wait_interval": 0
     }
    },
    "colab_type": "code",
    "id": "D8lvBDVC5adP",
    "outputId": "6d40b8e4-571d-4b45-80ca-d634e26fddfa"
   },
   "outputs": [
    {
     "data": {
      "text/html": [
       "<div>\n",
       "<style scoped>\n",
       "    .dataframe tbody tr th:only-of-type {\n",
       "        vertical-align: middle;\n",
       "    }\n",
       "\n",
       "    .dataframe tbody tr th {\n",
       "        vertical-align: top;\n",
       "    }\n",
       "\n",
       "    .dataframe thead th {\n",
       "        text-align: right;\n",
       "    }\n",
       "</style>\n",
       "<table border=\"1\" class=\"dataframe\">\n",
       "  <thead>\n",
       "    <tr style=\"text-align: right;\">\n",
       "      <th></th>\n",
       "      <th>Length</th>\n",
       "      <th>device_timebin_bandwidth</th>\n",
       "      <th>device_timebin_num_dest</th>\n",
       "      <th>device_timebin_delta_num_dest</th>\n",
       "      <th>dT</th>\n",
       "      <th>dT2</th>\n",
       "      <th>dT3</th>\n",
       "      <th>is_HTTP</th>\n",
       "      <th>is_TCP</th>\n",
       "      <th>is_UDP</th>\n",
       "      <th>is_OTHER</th>\n",
       "    </tr>\n",
       "  </thead>\n",
       "  <tbody>\n",
       "    <tr>\n",
       "      <th>0</th>\n",
       "      <td>-0.081194</td>\n",
       "      <td>-1.208889</td>\n",
       "      <td>-0.498237</td>\n",
       "      <td>-0.059281</td>\n",
       "      <td>-0.002757</td>\n",
       "      <td>0.000016</td>\n",
       "      <td>-0.000009</td>\n",
       "      <td>-1</td>\n",
       "      <td>-1</td>\n",
       "      <td>-1</td>\n",
       "      <td>1</td>\n",
       "    </tr>\n",
       "    <tr>\n",
       "      <th>1</th>\n",
       "      <td>-0.139957</td>\n",
       "      <td>-1.208889</td>\n",
       "      <td>-0.498237</td>\n",
       "      <td>-0.059281</td>\n",
       "      <td>-0.002757</td>\n",
       "      <td>0.000016</td>\n",
       "      <td>-0.000009</td>\n",
       "      <td>-1</td>\n",
       "      <td>1</td>\n",
       "      <td>-1</td>\n",
       "      <td>-1</td>\n",
       "    </tr>\n",
       "    <tr>\n",
       "      <th>2</th>\n",
       "      <td>-0.210472</td>\n",
       "      <td>-1.208889</td>\n",
       "      <td>-0.498237</td>\n",
       "      <td>-0.059281</td>\n",
       "      <td>-0.002757</td>\n",
       "      <td>0.000016</td>\n",
       "      <td>-0.000009</td>\n",
       "      <td>-1</td>\n",
       "      <td>1</td>\n",
       "      <td>-1</td>\n",
       "      <td>-1</td>\n",
       "    </tr>\n",
       "    <tr>\n",
       "      <th>3</th>\n",
       "      <td>0.500557</td>\n",
       "      <td>-1.208889</td>\n",
       "      <td>-0.498237</td>\n",
       "      <td>-0.059281</td>\n",
       "      <td>0.026265</td>\n",
       "      <td>0.000016</td>\n",
       "      <td>-0.000009</td>\n",
       "      <td>-1</td>\n",
       "      <td>-1</td>\n",
       "      <td>-1</td>\n",
       "      <td>1</td>\n",
       "    </tr>\n",
       "    <tr>\n",
       "      <th>4</th>\n",
       "      <td>-0.210472</td>\n",
       "      <td>-1.208889</td>\n",
       "      <td>-0.498237</td>\n",
       "      <td>-0.059281</td>\n",
       "      <td>0.025148</td>\n",
       "      <td>0.000016</td>\n",
       "      <td>-0.000009</td>\n",
       "      <td>-1</td>\n",
       "      <td>1</td>\n",
       "      <td>-1</td>\n",
       "      <td>-1</td>\n",
       "    </tr>\n",
       "    <tr>\n",
       "      <th>...</th>\n",
       "      <td>...</td>\n",
       "      <td>...</td>\n",
       "      <td>...</td>\n",
       "      <td>...</td>\n",
       "      <td>...</td>\n",
       "      <td>...</td>\n",
       "      <td>...</td>\n",
       "      <td>...</td>\n",
       "      <td>...</td>\n",
       "      <td>...</td>\n",
       "      <td>...</td>\n",
       "    </tr>\n",
       "    <tr>\n",
       "      <th>156312</th>\n",
       "      <td>-0.280987</td>\n",
       "      <td>-0.931983</td>\n",
       "      <td>-0.842540</td>\n",
       "      <td>-1.497128</td>\n",
       "      <td>-0.002218</td>\n",
       "      <td>-0.001410</td>\n",
       "      <td>0.004253</td>\n",
       "      <td>-1</td>\n",
       "      <td>-1</td>\n",
       "      <td>1</td>\n",
       "      <td>-1</td>\n",
       "    </tr>\n",
       "    <tr>\n",
       "      <th>156313</th>\n",
       "      <td>-0.280987</td>\n",
       "      <td>-0.931983</td>\n",
       "      <td>-0.842540</td>\n",
       "      <td>-1.497128</td>\n",
       "      <td>-0.002219</td>\n",
       "      <td>-0.000391</td>\n",
       "      <td>0.006012</td>\n",
       "      <td>-1</td>\n",
       "      <td>-1</td>\n",
       "      <td>1</td>\n",
       "      <td>-1</td>\n",
       "    </tr>\n",
       "    <tr>\n",
       "      <th>156314</th>\n",
       "      <td>-0.280987</td>\n",
       "      <td>-0.931983</td>\n",
       "      <td>-0.842540</td>\n",
       "      <td>-1.497128</td>\n",
       "      <td>-0.001946</td>\n",
       "      <td>0.000022</td>\n",
       "      <td>0.006504</td>\n",
       "      <td>-1</td>\n",
       "      <td>-1</td>\n",
       "      <td>1</td>\n",
       "      <td>-1</td>\n",
       "    </tr>\n",
       "    <tr>\n",
       "      <th>156315</th>\n",
       "      <td>-0.280987</td>\n",
       "      <td>-0.931983</td>\n",
       "      <td>-0.842540</td>\n",
       "      <td>-1.497128</td>\n",
       "      <td>-0.002132</td>\n",
       "      <td>0.000078</td>\n",
       "      <td>0.000853</td>\n",
       "      <td>-1</td>\n",
       "      <td>-1</td>\n",
       "      <td>1</td>\n",
       "      <td>-1</td>\n",
       "    </tr>\n",
       "    <tr>\n",
       "      <th>156316</th>\n",
       "      <td>-0.280987</td>\n",
       "      <td>-0.931983</td>\n",
       "      <td>-0.842540</td>\n",
       "      <td>-1.497128</td>\n",
       "      <td>-0.000927</td>\n",
       "      <td>0.000938</td>\n",
       "      <td>0.000760</td>\n",
       "      <td>-1</td>\n",
       "      <td>-1</td>\n",
       "      <td>1</td>\n",
       "      <td>-1</td>\n",
       "    </tr>\n",
       "  </tbody>\n",
       "</table>\n",
       "<p>491855 rows × 11 columns</p>\n",
       "</div>"
      ],
      "text/plain": [
       "          Length  device_timebin_bandwidth  device_timebin_num_dest  \\\n",
       "0      -0.081194                 -1.208889                -0.498237   \n",
       "1      -0.139957                 -1.208889                -0.498237   \n",
       "2      -0.210472                 -1.208889                -0.498237   \n",
       "3       0.500557                 -1.208889                -0.498237   \n",
       "4      -0.210472                 -1.208889                -0.498237   \n",
       "...          ...                       ...                      ...   \n",
       "156312 -0.280987                 -0.931983                -0.842540   \n",
       "156313 -0.280987                 -0.931983                -0.842540   \n",
       "156314 -0.280987                 -0.931983                -0.842540   \n",
       "156315 -0.280987                 -0.931983                -0.842540   \n",
       "156316 -0.280987                 -0.931983                -0.842540   \n",
       "\n",
       "        device_timebin_delta_num_dest        dT       dT2       dT3  is_HTTP  \\\n",
       "0                           -0.059281 -0.002757  0.000016 -0.000009       -1   \n",
       "1                           -0.059281 -0.002757  0.000016 -0.000009       -1   \n",
       "2                           -0.059281 -0.002757  0.000016 -0.000009       -1   \n",
       "3                           -0.059281  0.026265  0.000016 -0.000009       -1   \n",
       "4                           -0.059281  0.025148  0.000016 -0.000009       -1   \n",
       "...                               ...       ...       ...       ...      ...   \n",
       "156312                      -1.497128 -0.002218 -0.001410  0.004253       -1   \n",
       "156313                      -1.497128 -0.002219 -0.000391  0.006012       -1   \n",
       "156314                      -1.497128 -0.001946  0.000022  0.006504       -1   \n",
       "156315                      -1.497128 -0.002132  0.000078  0.000853       -1   \n",
       "156316                      -1.497128 -0.000927  0.000938  0.000760       -1   \n",
       "\n",
       "        is_TCP  is_UDP  is_OTHER  \n",
       "0           -1      -1         1  \n",
       "1            1      -1        -1  \n",
       "2            1      -1        -1  \n",
       "3           -1      -1         1  \n",
       "4            1      -1        -1  \n",
       "...        ...     ...       ...  \n",
       "156312      -1       1        -1  \n",
       "156313      -1       1        -1  \n",
       "156314      -1       1        -1  \n",
       "156315      -1       1        -1  \n",
       "156316      -1       1        -1  \n",
       "\n",
       "[491855 rows x 11 columns]"
      ]
     },
     "execution_count": 28,
     "metadata": {},
     "output_type": "execute_result"
    }
   ],
   "source": [
    "all_features"
   ]
  },
  {
   "cell_type": "code",
   "execution_count": 29,
   "metadata": {
    "colab": {
     "autoexec": {
      "startup": false,
      "wait_interval": 0
     }
    },
    "colab_type": "code",
    "id": "7dKC5gSA5adS"
   },
   "outputs": [],
   "source": [
    "# get subset of features (non-temporal)\n",
    "packet_features = all_features.iloc[:,[0,4,5,6,7,8,9,10]]"
   ]
  },
  {
   "cell_type": "code",
   "execution_count": 30,
   "metadata": {
    "colab": {
     "autoexec": {
      "startup": false,
      "wait_interval": 0
     }
    },
    "colab_type": "code",
    "id": "YkhHIwoW5adU",
    "outputId": "787ca819-50f7-4135-98d6-31511be492e1"
   },
   "outputs": [
    {
     "data": {
      "text/html": [
       "<div>\n",
       "<style scoped>\n",
       "    .dataframe tbody tr th:only-of-type {\n",
       "        vertical-align: middle;\n",
       "    }\n",
       "\n",
       "    .dataframe tbody tr th {\n",
       "        vertical-align: top;\n",
       "    }\n",
       "\n",
       "    .dataframe thead th {\n",
       "        text-align: right;\n",
       "    }\n",
       "</style>\n",
       "<table border=\"1\" class=\"dataframe\">\n",
       "  <thead>\n",
       "    <tr style=\"text-align: right;\">\n",
       "      <th></th>\n",
       "      <th>Length</th>\n",
       "      <th>dT</th>\n",
       "      <th>dT2</th>\n",
       "      <th>dT3</th>\n",
       "      <th>is_HTTP</th>\n",
       "      <th>is_TCP</th>\n",
       "      <th>is_UDP</th>\n",
       "      <th>is_OTHER</th>\n",
       "    </tr>\n",
       "  </thead>\n",
       "  <tbody>\n",
       "    <tr>\n",
       "      <th>0</th>\n",
       "      <td>-0.081194</td>\n",
       "      <td>-0.002757</td>\n",
       "      <td>0.000016</td>\n",
       "      <td>-0.000009</td>\n",
       "      <td>-1</td>\n",
       "      <td>-1</td>\n",
       "      <td>-1</td>\n",
       "      <td>1</td>\n",
       "    </tr>\n",
       "    <tr>\n",
       "      <th>1</th>\n",
       "      <td>-0.139957</td>\n",
       "      <td>-0.002757</td>\n",
       "      <td>0.000016</td>\n",
       "      <td>-0.000009</td>\n",
       "      <td>-1</td>\n",
       "      <td>1</td>\n",
       "      <td>-1</td>\n",
       "      <td>-1</td>\n",
       "    </tr>\n",
       "    <tr>\n",
       "      <th>2</th>\n",
       "      <td>-0.210472</td>\n",
       "      <td>-0.002757</td>\n",
       "      <td>0.000016</td>\n",
       "      <td>-0.000009</td>\n",
       "      <td>-1</td>\n",
       "      <td>1</td>\n",
       "      <td>-1</td>\n",
       "      <td>-1</td>\n",
       "    </tr>\n",
       "    <tr>\n",
       "      <th>3</th>\n",
       "      <td>0.500557</td>\n",
       "      <td>0.026265</td>\n",
       "      <td>0.000016</td>\n",
       "      <td>-0.000009</td>\n",
       "      <td>-1</td>\n",
       "      <td>-1</td>\n",
       "      <td>-1</td>\n",
       "      <td>1</td>\n",
       "    </tr>\n",
       "    <tr>\n",
       "      <th>4</th>\n",
       "      <td>-0.210472</td>\n",
       "      <td>0.025148</td>\n",
       "      <td>0.000016</td>\n",
       "      <td>-0.000009</td>\n",
       "      <td>-1</td>\n",
       "      <td>1</td>\n",
       "      <td>-1</td>\n",
       "      <td>-1</td>\n",
       "    </tr>\n",
       "    <tr>\n",
       "      <th>...</th>\n",
       "      <td>...</td>\n",
       "      <td>...</td>\n",
       "      <td>...</td>\n",
       "      <td>...</td>\n",
       "      <td>...</td>\n",
       "      <td>...</td>\n",
       "      <td>...</td>\n",
       "      <td>...</td>\n",
       "    </tr>\n",
       "    <tr>\n",
       "      <th>156312</th>\n",
       "      <td>-0.280987</td>\n",
       "      <td>-0.002218</td>\n",
       "      <td>-0.001410</td>\n",
       "      <td>0.004253</td>\n",
       "      <td>-1</td>\n",
       "      <td>-1</td>\n",
       "      <td>1</td>\n",
       "      <td>-1</td>\n",
       "    </tr>\n",
       "    <tr>\n",
       "      <th>156313</th>\n",
       "      <td>-0.280987</td>\n",
       "      <td>-0.002219</td>\n",
       "      <td>-0.000391</td>\n",
       "      <td>0.006012</td>\n",
       "      <td>-1</td>\n",
       "      <td>-1</td>\n",
       "      <td>1</td>\n",
       "      <td>-1</td>\n",
       "    </tr>\n",
       "    <tr>\n",
       "      <th>156314</th>\n",
       "      <td>-0.280987</td>\n",
       "      <td>-0.001946</td>\n",
       "      <td>0.000022</td>\n",
       "      <td>0.006504</td>\n",
       "      <td>-1</td>\n",
       "      <td>-1</td>\n",
       "      <td>1</td>\n",
       "      <td>-1</td>\n",
       "    </tr>\n",
       "    <tr>\n",
       "      <th>156315</th>\n",
       "      <td>-0.280987</td>\n",
       "      <td>-0.002132</td>\n",
       "      <td>0.000078</td>\n",
       "      <td>0.000853</td>\n",
       "      <td>-1</td>\n",
       "      <td>-1</td>\n",
       "      <td>1</td>\n",
       "      <td>-1</td>\n",
       "    </tr>\n",
       "    <tr>\n",
       "      <th>156316</th>\n",
       "      <td>-0.280987</td>\n",
       "      <td>-0.000927</td>\n",
       "      <td>0.000938</td>\n",
       "      <td>0.000760</td>\n",
       "      <td>-1</td>\n",
       "      <td>-1</td>\n",
       "      <td>1</td>\n",
       "      <td>-1</td>\n",
       "    </tr>\n",
       "  </tbody>\n",
       "</table>\n",
       "<p>491855 rows × 8 columns</p>\n",
       "</div>"
      ],
      "text/plain": [
       "          Length        dT       dT2       dT3  is_HTTP  is_TCP  is_UDP  \\\n",
       "0      -0.081194 -0.002757  0.000016 -0.000009       -1      -1      -1   \n",
       "1      -0.139957 -0.002757  0.000016 -0.000009       -1       1      -1   \n",
       "2      -0.210472 -0.002757  0.000016 -0.000009       -1       1      -1   \n",
       "3       0.500557  0.026265  0.000016 -0.000009       -1      -1      -1   \n",
       "4      -0.210472  0.025148  0.000016 -0.000009       -1       1      -1   \n",
       "...          ...       ...       ...       ...      ...     ...     ...   \n",
       "156312 -0.280987 -0.002218 -0.001410  0.004253       -1      -1       1   \n",
       "156313 -0.280987 -0.002219 -0.000391  0.006012       -1      -1       1   \n",
       "156314 -0.280987 -0.001946  0.000022  0.006504       -1      -1       1   \n",
       "156315 -0.280987 -0.002132  0.000078  0.000853       -1      -1       1   \n",
       "156316 -0.280987 -0.000927  0.000938  0.000760       -1      -1       1   \n",
       "\n",
       "        is_OTHER  \n",
       "0              1  \n",
       "1             -1  \n",
       "2             -1  \n",
       "3              1  \n",
       "4             -1  \n",
       "...          ...  \n",
       "156312        -1  \n",
       "156313        -1  \n",
       "156314        -1  \n",
       "156315        -1  \n",
       "156316        -1  \n",
       "\n",
       "[491855 rows x 8 columns]"
      ]
     },
     "execution_count": 30,
     "metadata": {},
     "output_type": "execute_result"
    }
   ],
   "source": [
    "packet_features"
   ]
  },
  {
   "cell_type": "markdown",
   "metadata": {
    "colab_type": "text",
    "id": "Z0pmjLO25adX"
   },
   "source": [
    "### Train and Test Neural Net"
   ]
  },
  {
   "cell_type": "code",
   "execution_count": 31,
   "metadata": {
    "colab": {
     "autoexec": {
      "startup": false,
      "wait_interval": 0
     }
    },
    "colab_type": "code",
    "id": "UHlJruCZ5adY"
   },
   "outputs": [],
   "source": [
    "def train_test(data, labels):\n",
    "    x_train, x_test, y_train, y_test = train_test_split(data, labels, test_size=0.15)   \n",
    "\n",
    "    model = Sequential()\n",
    "    model.add(Dense(11, activation='relu', input_dim=data.shape[1]))\n",
    "    model.add(Dense(11, activation='relu'))\n",
    "    model.add(Dense(11, activation='relu'))\n",
    "    model.add(Dense(1, activation='sigmoid'))\n",
    "    model.compile(optimizer='rmsprop',\n",
    "                  loss='binary_crossentropy',\n",
    "                  metrics=['accuracy'])\n",
    "    model.fit(x_train, y_train, epochs=100, batch_size=32)\n",
    "    y_predict = np.round(model.predict(x_test, batch_size=128))\n",
    "    \n",
    "    # Analyze\n",
    "    \n",
    "    precision, recall, f1, _ = precision_recall_fscore_support(y_test, y_predict)\n",
    "    error = zero_one_loss(y_test, y_predict,)\n",
    "    accuracy = 1 - error\n",
    "\n",
    "    print(\"Normal Precision: \" + str(precision[0]))\n",
    "    print(\"Attack Precision: \" + str(precision[1]))\n",
    "    print(\"Normal Recall: \" + str(recall[0])) \n",
    "    print(\"Attack Recall: \" + str(recall[1])) \n",
    "    print(\"Normal F1: \" + str(f1[0]))\n",
    "    print(\"Attack F1: \" + str(f1[1]))\n",
    "    print(\"Error \" + str(error))\n",
    "    print(\"Accuracy \" + str(accuracy))\n",
    "\n",
    "    # confusion matrix    \n",
    "    plt.figure()\n",
    "    classes = ['Normal', 'Attack']\n",
    "    cm = confusion_matrix(y_test, y_predict)\n",
    "    np.set_printoptions(precision=2)\n",
    "\n",
    "    plt.imshow(cm, interpolation='nearest', cmap=plt.cm.Blues)\n",
    "    plt.title('Confusion Matrix')\n",
    "    plt.colorbar()\n",
    "    tick_marks = np.arange(len(classes))\n",
    "    plt.xticks(tick_marks, classes, rotation=45)\n",
    "    plt.yticks(tick_marks, classes)\n",
    "\n",
    "    thresh = cm.max() / 2.\n",
    "    for i, j in itertools.product(range(cm.shape[0]), range(cm.shape[1])):\n",
    "        plt.text(j, i, cm[i, j],\n",
    "                 horizontalalignment=\"center\",\n",
    "                 color=\"white\" if cm[i, j] > thresh else \"black\")\n",
    "\n",
    "    plt.tight_layout()\n",
    "    plt.ylabel('True label')\n",
    "    plt.xlabel('Predicted label')\n",
    "    plt.show()"
   ]
  },
  {
   "cell_type": "code",
   "execution_count": 32,
   "metadata": {
    "colab": {
     "autoexec": {
      "startup": false,
      "wait_interval": 0
     }
    },
    "colab_type": "code",
    "id": "YqbnXe-O5adb",
    "outputId": "c05b1ce5-faaf-492e-a5a4-d4d3d2c3925e"
   },
   "outputs": [
    {
     "name": "stderr",
     "output_type": "stream",
     "text": [
      "2023-02-13 19:37:18.612607: W tensorflow/compiler/xla/stream_executor/platform/default/dso_loader.cc:64] Could not load dynamic library 'libcudnn.so.8'; dlerror: libcudnn.so.8: cannot open shared object file: No such file or directory\n",
      "2023-02-13 19:37:18.612633: W tensorflow/core/common_runtime/gpu/gpu_device.cc:1934] Cannot dlopen some GPU libraries. Please make sure the missing libraries mentioned above are installed properly if you would like to use GPU. Follow the guide at https://www.tensorflow.org/install/gpu for how to download and setup the required libraries for your platform.\n",
      "Skipping registering GPU devices...\n",
      "2023-02-13 19:37:18.613066: I tensorflow/core/platform/cpu_feature_guard.cc:193] This TensorFlow binary is optimized with oneAPI Deep Neural Network Library (oneDNN) to use the following CPU instructions in performance-critical operations:  AVX2 AVX512F AVX512_VNNI FMA\n",
      "To enable them in other operations, rebuild TensorFlow with the appropriate compiler flags.\n"
     ]
    },
    {
     "name": "stdout",
     "output_type": "stream",
     "text": [
      "Epoch 1/100\n",
      "13065/13065 [==============================] - 15s 1ms/step - loss: 0.0411 - accuracy: 0.9923\n",
      "Epoch 2/100\n",
      "13065/13065 [==============================] - 14s 1ms/step - loss: 0.0316 - accuracy: 0.9953\n",
      "Epoch 3/100\n",
      "13065/13065 [==============================] - 14s 1ms/step - loss: 0.0368 - accuracy: 0.9953\n",
      "Epoch 4/100\n",
      "13065/13065 [==============================] - 14s 1ms/step - loss: 0.0359 - accuracy: 0.9951\n",
      "Epoch 5/100\n",
      "13065/13065 [==============================] - 14s 1ms/step - loss: 0.0339 - accuracy: 0.9949\n",
      "Epoch 6/100\n",
      "13065/13065 [==============================] - 14s 1ms/step - loss: 0.0324 - accuracy: 0.9950\n",
      "Epoch 7/100\n",
      "13065/13065 [==============================] - 15s 1ms/step - loss: 0.0294 - accuracy: 0.9952\n",
      "Epoch 8/100\n",
      "13065/13065 [==============================] - 14s 1ms/step - loss: 0.0285 - accuracy: 0.9952\n",
      "Epoch 9/100\n",
      "13065/13065 [==============================] - 14s 1ms/step - loss: 0.0272 - accuracy: 0.9953\n",
      "Epoch 10/100\n",
      "13065/13065 [==============================] - 14s 1ms/step - loss: 0.0265 - accuracy: 0.9954\n",
      "Epoch 11/100\n",
      "13065/13065 [==============================] - 14s 1ms/step - loss: 0.0272 - accuracy: 0.9955\n",
      "Epoch 12/100\n",
      "13065/13065 [==============================] - 14s 1ms/step - loss: 0.0260 - accuracy: 0.9954\n",
      "Epoch 13/100\n",
      "13065/13065 [==============================] - 15s 1ms/step - loss: 0.0244 - accuracy: 0.9955\n",
      "Epoch 14/100\n",
      "13065/13065 [==============================] - 14s 1ms/step - loss: 0.0240 - accuracy: 0.9954\n",
      "Epoch 15/100\n",
      "13065/13065 [==============================] - 15s 1ms/step - loss: 0.0251 - accuracy: 0.9953\n",
      "Epoch 16/100\n",
      "13065/13065 [==============================] - 14s 1ms/step - loss: 0.0252 - accuracy: 0.9954\n",
      "Epoch 17/100\n",
      "13065/13065 [==============================] - 14s 1ms/step - loss: 0.0248 - accuracy: 0.9954\n",
      "Epoch 18/100\n",
      "13065/13065 [==============================] - 14s 1ms/step - loss: 0.0231 - accuracy: 0.9956\n",
      "Epoch 19/100\n",
      "13065/13065 [==============================] - 14s 1ms/step - loss: 0.0217 - accuracy: 0.9958\n",
      "Epoch 20/100\n",
      "13065/13065 [==============================] - 14s 1ms/step - loss: 0.0196 - accuracy: 0.9960\n",
      "Epoch 21/100\n",
      "13065/13065 [==============================] - 14s 1ms/step - loss: 0.0174 - accuracy: 0.9960\n",
      "Epoch 22/100\n",
      "13065/13065 [==============================] - 14s 1ms/step - loss: 0.0170 - accuracy: 0.9961\n",
      "Epoch 23/100\n",
      "13065/13065 [==============================] - 14s 1ms/step - loss: 0.0176 - accuracy: 0.9962\n",
      "Epoch 24/100\n",
      "13065/13065 [==============================] - 14s 1ms/step - loss: 0.0175 - accuracy: 0.9964\n",
      "Epoch 25/100\n",
      "13065/13065 [==============================] - 14s 1ms/step - loss: 0.0175 - accuracy: 0.9966\n",
      "Epoch 26/100\n",
      "13065/13065 [==============================] - 14s 1ms/step - loss: 0.0186 - accuracy: 0.9967\n",
      "Epoch 27/100\n",
      "13065/13065 [==============================] - 14s 1ms/step - loss: 0.0189 - accuracy: 0.9967\n",
      "Epoch 28/100\n",
      "13065/13065 [==============================] - 14s 1ms/step - loss: 0.0200 - accuracy: 0.9966\n",
      "Epoch 29/100\n",
      "13065/13065 [==============================] - 14s 1ms/step - loss: 0.0201 - accuracy: 0.9967\n",
      "Epoch 30/100\n",
      "13065/13065 [==============================] - 14s 1ms/step - loss: 0.0200 - accuracy: 0.9968\n",
      "Epoch 31/100\n",
      "13065/13065 [==============================] - 15s 1ms/step - loss: 0.0196 - accuracy: 0.9971\n",
      "Epoch 32/100\n",
      "13065/13065 [==============================] - 14s 1ms/step - loss: 0.0192 - accuracy: 0.9971\n",
      "Epoch 33/100\n",
      "13065/13065 [==============================] - 15s 1ms/step - loss: 0.0194 - accuracy: 0.9971\n",
      "Epoch 34/100\n",
      "13065/13065 [==============================] - 15s 1ms/step - loss: 0.0196 - accuracy: 0.9970\n",
      "Epoch 35/100\n",
      "13065/13065 [==============================] - 14s 1ms/step - loss: 0.0203 - accuracy: 0.9972\n",
      "Epoch 36/100\n",
      "13065/13065 [==============================] - 14s 1ms/step - loss: 0.0218 - accuracy: 0.9975\n",
      "Epoch 37/100\n",
      "13065/13065 [==============================] - 14s 1ms/step - loss: 0.0223 - accuracy: 0.9975\n",
      "Epoch 38/100\n",
      "13065/13065 [==============================] - 14s 1ms/step - loss: 0.0221 - accuracy: 0.9975\n",
      "Epoch 39/100\n",
      "13065/13065 [==============================] - 14s 1ms/step - loss: 0.0206 - accuracy: 0.9974\n",
      "Epoch 40/100\n",
      "13065/13065 [==============================] - 14s 1ms/step - loss: 0.0192 - accuracy: 0.9975\n",
      "Epoch 41/100\n",
      "13065/13065 [==============================] - 14s 1ms/step - loss: 0.0188 - accuracy: 0.9975\n",
      "Epoch 42/100\n",
      "13065/13065 [==============================] - 14s 1ms/step - loss: 0.0182 - accuracy: 0.9976\n",
      "Epoch 43/100\n",
      "13065/13065 [==============================] - 14s 1ms/step - loss: 0.0191 - accuracy: 0.9977\n",
      "Epoch 44/100\n",
      "13065/13065 [==============================] - 14s 1ms/step - loss: 0.0207 - accuracy: 0.9979\n",
      "Epoch 45/100\n",
      "13065/13065 [==============================] - 14s 1ms/step - loss: 0.0197 - accuracy: 0.9980\n",
      "Epoch 46/100\n",
      "13065/13065 [==============================] - 14s 1ms/step - loss: 0.0211 - accuracy: 0.9981\n",
      "Epoch 47/100\n",
      "13065/13065 [==============================] - 14s 1ms/step - loss: 0.0235 - accuracy: 0.9980\n",
      "Epoch 48/100\n",
      "13065/13065 [==============================] - 14s 1ms/step - loss: 0.0267 - accuracy: 0.9979\n",
      "Epoch 49/100\n",
      "13065/13065 [==============================] - 14s 1ms/step - loss: 0.0243 - accuracy: 0.9979\n",
      "Epoch 50/100\n",
      "13065/13065 [==============================] - 14s 1ms/step - loss: 0.0233 - accuracy: 0.9978\n",
      "Epoch 51/100\n",
      "13065/13065 [==============================] - 14s 1ms/step - loss: 0.0228 - accuracy: 0.9976\n",
      "Epoch 52/100\n",
      "13065/13065 [==============================] - 15s 1ms/step - loss: 0.0219 - accuracy: 0.9977\n",
      "Epoch 53/100\n",
      "13065/13065 [==============================] - 14s 1ms/step - loss: 0.0233 - accuracy: 0.9976\n",
      "Epoch 54/100\n",
      "13065/13065 [==============================] - 14s 1ms/step - loss: 0.0217 - accuracy: 0.9975\n",
      "Epoch 55/100\n",
      "13065/13065 [==============================] - 14s 1ms/step - loss: 0.0214 - accuracy: 0.9975\n",
      "Epoch 56/100\n",
      "13065/13065 [==============================] - 14s 1ms/step - loss: 0.0189 - accuracy: 0.9976\n",
      "Epoch 57/100\n",
      "13065/13065 [==============================] - 14s 1ms/step - loss: 0.0170 - accuracy: 0.9977\n",
      "Epoch 58/100\n",
      "13065/13065 [==============================] - 15s 1ms/step - loss: 0.0176 - accuracy: 0.9976\n",
      "Epoch 59/100\n",
      "13065/13065 [==============================] - 14s 1ms/step - loss: 0.0177 - accuracy: 0.9977\n",
      "Epoch 60/100\n",
      "13065/13065 [==============================] - 14s 1ms/step - loss: 0.0183 - accuracy: 0.9978\n",
      "Epoch 61/100\n",
      "13065/13065 [==============================] - 15s 1ms/step - loss: 0.0195 - accuracy: 0.9977\n",
      "Epoch 62/100\n",
      "13065/13065 [==============================] - 14s 1ms/step - loss: 0.0186 - accuracy: 0.9978\n",
      "Epoch 63/100\n",
      "13065/13065 [==============================] - 14s 1ms/step - loss: 0.0187 - accuracy: 0.9977\n",
      "Epoch 64/100\n",
      "13065/13065 [==============================] - 14s 1ms/step - loss: 0.0189 - accuracy: 0.9978\n",
      "Epoch 65/100\n",
      "13065/13065 [==============================] - 14s 1ms/step - loss: 0.0181 - accuracy: 0.9979\n",
      "Epoch 66/100\n",
      "13065/13065 [==============================] - 14s 1ms/step - loss: 0.0181 - accuracy: 0.9980\n",
      "Epoch 67/100\n",
      "13065/13065 [==============================] - 14s 1ms/step - loss: 0.0191 - accuracy: 0.9980\n",
      "Epoch 68/100\n",
      "13065/13065 [==============================] - 14s 1ms/step - loss: 0.0195 - accuracy: 0.9980\n",
      "Epoch 69/100\n",
      "13065/13065 [==============================] - 14s 1ms/step - loss: 0.0199 - accuracy: 0.9979\n",
      "Epoch 70/100\n",
      "13065/13065 [==============================] - 14s 1ms/step - loss: 0.0201 - accuracy: 0.9979\n",
      "Epoch 71/100\n",
      "13065/13065 [==============================] - 15s 1ms/step - loss: 0.0178 - accuracy: 0.9979\n",
      "Epoch 72/100\n",
      "13065/13065 [==============================] - 14s 1ms/step - loss: 0.0190 - accuracy: 0.9979\n",
      "Epoch 73/100\n",
      "13065/13065 [==============================] - 15s 1ms/step - loss: 0.0206 - accuracy: 0.9979\n",
      "Epoch 74/100\n",
      "13065/13065 [==============================] - 14s 1ms/step - loss: 0.0214 - accuracy: 0.9979\n",
      "Epoch 75/100\n",
      "13065/13065 [==============================] - 14s 1ms/step - loss: 0.0207 - accuracy: 0.9980\n",
      "Epoch 76/100\n",
      "13065/13065 [==============================] - 14s 1ms/step - loss: 0.0190 - accuracy: 0.9980\n",
      "Epoch 77/100\n",
      "13065/13065 [==============================] - 14s 1ms/step - loss: 0.0188 - accuracy: 0.9980\n",
      "Epoch 78/100\n",
      "13065/13065 [==============================] - 14s 1ms/step - loss: 0.0198 - accuracy: 0.9981\n",
      "Epoch 79/100\n",
      "13065/13065 [==============================] - 14s 1ms/step - loss: 0.0180 - accuracy: 0.9982\n",
      "Epoch 80/100\n",
      "13065/13065 [==============================] - 15s 1ms/step - loss: 0.0180 - accuracy: 0.9981\n",
      "Epoch 81/100\n",
      "13065/13065 [==============================] - 15s 1ms/step - loss: 0.0156 - accuracy: 0.9983\n",
      "Epoch 82/100\n",
      "13065/13065 [==============================] - 14s 1ms/step - loss: 0.0156 - accuracy: 0.9984\n",
      "Epoch 83/100\n",
      "13065/13065 [==============================] - 14s 1ms/step - loss: 0.0142 - accuracy: 0.9985\n",
      "Epoch 84/100\n",
      "13065/13065 [==============================] - 15s 1ms/step - loss: 0.0138 - accuracy: 0.9984\n",
      "Epoch 85/100\n",
      "13065/13065 [==============================] - 14s 1ms/step - loss: 0.0152 - accuracy: 0.9982\n",
      "Epoch 86/100\n",
      "13065/13065 [==============================] - 14s 1ms/step - loss: 0.0143 - accuracy: 0.9983\n",
      "Epoch 87/100\n",
      "13065/13065 [==============================] - 14s 1ms/step - loss: 0.0149 - accuracy: 0.9982\n",
      "Epoch 88/100\n",
      "13065/13065 [==============================] - 14s 1ms/step - loss: 0.0152 - accuracy: 0.9982\n",
      "Epoch 89/100\n",
      "13065/13065 [==============================] - 14s 1ms/step - loss: 0.0141 - accuracy: 0.9983\n",
      "Epoch 90/100\n",
      "13065/13065 [==============================] - 15s 1ms/step - loss: 0.0150 - accuracy: 0.9984\n",
      "Epoch 91/100\n",
      "13065/13065 [==============================] - 14s 1ms/step - loss: 0.0158 - accuracy: 0.9984\n",
      "Epoch 92/100\n",
      "13065/13065 [==============================] - 14s 1ms/step - loss: 0.0167 - accuracy: 0.9984\n",
      "Epoch 93/100\n",
      "13065/13065 [==============================] - 15s 1ms/step - loss: 0.0167 - accuracy: 0.9984\n",
      "Epoch 94/100\n",
      "13065/13065 [==============================] - 14s 1ms/step - loss: 0.0173 - accuracy: 0.9983\n",
      "Epoch 95/100\n",
      "13065/13065 [==============================] - 14s 1ms/step - loss: 0.0174 - accuracy: 0.9984\n",
      "Epoch 96/100\n",
      "13065/13065 [==============================] - 14s 1ms/step - loss: 0.0187 - accuracy: 0.9984\n",
      "Epoch 97/100\n",
      "13065/13065 [==============================] - 14s 1ms/step - loss: 0.0201 - accuracy: 0.9983\n",
      "Epoch 98/100\n",
      "13065/13065 [==============================] - 14s 1ms/step - loss: 0.0212 - accuracy: 0.9983\n",
      "Epoch 99/100\n",
      "13065/13065 [==============================] - 14s 1ms/step - loss: 0.0197 - accuracy: 0.9983\n",
      "Epoch 100/100\n",
      "13065/13065 [==============================] - 15s 1ms/step - loss: 0.0200 - accuracy: 0.9982\n",
      "577/577 [==============================] - 1s 828us/step\n",
      "Normal Precision: 0.991436925647452\n",
      "Attack Precision: 0.998985374903973\n",
      "Normal Recall: 0.98546813369317\n",
      "Attack Recall: 0.9994054696789536\n",
      "Normal F1: 0.9884435190005205\n",
      "Attack F1: 0.9991953781360319\n",
      "Error 0.001504493148456909\n",
      "Accuracy 0.9984955068515431\n"
     ]
    },
    {
     "data": {
      "image/png": "[encoded data removed]",
      "text/plain": [
       "<Figure size 640x480 with 2 Axes>"
      ]
     },
     "metadata": {},
     "output_type": "display_data"
    }
   ],
   "source": [
    "train_test(all_features.values, all_labels)"
   ]
  },
  {
   "cell_type": "markdown",
   "metadata": {
    "colab_type": "text",
    "id": "ZU53wFLi5adi"
   },
   "source": [
    "### Train and Test General ML Techniques"
   ]
  },
  {
   "cell_type": "code",
   "execution_count": 33,
   "metadata": {
    "colab": {
     "autoexec": {
      "startup": false,
      "wait_interval": 0
     }
    },
    "colab_type": "code",
    "id": "vxj-Yakk5adj"
   },
   "outputs": [],
   "source": [
    "# To validate our data, we split the samples into 10 folds, a standard practice for binary classification tasks.\n",
    "# To get a general sense of how each of the classifiers perform, we iteratively train on 9 of the folds (after \n",
    "# finetuning) and test on the one fold that is withheld. We average the performance across the 10 tests to compensate\n",
    "# for the possibility of overfitting when evaluating our classifiers. \n",
    "\n",
    "# sigmoid function for normalizing values between 0 and 1\n",
    "def sig(x):\n",
    "    return 1/(1+np.exp(-x))\n",
    "\n",
    "# classifies the model on training data and returns zero-one loss on test data\n",
    "def classify(model, x_train, x_test, y_train, y_test):\n",
    "    classifier = model\n",
    "    if classifier.__class__.__name__ == \"MultinomialNB\":\n",
    "        classifier.fit(sig(x_train),y_train)\n",
    "    else:\n",
    "        classifier.fit(x_train,y_train)\n",
    "    y_predict = classifier.predict(x_test)\n",
    "    \n",
    "    # ANALYSIS: \n",
    "    print(\"==================================\")\n",
    "    print(classifier.__class__.__name__ + \":\")\n",
    "    \n",
    "    precision, recall, f1, _ = precision_recall_fscore_support(y_test, y_predict)\n",
    "    error = zero_one_loss(y_test, y_predict,)\n",
    "    accuracy = 1 - error\n",
    "    \n",
    "    print(\"Normal Precision: \" + str(precision[0]))\n",
    "    print(\"Attack Precision: \" + str(precision[1]))\n",
    "    print(\"Normal Recall: \" + str(recall[0])) \n",
    "    print(\"Attack Recall: \" + str(recall[1])) \n",
    "    print(\"Normal F1: \" + str(f1[0]))\n",
    "    print(\"Attack F1: \" + str(f1[1]))\n",
    "    print(\"Error \" + str(error))\n",
    "    print(\"Accuracy \" + str(accuracy))\n",
    "    \n",
    "    # confusion matrix    \n",
    "    plt.figure()\n",
    "    classes = ['Normal', 'Attack']\n",
    "    cm = confusion_matrix(y_test, y_predict)\n",
    "    np.set_printoptions(precision=2)\n",
    "\n",
    "    plt.imshow(cm, interpolation='nearest', cmap=plt.cm.Blues)\n",
    "    plt.title('Confusion Matrix')\n",
    "    plt.colorbar()\n",
    "    tick_marks = np.arange(len(classes))\n",
    "    plt.xticks(tick_marks, classes, rotation=45)\n",
    "    plt.yticks(tick_marks, classes)\n",
    "\n",
    "    thresh = cm.max() / 2.\n",
    "    for i, j in itertools.product(range(cm.shape[0]), range(cm.shape[1])):\n",
    "        plt.text(j, i, cm[i, j],\n",
    "                 horizontalalignment=\"center\",\n",
    "                 color=\"white\" if cm[i, j] > thresh else \"black\")\n",
    "\n",
    "    plt.tight_layout()\n",
    "    plt.ylabel('True label')\n",
    "    plt.xlabel('Predicted label')\n",
    "    plt.show()\n",
    "    \n",
    "    # print feature importance\n",
    "    if classifier.__class__.__name__ == \"RandomForestClassifier\":\n",
    "        print(\"feature importance:\" )\n",
    "        feature_names = [\"Length\", \"dT\", \"dT2\", \"dT3\", \"is_HTTP\", \"is_TCP\", \"is_UDP\", \"is_OTHER\"]\n",
    "        feat_imp = dict(zip(feature_names, classifier.feature_importances_))\n",
    "        for feature in sorted(feat_imp.items(), key=lambda x: x[1], reverse=True):\n",
    "            print(feature)\n",
    "    \n",
    "def run_classification(data, labels): \n",
    "    model_error = [0, 0, 0, 0, 0]\n",
    "    x_train, x_test, y_train, y_test = train_test_split(data, labels, test_size=0.15)    \n",
    "\n",
    "    # Evaluate five standard classifiers. \n",
    "    classify(KNeighborsClassifier(), x_train, x_test, y_train, y_test)\n",
    "    classify(LinearSVC(), x_train, x_test, y_train, y_test)\n",
    "    classify(DecisionTreeClassifier(), x_train, x_test, y_train, y_test)\n",
    "    classify(RandomForestClassifier(), x_train, x_test, y_train, y_test)\n",
    "    \n",
    "    print(\"*Note on evaluation metric: Error = 1 - Accuracy = 1 - (# correct classifications)/(# total classifications)\")"
   ]
  },
  {
   "cell_type": "code",
   "execution_count": 34,
   "metadata": {
    "colab": {
     "autoexec": {
      "startup": false,
      "wait_interval": 0
     }
    },
    "colab_type": "code",
    "id": "0Ih3Iz9A5adm",
    "outputId": "b4a1bdf7-2ae9-43fe-f3f5-976cb5e1f9dc"
   },
   "outputs": [
    {
     "name": "stdout",
     "output_type": "stream",
     "text": [
      "==================================\n",
      "KNeighborsClassifier:\n",
      "Normal Precision: 0.9977197346600332\n",
      "Attack Precision: 0.9994779203828584\n",
      "Normal Recall: 0.9925757888224376\n",
      "Attack Recall: 0.9998404178151749\n",
      "Normal F1: 0.9951411144422619\n",
      "Attack F1: 0.9996591362367191\n",
      "Error 0.0006370376394366772\n",
      "Accuracy 0.9993629623605633\n"
     ]
    },
    {
     "data": {
      "image/png": "[encoded data removed]",
      "text/plain": [
       "<Figure size 640x480 with 2 Axes>"
      ]
     },
     "metadata": {},
     "output_type": "display_data"
    },
    {
     "name": "stderr",
     "output_type": "stream",
     "text": [
      "/home/navya/.local/lib/python3.10/site-packages/sklearn/svm/_base.py:1225: ConvergenceWarning: Liblinear failed to converge, increase the number of iterations.\n",
      "  warnings.warn(\n"
     ]
    },
    {
     "name": "stdout",
     "output_type": "stream",
     "text": [
      "==================================\n",
      "LinearSVC:\n",
      "Normal Precision: 0.9928588431325874\n",
      "Attack Precision: 0.990255540544425\n",
      "Normal Recall: 0.8601773561559084\n",
      "Attack Recall: 0.9995647758595677\n",
      "Normal F1: 0.9217679558011049\n",
      "Attack F1: 0.9948883818985186\n",
      "Error 0.00959622656853576\n",
      "Accuracy 0.9904037734314642\n"
     ]
    },
    {
     "data": {
      "image/png": "[encoded data removed]",
      "text/plain": [
       "<Figure size 640x480 with 2 Axes>"
      ]
     },
     "metadata": {},
     "output_type": "display_data"
    },
    {
     "name": "stdout",
     "output_type": "stream",
     "text": [
      "==================================\n",
      "DecisionTreeClassifier:\n",
      "Normal Precision: 0.9954517262766177\n",
      "Attack Precision: 0.9995068318296539\n",
      "Normal Recall: 0.9929882449989689\n",
      "Attack Recall: 0.9996808356303496\n",
      "Normal F1: 0.9942184596324591\n",
      "Attack F1: 0.9995938261575954\n",
      "Error 0.0007590235703927029\n",
      "Accuracy 0.9992409764296073\n"
     ]
    },
    {
     "data": {
      "image/png": "[encoded data removed]",
      "text/plain": [
       "<Figure size 640x480 with 2 Axes>"
      ]
     },
     "metadata": {},
     "output_type": "display_data"
    },
    {
     "name": "stdout",
     "output_type": "stream",
     "text": [
      "==================================\n",
      "RandomForestClassifier:\n",
      "Normal Precision: 0.9991723567142562\n",
      "Attack Precision: 0.9997099179067677\n",
      "Normal Recall: 0.9958754382346876\n",
      "Attack Recall: 0.9999419701146091\n",
      "Normal F1: 0.9975211733112993\n",
      "Attack F1: 0.999825930546288\n",
      "Error 0.00032529581588258694\n",
      "Accuracy 0.9996747041841174\n"
     ]
    },
    {
     "data": {
      "image/png": "[encoded data removed]",
      "text/plain": [
       "<Figure size 640x480 with 2 Axes>"
      ]
     },
     "metadata": {},
     "output_type": "display_data"
    },
    {
     "name": "stdout",
     "output_type": "stream",
     "text": [
      "feature importance:\n",
      "('Length', 0.4611201207600871)\n",
      "('is_HTTP', 0.16467345410879997)\n",
      "('dT', 0.09244389810092041)\n",
      "('is_UDP', 0.07290842872857102)\n",
      "('is_TCP', 0.059655572630739416)\n",
      "('is_OTHER', 0.05103081551651918)\n",
      "('dT2', 0.021986429430082884)\n",
      "('dT3', 0.012733647330856728)\n",
      "*Note on evaluation metric: Error = 1 - Accuracy = 1 - (# correct classifications)/(# total classifications)\n"
     ]
    }
   ],
   "source": [
    "run_classification(all_features, all_labels)"
   ]
  },
  {
   "cell_type": "code",
   "execution_count": 35,
   "metadata": {
    "colab": {
     "autoexec": {
      "startup": false,
      "wait_interval": 0
     }
    },
    "colab_type": "code",
    "id": "v_6XNhvq5ady",
    "outputId": "a6c39481-2e49-4e80-9a7d-0627a83f2c9e"
   },
   "outputs": [
    {
     "data": {
      "text/plain": [
       "(491855,)"
      ]
     },
     "execution_count": 35,
     "metadata": {},
     "output_type": "execute_result"
    }
   ],
   "source": [
    "all_labels.shape"
   ]
  },
  {
   "cell_type": "code",
   "execution_count": 36,
   "metadata": {
    "colab": {
     "autoexec": {
      "startup": false,
      "wait_interval": 0
     }
    },
    "colab_type": "code",
    "id": "vF8Cxn9N5ad1",
    "outputId": "686bdc29-9a7c-406e-c880-56ae2f67793a"
   },
   "outputs": [
    {
     "data": {
      "text/plain": [
       "(459565,)"
      ]
     },
     "execution_count": 36,
     "metadata": {},
     "output_type": "execute_result"
    }
   ],
   "source": [
    "all_labels[all_labels==1].shape"
   ]
  },
  {
   "cell_type": "code",
   "execution_count": 37,
   "metadata": {
    "colab": {
     "autoexec": {
      "startup": false,
      "wait_interval": 0
     }
    },
    "colab_type": "code",
    "id": "sJBm3bin5ad4",
    "outputId": "e2aa658a-bdc1-4b75-f861-1db845281e22"
   },
   "outputs": [
    {
     "data": {
      "text/plain": [
       "(32290,)"
      ]
     },
     "execution_count": 37,
     "metadata": {},
     "output_type": "execute_result"
    }
   ],
   "source": [
    "all_labels[all_labels==0].shape"
   ]
  },
  {
   "cell_type": "code",
   "execution_count": null,
   "metadata": {},
   "outputs": [],
   "source": []
  }
 ],
 "metadata": {
  "colab": {
   "default_view": {},
   "name": "main_with_deep_learning.ipynb",
   "provenance": [],
   "version": "0.3.2",
   "views": {}
  },
  "kernelspec": {
   "display_name": "Python 3 (ipykernel)",
   "language": "python",
   "name": "python3"
  },
  "language_info": {
   "codemirror_mode": {
    "name": "ipython",
    "version": 3
   },
   "file_extension": ".py",
   "mimetype": "text/x-python",
   "name": "python",
   "nbconvert_exporter": "python",
   "pygments_lexer": "ipython3",
   "version": "3.10.6"
  }
 },
 "nbformat": 4,
 "nbformat_minor": 4
}
