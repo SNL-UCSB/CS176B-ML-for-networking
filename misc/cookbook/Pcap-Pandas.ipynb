{
 "cells": [
  {
   "cell_type": "markdown",
   "metadata": {
    "colab_type": "text",
    "id": "R8_tXuib6G6f"
   },
   "source": [
    "### Import Libraries"
   ]
  },
  {
   "cell_type": "code",
   "execution_count": 4,
   "metadata": {
    "colab": {},
    "colab_type": "code",
    "id": "RkemJv0c4MSE"
   },
   "outputs": [],
   "source": [
    "import sys\n",
    "from scapy.all import *\n",
    "import numpy as np\n",
    "import pandas as pd\n",
    "\n",
    "import pickle\n",
    "import datetime\n",
    "import sys\n",
    "import os\n",
    "import ipaddress\n",
    "import netaddr"
   ]
  },
  {
   "cell_type": "markdown",
   "metadata": {
    "colab_type": "text",
    "id": "E7qG_kX_6OkM"
   },
   "source": [
    "### Upload Files from Local Machine (for Google Collaboratory)\n",
    "\n",
    "Here is code to upload a data file from the local home machine. For the purposes of this notebook, you should upload a packet capture (\"pcap\") file. A pcap file is a packet capture file that is generated from a network traffic capture, using a tool such as [Wireshark](https://wireshark.org) or tcpdump."
   ]
  },
  {
   "cell_type": "code",
   "execution_count": 10,
   "metadata": {
    "colab": {
     "base_uri": "https://localhost:8080/",
     "height": 89,
     "resources": {
      "http://localhost:8080/nbextensions/google.colab/files.js": {
       "data": "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",
       "headers": [
        [
         "content-type",
         "application/javascript"
        ]
       ],
       "ok": true,
       "status": 200,
       "status_text": "OK"
      }
     }
    },
    "colab_type": "code",
    "id": "0bMzmSSX5pQC",
    "outputId": "d3af75b7-d206-431b-fb8c-e43f7a7e86e2"
   },
   "outputs": [
    {
     "data": {
      "text/html": [
       "\n",
       "     <input type=\"file\" id=\"files-4baa918f-4cb0-4fd4-b896-d1b8349487f4\" name=\"files[]\" multiple disabled />\n",
       "     <output id=\"result-4baa918f-4cb0-4fd4-b896-d1b8349487f4\">\n",
       "      Upload widget is only available when the cell has been executed in the\n",
       "      current browser session. Please rerun this cell to enable.\n",
       "      </output>\n",
       "      <script src=\"/nbextensions/google.colab/files.js\"></script> "
      ],
      "text/plain": [
       "<IPython.core.display.HTML object>"
      ]
     },
     "metadata": {
      "tags": []
     },
     "output_type": "display_data"
    },
    {
     "name": "stdout",
     "output_type": "stream",
     "text": [
      "Saving google_home.pcap to google_home.pcap\n",
      "User uploaded file \"google_home.pcap\" with length 77630488 bytes\n"
     ]
    }
   ],
   "source": [
    "from google.colab import files\n",
    "\n",
    "uploaded = files.upload()\n",
    "\n",
    "for fn in uploaded.keys():\n",
    "  print('User uploaded file \"{name}\" with length {length} bytes'.format(\n",
    "      name=fn, length=len(uploaded[fn])))"
   ]
  },
  {
   "cell_type": "markdown",
   "metadata": {
    "colab_type": "text",
    "id": "p4wP-JFd9oMI"
   },
   "source": [
    "### Example of Using Scapy PcapReader to parse pcap."
   ]
  },
  {
   "cell_type": "markdown",
   "metadata": {},
   "source": [
    "This is a toy function.  All it does is use Scapy's PcapReader function and shows the first destination IP address in the packet capture."
   ]
  },
  {
   "cell_type": "code",
   "execution_count": 5,
   "metadata": {
    "colab": {},
    "colab_type": "code",
    "id": "CpHC5Tq54jZ6"
   },
   "outputs": [],
   "source": [
    "def load_pcap(pcap_file):\n",
    "  for pkt in PcapReader(pcap_file):\n",
    "    if IP in pkt:\n",
    "      print(pkt[IP].dst)\n",
    "      break"
   ]
  },
  {
   "cell_type": "markdown",
   "metadata": {},
   "source": [
    "If you upload to Google Collaboratory as above, you can load the pcap without a directory.  Otherwise you have to tell Python/Jupyter where the file is."
   ]
  },
  {
   "cell_type": "code",
   "execution_count": 6,
   "metadata": {},
   "outputs": [
    {
     "name": "stdout",
     "output_type": "stream",
     "text": [
      "../example_pcaps/google_home.pcap\n"
     ]
    }
   ],
   "source": [
    "dir = '../example_pcaps'\n",
    "file = \"{}/google_home.pcap\".format(dir)\n",
    "print(file)"
   ]
  },
  {
   "cell_type": "code",
   "execution_count": 7,
   "metadata": {
    "colab": {
     "base_uri": "https://localhost:8080/",
     "height": 34
    },
    "colab_type": "code",
    "id": "2isxKK-m5ATp",
    "outputId": "9c39a553-db41-4a88-b8de-98df47073f69"
   },
   "outputs": [
    {
     "name": "stdout",
     "output_type": "stream",
     "text": [
      "255.255.255.255\n"
     ]
    }
   ],
   "source": [
    "load_pcap(file)"
   ]
  },
  {
   "cell_type": "markdown",
   "metadata": {
    "colab_type": "text",
    "id": "2E-sj6JE9vdh"
   },
   "source": [
    "### Create a Pandas Data Frame from a Pcap"
   ]
  },
  {
   "cell_type": "code",
   "execution_count": 9,
   "metadata": {
    "colab": {},
    "colab_type": "code",
    "id": "775vxwJF5JD1"
   },
   "outputs": [],
   "source": [
    "def pcap_to_dict(pcap_file):\n",
    "    '''Parses a pcap file into a list of dicts.\n",
    "    Arguments:\n",
    "      pcap_file: string filepath of pcap file\n",
    "    Returns:\n",
    "      List of dicts with one dict per packet in pcap file.\n",
    "        The dicts have the following key/value pairs:\n",
    "          \"time\"     : time the packet was receieved in seconds since epoch\n",
    "          \"datetime\" : time the packet was received as a datetime object\n",
    "          \"length\"   : length of packet in bytes\n",
    "          \"mac_src\"  : source MAC address\n",
    "          \"mac_dst\"  : destination MAC address\n",
    "          \"ip_src\"   : source IP address\n",
    "          \"ip_dst\"   : destination IP address\n",
    "          \"protocol\" : 'TCP', 'UDP', 'ICMP', or None\n",
    "          \"port_src\" : source port\n",
    "          \"port_dst\" : destination port\n",
    "          \"is_dns\"   : True if packet is DNS packet, else False\n",
    "          \"dns_query\" : string DNS query\n",
    "          \"dns_resp\" : string DNS response'''\n",
    "          \n",
    "    data = []\n",
    "    with PcapReader(pcap_file) as pcap_reader:\n",
    "        for i, pkt in enumerate(pcap_reader):\n",
    "            pkt_dict = {}\n",
    "            #if i % 1000 == 0 and i != 0: print(i)\n",
    "            try:\n",
    "                if Ether not in pkt:\n",
    "                    continue\n",
    "                \n",
    "                pkt_dict[\"time\"] = pkt.time\n",
    "                pkt_dict[\"datetime\"] = datetime.datetime.fromtimestamp(pkt.time)\n",
    "                pkt_dict[\"length\"] = len(pkt)\n",
    "                pkt_dict[\"mac_dst\"] = pkt[Ether].dst\n",
    "                pkt_dict[\"mac_src\"] = pkt[Ether].src\n",
    "                pkt_dict[\"ip_dst\"] = None\n",
    "                pkt_dict[\"ip_src\"] = None\n",
    "                pkt_dict[\"protocol\"] = None\n",
    "                pkt_dict[\"port_dst\"] = None\n",
    "                pkt_dict[\"port_src\"] =  None\n",
    "                pkt_dict[\"is_dns\"] = False\n",
    "                pkt_dict[\"dns_query\"] = None\n",
    "                pkt_dict[\"dns_resp\"] = None\n",
    "                \n",
    "                if IP in pkt:\n",
    "                    pkt_dict[\"ip_dst\"] = pkt[IP].dst\n",
    "                    pkt_dict[\"ip_src\"] = pkt[IP].src\n",
    "                                \n",
    "                if TCP in pkt:\n",
    "                    pkt_dict[\"port_dst\"] = pkt[TCP].dport\n",
    "                    pkt_dict[\"port_src\"] = pkt[TCP].sport\n",
    "                    pkt_dict[\"protocol\"] = 'TCP'\n",
    "                    \n",
    "                elif UDP in pkt:\n",
    "                    pkt_dict[\"port_dst\"] = pkt[UDP].dport\n",
    "                    pkt_dict[\"port_src\"] = pkt[UDP].sport\n",
    "                    pkt_dict[\"protocol\"] = 'UDP'\n",
    "                    \n",
    "                elif ICMP in pkt:\n",
    "                    pkt_dict[\"protocol\"] = 'ICMP'\n",
    "                    \n",
    "                if DNSQR in pkt:\n",
    "                    pkt_dict[\"is_dns\"] = True\n",
    "                    pkt_dict[\"dns_query\"] = pkt[DNSQR].qname\n",
    "                if DNSRR in pkt:\n",
    "                    pkt_dict[\"is_dns\"] = True\n",
    "                    pkt_dict[\"dns_resp\"] = pkt[DNSRR].rrname\n",
    "                \n",
    "                data.append(pkt_dict)\n",
    "            except:\n",
    "                continue\n",
    "    return data\n",
    "          \n",
    "          "
   ]
  },
  {
   "cell_type": "code",
   "execution_count": 21,
   "metadata": {
    "colab": {},
    "colab_type": "code",
    "id": "O_hGj-bs8mkB"
   },
   "outputs": [],
   "source": [
    "# load pcap file into dictionary\n",
    "pdict = pcap_to_dict(file)\n",
    "\n",
    "# from the dictionary, create a Pandas data frame\n",
    "ppd = pd.DataFrame(pdict)"
   ]
  },
  {
   "cell_type": "code",
   "execution_count": 22,
   "metadata": {
    "colab": {
     "base_uri": "https://localhost:8080/",
     "height": 537
    },
    "colab_type": "code",
    "id": "deRoFwS-9J1Q",
    "outputId": "e73d60ef-56bd-4ec2-d8e4-c00b453108c1"
   },
   "outputs": [
    {
     "data": {
      "text/html": [
       "<div>\n",
       "<style scoped>\n",
       "    .dataframe tbody tr th:only-of-type {\n",
       "        vertical-align: middle;\n",
       "    }\n",
       "\n",
       "    .dataframe tbody tr th {\n",
       "        vertical-align: top;\n",
       "    }\n",
       "\n",
       "    .dataframe thead th {\n",
       "        text-align: right;\n",
       "    }\n",
       "</style>\n",
       "<table border=\"1\" class=\"dataframe\">\n",
       "  <thead>\n",
       "    <tr style=\"text-align: right;\">\n",
       "      <th></th>\n",
       "      <th>datetime</th>\n",
       "      <th>dns_query</th>\n",
       "      <th>dns_resp</th>\n",
       "      <th>ip_dst</th>\n",
       "      <th>ip_src</th>\n",
       "      <th>is_dns</th>\n",
       "      <th>length</th>\n",
       "      <th>mac_dst</th>\n",
       "      <th>mac_src</th>\n",
       "      <th>port_dst</th>\n",
       "      <th>port_src</th>\n",
       "      <th>protocol</th>\n",
       "      <th>time</th>\n",
       "    </tr>\n",
       "  </thead>\n",
       "  <tbody>\n",
       "    <tr>\n",
       "      <th>0</th>\n",
       "      <td>2017-12-07 14:48:41.156083</td>\n",
       "      <td>None</td>\n",
       "      <td>None</td>\n",
       "      <td>None</td>\n",
       "      <td>None</td>\n",
       "      <td>False</td>\n",
       "      <td>113</td>\n",
       "      <td>a4:77:33:2f:e0:6e</td>\n",
       "      <td>b8:27:eb:2d:24:15</td>\n",
       "      <td>NaN</td>\n",
       "      <td>NaN</td>\n",
       "      <td>None</td>\n",
       "      <td>1.512680e+09</td>\n",
       "    </tr>\n",
       "    <tr>\n",
       "      <th>1</th>\n",
       "      <td>2017-12-07 14:48:41.255304</td>\n",
       "      <td>None</td>\n",
       "      <td>None</td>\n",
       "      <td>None</td>\n",
       "      <td>None</td>\n",
       "      <td>False</td>\n",
       "      <td>135</td>\n",
       "      <td>b8:27:eb:2d:24:15</td>\n",
       "      <td>a4:77:33:2f:e0:6e</td>\n",
       "      <td>NaN</td>\n",
       "      <td>NaN</td>\n",
       "      <td>None</td>\n",
       "      <td>1.512680e+09</td>\n",
       "    </tr>\n",
       "    <tr>\n",
       "      <th>2</th>\n",
       "      <td>2017-12-07 14:48:41.256350</td>\n",
       "      <td>None</td>\n",
       "      <td>None</td>\n",
       "      <td>None</td>\n",
       "      <td>None</td>\n",
       "      <td>False</td>\n",
       "      <td>169</td>\n",
       "      <td>a4:77:33:2f:e0:6e</td>\n",
       "      <td>b8:27:eb:2d:24:15</td>\n",
       "      <td>NaN</td>\n",
       "      <td>NaN</td>\n",
       "      <td>None</td>\n",
       "      <td>1.512680e+09</td>\n",
       "    </tr>\n",
       "    <tr>\n",
       "      <th>3</th>\n",
       "      <td>2017-12-07 14:48:41.300373</td>\n",
       "      <td>None</td>\n",
       "      <td>None</td>\n",
       "      <td>None</td>\n",
       "      <td>None</td>\n",
       "      <td>False</td>\n",
       "      <td>113</td>\n",
       "      <td>b8:27:eb:2d:24:15</td>\n",
       "      <td>a4:77:33:2f:e0:6e</td>\n",
       "      <td>NaN</td>\n",
       "      <td>NaN</td>\n",
       "      <td>None</td>\n",
       "      <td>1.512680e+09</td>\n",
       "    </tr>\n",
       "    <tr>\n",
       "      <th>4</th>\n",
       "      <td>2017-12-07 14:48:41.303218</td>\n",
       "      <td>None</td>\n",
       "      <td>None</td>\n",
       "      <td>None</td>\n",
       "      <td>None</td>\n",
       "      <td>False</td>\n",
       "      <td>90</td>\n",
       "      <td>33:33:00:00:00:16</td>\n",
       "      <td>a4:77:33:2f:e0:6e</td>\n",
       "      <td>NaN</td>\n",
       "      <td>NaN</td>\n",
       "      <td>None</td>\n",
       "      <td>1.512680e+09</td>\n",
       "    </tr>\n",
       "    <tr>\n",
       "      <th>5</th>\n",
       "      <td>2017-12-07 14:48:41.412617</td>\n",
       "      <td>None</td>\n",
       "      <td>None</td>\n",
       "      <td>None</td>\n",
       "      <td>None</td>\n",
       "      <td>False</td>\n",
       "      <td>78</td>\n",
       "      <td>33:33:ff:2f:e0:6e</td>\n",
       "      <td>a4:77:33:2f:e0:6e</td>\n",
       "      <td>NaN</td>\n",
       "      <td>NaN</td>\n",
       "      <td>None</td>\n",
       "      <td>1.512680e+09</td>\n",
       "    </tr>\n",
       "    <tr>\n",
       "      <th>6</th>\n",
       "      <td>2017-12-07 14:48:41.432318</td>\n",
       "      <td>None</td>\n",
       "      <td>None</td>\n",
       "      <td>255.255.255.255</td>\n",
       "      <td>0.0.0.0</td>\n",
       "      <td>False</td>\n",
       "      <td>393</td>\n",
       "      <td>ff:ff:ff:ff:ff:ff</td>\n",
       "      <td>a4:77:33:2f:e0:6e</td>\n",
       "      <td>67.0</td>\n",
       "      <td>68.0</td>\n",
       "      <td>UDP</td>\n",
       "      <td>1.512680e+09</td>\n",
       "    </tr>\n",
       "    <tr>\n",
       "      <th>7</th>\n",
       "      <td>2017-12-07 14:48:42.414223</td>\n",
       "      <td>None</td>\n",
       "      <td>None</td>\n",
       "      <td>None</td>\n",
       "      <td>None</td>\n",
       "      <td>False</td>\n",
       "      <td>70</td>\n",
       "      <td>33:33:00:00:00:02</td>\n",
       "      <td>a4:77:33:2f:e0:6e</td>\n",
       "      <td>NaN</td>\n",
       "      <td>NaN</td>\n",
       "      <td>None</td>\n",
       "      <td>1.512680e+09</td>\n",
       "    </tr>\n",
       "    <tr>\n",
       "      <th>8</th>\n",
       "      <td>2017-12-07 14:48:43.204444</td>\n",
       "      <td>None</td>\n",
       "      <td>None</td>\n",
       "      <td>None</td>\n",
       "      <td>None</td>\n",
       "      <td>False</td>\n",
       "      <td>90</td>\n",
       "      <td>33:33:00:00:00:16</td>\n",
       "      <td>a4:77:33:2f:e0:6e</td>\n",
       "      <td>NaN</td>\n",
       "      <td>NaN</td>\n",
       "      <td>None</td>\n",
       "      <td>1.512680e+09</td>\n",
       "    </tr>\n",
       "    <tr>\n",
       "      <th>9</th>\n",
       "      <td>2017-12-07 14:48:44.186461</td>\n",
       "      <td>None</td>\n",
       "      <td>None</td>\n",
       "      <td>172.24.1.51</td>\n",
       "      <td>172.24.1.1</td>\n",
       "      <td>False</td>\n",
       "      <td>62</td>\n",
       "      <td>a4:77:33:2f:e0:6e</td>\n",
       "      <td>b8:27:eb:2d:24:15</td>\n",
       "      <td>NaN</td>\n",
       "      <td>NaN</td>\n",
       "      <td>ICMP</td>\n",
       "      <td>1.512680e+09</td>\n",
       "    </tr>\n",
       "  </tbody>\n",
       "</table>\n",
       "</div>"
      ],
      "text/plain": [
       "                    datetime dns_query dns_resp           ip_dst      ip_src  \\\n",
       "0 2017-12-07 14:48:41.156083      None     None             None        None   \n",
       "1 2017-12-07 14:48:41.255304      None     None             None        None   \n",
       "2 2017-12-07 14:48:41.256350      None     None             None        None   \n",
       "3 2017-12-07 14:48:41.300373      None     None             None        None   \n",
       "4 2017-12-07 14:48:41.303218      None     None             None        None   \n",
       "5 2017-12-07 14:48:41.412617      None     None             None        None   \n",
       "6 2017-12-07 14:48:41.432318      None     None  255.255.255.255     0.0.0.0   \n",
       "7 2017-12-07 14:48:42.414223      None     None             None        None   \n",
       "8 2017-12-07 14:48:43.204444      None     None             None        None   \n",
       "9 2017-12-07 14:48:44.186461      None     None      172.24.1.51  172.24.1.1   \n",
       "\n",
       "   is_dns  length            mac_dst            mac_src  port_dst  port_src  \\\n",
       "0   False     113  a4:77:33:2f:e0:6e  b8:27:eb:2d:24:15       NaN       NaN   \n",
       "1   False     135  b8:27:eb:2d:24:15  a4:77:33:2f:e0:6e       NaN       NaN   \n",
       "2   False     169  a4:77:33:2f:e0:6e  b8:27:eb:2d:24:15       NaN       NaN   \n",
       "3   False     113  b8:27:eb:2d:24:15  a4:77:33:2f:e0:6e       NaN       NaN   \n",
       "4   False      90  33:33:00:00:00:16  a4:77:33:2f:e0:6e       NaN       NaN   \n",
       "5   False      78  33:33:ff:2f:e0:6e  a4:77:33:2f:e0:6e       NaN       NaN   \n",
       "6   False     393  ff:ff:ff:ff:ff:ff  a4:77:33:2f:e0:6e      67.0      68.0   \n",
       "7   False      70  33:33:00:00:00:02  a4:77:33:2f:e0:6e       NaN       NaN   \n",
       "8   False      90  33:33:00:00:00:16  a4:77:33:2f:e0:6e       NaN       NaN   \n",
       "9   False      62  a4:77:33:2f:e0:6e  b8:27:eb:2d:24:15       NaN       NaN   \n",
       "\n",
       "  protocol          time  \n",
       "0     None  1.512680e+09  \n",
       "1     None  1.512680e+09  \n",
       "2     None  1.512680e+09  \n",
       "3     None  1.512680e+09  \n",
       "4     None  1.512680e+09  \n",
       "5     None  1.512680e+09  \n",
       "6      UDP  1.512680e+09  \n",
       "7     None  1.512680e+09  \n",
       "8     None  1.512680e+09  \n",
       "9     ICMP  1.512680e+09  "
      ]
     },
     "execution_count": 22,
     "metadata": {},
     "output_type": "execute_result"
    }
   ],
   "source": [
    "ppd.head(10)"
   ]
  },
  {
   "cell_type": "markdown",
   "metadata": {},
   "source": [
    "## Loading your own packet capture file\n",
    "\n",
    "In the next part of the exercise, we will perform our own packet capture in Wireshark (https://wireshark.org) and analyze it using some basic Pandas manipulation tools."
   ]
  },
  {
   "cell_type": "markdown",
   "metadata": {},
   "source": [
    "Only use the next cell is you are using Google Collaboratory to upload a file.  Otherwise you can load it from the local filesystem."
   ]
  },
  {
   "cell_type": "code",
   "execution_count": 32,
   "metadata": {
    "colab": {
     "base_uri": "https://localhost:8080/",
     "height": 89,
     "resources": {
      "http://localhost:8080/nbextensions/google.colab/files.js": {
       "data": "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",
       "headers": [
        [
         "content-type",
         "application/javascript"
        ]
       ],
       "ok": true,
       "status": 200,
       "status_text": "OK"
      }
     }
    },
    "colab_type": "code",
    "id": "551gItue-p_-",
    "outputId": "c97edd9f-c4d1-4cd6-bc0a-6fe65ca5c5d2"
   },
   "outputs": [
    {
     "data": {
      "text/html": [
       "\n",
       "     <input type=\"file\" id=\"files-52239cf5-eeca-4336-a659-ecd5f2420315\" name=\"files[]\" multiple disabled />\n",
       "     <output id=\"result-52239cf5-eeca-4336-a659-ecd5f2420315\">\n",
       "      Upload widget is only available when the cell has been executed in the\n",
       "      current browser session. Please rerun this cell to enable.\n",
       "      </output>\n",
       "      <script src=\"/nbextensions/google.colab/files.js\"></script> "
      ],
      "text/plain": [
       "<IPython.core.display.HTML object>"
      ]
     },
     "metadata": {
      "tags": []
     },
     "output_type": "display_data"
    },
    {
     "name": "stdout",
     "output_type": "stream",
     "text": [
      "Saving example.pcap to example.pcap\n",
      "User uploaded file \"example.pcap\" with length 2001696 bytes\n"
     ]
    }
   ],
   "source": [
    "uploaded = files.upload()\n",
    "\n",
    "for fn in uploaded.keys():\n",
    "  print('User uploaded file \"{name}\" with length {length} bytes'.format(\n",
    "      name=fn, length=len(uploaded[fn])))"
   ]
  },
  {
   "cell_type": "code",
   "execution_count": 10,
   "metadata": {},
   "outputs": [
    {
     "name": "stdout",
     "output_type": "stream",
     "text": [
      "/Users/feamster/Downloads/example-20191005.pcap\n"
     ]
    }
   ],
   "source": [
    "# Make sure that this cell prints out a filename that exists! (The one for your wireshark capture.)\n",
    "dir = '/Users/feamster/Downloads'\n",
    "filename = 'example-20191005'\n",
    "file = \"{}/{}.pcap\".format(dir,filename)\n",
    "print(file)"
   ]
  },
  {
   "cell_type": "code",
   "execution_count": 13,
   "metadata": {
    "colab": {},
    "colab_type": "code",
    "id": "vmITy71C_cMY"
   },
   "outputs": [],
   "source": [
    "# Turn your pcap into a Pandas data frame.\n",
    "ex_pdict = pcap_to_dict(file)\n",
    "ex_ppd = pd.DataFrame(ex_pdict)"
   ]
  },
  {
   "cell_type": "code",
   "execution_count": 15,
   "metadata": {
    "colab": {
     "base_uri": "https://localhost:8080/",
     "height": 537
    },
    "colab_type": "code",
    "id": "bW18D3pc_saY",
    "outputId": "c5a2e9f2-f35d-4482-9e4b-0bb5b0851d3b"
   },
   "outputs": [
    {
     "data": {
      "text/html": [
       "<div>\n",
       "<style scoped>\n",
       "    .dataframe tbody tr th:only-of-type {\n",
       "        vertical-align: middle;\n",
       "    }\n",
       "\n",
       "    .dataframe tbody tr th {\n",
       "        vertical-align: top;\n",
       "    }\n",
       "\n",
       "    .dataframe thead th {\n",
       "        text-align: right;\n",
       "    }\n",
       "</style>\n",
       "<table border=\"1\" class=\"dataframe\">\n",
       "  <thead>\n",
       "    <tr style=\"text-align: right;\">\n",
       "      <th></th>\n",
       "      <th>datetime</th>\n",
       "      <th>dns_query</th>\n",
       "      <th>dns_resp</th>\n",
       "      <th>ip_dst</th>\n",
       "      <th>ip_src</th>\n",
       "      <th>is_dns</th>\n",
       "      <th>length</th>\n",
       "      <th>mac_dst</th>\n",
       "      <th>mac_src</th>\n",
       "      <th>port_dst</th>\n",
       "      <th>port_src</th>\n",
       "      <th>protocol</th>\n",
       "      <th>time</th>\n",
       "    </tr>\n",
       "  </thead>\n",
       "  <tbody>\n",
       "    <tr>\n",
       "      <th>0</th>\n",
       "      <td>2019-10-05 20:39:35.507428</td>\n",
       "      <td>None</td>\n",
       "      <td>None</td>\n",
       "      <td>192.204.13.35</td>\n",
       "      <td>192.168.1.13</td>\n",
       "      <td>False</td>\n",
       "      <td>651</td>\n",
       "      <td>08:02:8e:92:27:27</td>\n",
       "      <td>3c:15:c2:d9:d3:50</td>\n",
       "      <td>8801.0</td>\n",
       "      <td>62673.0</td>\n",
       "      <td>UDP</td>\n",
       "      <td>1.570326e+09</td>\n",
       "    </tr>\n",
       "    <tr>\n",
       "      <th>1</th>\n",
       "      <td>2019-10-05 20:39:35.507429</td>\n",
       "      <td>None</td>\n",
       "      <td>None</td>\n",
       "      <td>192.204.13.35</td>\n",
       "      <td>192.168.1.13</td>\n",
       "      <td>False</td>\n",
       "      <td>651</td>\n",
       "      <td>08:02:8e:92:27:27</td>\n",
       "      <td>3c:15:c2:d9:d3:50</td>\n",
       "      <td>8801.0</td>\n",
       "      <td>62673.0</td>\n",
       "      <td>UDP</td>\n",
       "      <td>1.570326e+09</td>\n",
       "    </tr>\n",
       "    <tr>\n",
       "      <th>2</th>\n",
       "      <td>2019-10-05 20:39:35.508774</td>\n",
       "      <td>None</td>\n",
       "      <td>None</td>\n",
       "      <td>192.168.1.13</td>\n",
       "      <td>192.204.13.35</td>\n",
       "      <td>False</td>\n",
       "      <td>60</td>\n",
       "      <td>3c:15:c2:d9:d3:50</td>\n",
       "      <td>08:02:8e:92:27:27</td>\n",
       "      <td>62673.0</td>\n",
       "      <td>8801.0</td>\n",
       "      <td>UDP</td>\n",
       "      <td>1.570326e+09</td>\n",
       "    </tr>\n",
       "    <tr>\n",
       "      <th>3</th>\n",
       "      <td>2019-10-05 20:39:35.508778</td>\n",
       "      <td>None</td>\n",
       "      <td>None</td>\n",
       "      <td>192.168.1.13</td>\n",
       "      <td>192.204.13.35</td>\n",
       "      <td>False</td>\n",
       "      <td>868</td>\n",
       "      <td>3c:15:c2:d9:d3:50</td>\n",
       "      <td>08:02:8e:92:27:27</td>\n",
       "      <td>61420.0</td>\n",
       "      <td>8801.0</td>\n",
       "      <td>UDP</td>\n",
       "      <td>1.570326e+09</td>\n",
       "    </tr>\n",
       "    <tr>\n",
       "      <th>4</th>\n",
       "      <td>2019-10-05 20:39:35.508984</td>\n",
       "      <td>None</td>\n",
       "      <td>None</td>\n",
       "      <td>192.204.13.35</td>\n",
       "      <td>192.168.1.13</td>\n",
       "      <td>False</td>\n",
       "      <td>157</td>\n",
       "      <td>08:02:8e:92:27:27</td>\n",
       "      <td>3c:15:c2:d9:d3:50</td>\n",
       "      <td>8801.0</td>\n",
       "      <td>61420.0</td>\n",
       "      <td>UDP</td>\n",
       "      <td>1.570326e+09</td>\n",
       "    </tr>\n",
       "    <tr>\n",
       "      <th>5</th>\n",
       "      <td>2019-10-05 20:39:35.519036</td>\n",
       "      <td>None</td>\n",
       "      <td>None</td>\n",
       "      <td>192.204.13.35</td>\n",
       "      <td>192.168.1.13</td>\n",
       "      <td>False</td>\n",
       "      <td>94</td>\n",
       "      <td>08:02:8e:92:27:27</td>\n",
       "      <td>3c:15:c2:d9:d3:50</td>\n",
       "      <td>8801.0</td>\n",
       "      <td>62673.0</td>\n",
       "      <td>UDP</td>\n",
       "      <td>1.570326e+09</td>\n",
       "    </tr>\n",
       "    <tr>\n",
       "      <th>6</th>\n",
       "      <td>2019-10-05 20:39:35.523732</td>\n",
       "      <td>None</td>\n",
       "      <td>None</td>\n",
       "      <td>192.168.1.13</td>\n",
       "      <td>192.204.13.35</td>\n",
       "      <td>False</td>\n",
       "      <td>99</td>\n",
       "      <td>3c:15:c2:d9:d3:50</td>\n",
       "      <td>08:02:8e:92:27:27</td>\n",
       "      <td>53207.0</td>\n",
       "      <td>8801.0</td>\n",
       "      <td>UDP</td>\n",
       "      <td>1.570326e+09</td>\n",
       "    </tr>\n",
       "    <tr>\n",
       "      <th>7</th>\n",
       "      <td>2019-10-05 20:39:35.523897</td>\n",
       "      <td>None</td>\n",
       "      <td>None</td>\n",
       "      <td>192.204.13.35</td>\n",
       "      <td>192.168.1.13</td>\n",
       "      <td>False</td>\n",
       "      <td>292</td>\n",
       "      <td>08:02:8e:92:27:27</td>\n",
       "      <td>3c:15:c2:d9:d3:50</td>\n",
       "      <td>8801.0</td>\n",
       "      <td>61420.0</td>\n",
       "      <td>UDP</td>\n",
       "      <td>1.570326e+09</td>\n",
       "    </tr>\n",
       "    <tr>\n",
       "      <th>8</th>\n",
       "      <td>2019-10-05 20:39:35.523898</td>\n",
       "      <td>None</td>\n",
       "      <td>None</td>\n",
       "      <td>192.204.13.35</td>\n",
       "      <td>192.168.1.13</td>\n",
       "      <td>False</td>\n",
       "      <td>1282</td>\n",
       "      <td>08:02:8e:92:27:27</td>\n",
       "      <td>3c:15:c2:d9:d3:50</td>\n",
       "      <td>8801.0</td>\n",
       "      <td>61420.0</td>\n",
       "      <td>UDP</td>\n",
       "      <td>1.570326e+09</td>\n",
       "    </tr>\n",
       "    <tr>\n",
       "      <th>9</th>\n",
       "      <td>2019-10-05 20:39:35.534069</td>\n",
       "      <td>None</td>\n",
       "      <td>None</td>\n",
       "      <td>192.204.13.35</td>\n",
       "      <td>192.168.1.13</td>\n",
       "      <td>False</td>\n",
       "      <td>1282</td>\n",
       "      <td>08:02:8e:92:27:27</td>\n",
       "      <td>3c:15:c2:d9:d3:50</td>\n",
       "      <td>8801.0</td>\n",
       "      <td>61420.0</td>\n",
       "      <td>UDP</td>\n",
       "      <td>1.570326e+09</td>\n",
       "    </tr>\n",
       "  </tbody>\n",
       "</table>\n",
       "</div>"
      ],
      "text/plain": [
       "                    datetime dns_query dns_resp         ip_dst         ip_src  \\\n",
       "0 2019-10-05 20:39:35.507428      None     None  192.204.13.35   192.168.1.13   \n",
       "1 2019-10-05 20:39:35.507429      None     None  192.204.13.35   192.168.1.13   \n",
       "2 2019-10-05 20:39:35.508774      None     None   192.168.1.13  192.204.13.35   \n",
       "3 2019-10-05 20:39:35.508778      None     None   192.168.1.13  192.204.13.35   \n",
       "4 2019-10-05 20:39:35.508984      None     None  192.204.13.35   192.168.1.13   \n",
       "5 2019-10-05 20:39:35.519036      None     None  192.204.13.35   192.168.1.13   \n",
       "6 2019-10-05 20:39:35.523732      None     None   192.168.1.13  192.204.13.35   \n",
       "7 2019-10-05 20:39:35.523897      None     None  192.204.13.35   192.168.1.13   \n",
       "8 2019-10-05 20:39:35.523898      None     None  192.204.13.35   192.168.1.13   \n",
       "9 2019-10-05 20:39:35.534069      None     None  192.204.13.35   192.168.1.13   \n",
       "\n",
       "   is_dns  length            mac_dst            mac_src  port_dst  port_src  \\\n",
       "0   False     651  08:02:8e:92:27:27  3c:15:c2:d9:d3:50    8801.0   62673.0   \n",
       "1   False     651  08:02:8e:92:27:27  3c:15:c2:d9:d3:50    8801.0   62673.0   \n",
       "2   False      60  3c:15:c2:d9:d3:50  08:02:8e:92:27:27   62673.0    8801.0   \n",
       "3   False     868  3c:15:c2:d9:d3:50  08:02:8e:92:27:27   61420.0    8801.0   \n",
       "4   False     157  08:02:8e:92:27:27  3c:15:c2:d9:d3:50    8801.0   61420.0   \n",
       "5   False      94  08:02:8e:92:27:27  3c:15:c2:d9:d3:50    8801.0   62673.0   \n",
       "6   False      99  3c:15:c2:d9:d3:50  08:02:8e:92:27:27   53207.0    8801.0   \n",
       "7   False     292  08:02:8e:92:27:27  3c:15:c2:d9:d3:50    8801.0   61420.0   \n",
       "8   False    1282  08:02:8e:92:27:27  3c:15:c2:d9:d3:50    8801.0   61420.0   \n",
       "9   False    1282  08:02:8e:92:27:27  3c:15:c2:d9:d3:50    8801.0   61420.0   \n",
       "\n",
       "  protocol          time  \n",
       "0      UDP  1.570326e+09  \n",
       "1      UDP  1.570326e+09  \n",
       "2      UDP  1.570326e+09  \n",
       "3      UDP  1.570326e+09  \n",
       "4      UDP  1.570326e+09  \n",
       "5      UDP  1.570326e+09  \n",
       "6      UDP  1.570326e+09  \n",
       "7      UDP  1.570326e+09  \n",
       "8      UDP  1.570326e+09  \n",
       "9      UDP  1.570326e+09  "
      ]
     },
     "execution_count": 15,
     "metadata": {},
     "output_type": "execute_result"
    }
   ],
   "source": [
    "# print out the first ten rows\n",
    "ex_ppd.head(10)"
   ]
  },
  {
   "cell_type": "markdown",
   "metadata": {
    "colab_type": "text",
    "id": "ayQ_PovcBwB0"
   },
   "source": [
    "### Exploring the Dataset"
   ]
  },
  {
   "cell_type": "markdown",
   "metadata": {
    "colab_type": "text",
    "id": "oUa-OwKiBzAr"
   },
   "source": [
    "Now you have some basic examples for taking a packet capture and loading it into a Pandas data frame.  You could then explore the dataset. First, you can use the \"head\" function to look at some entries in the data frame. For example head(1) looks at the first entry."
   ]
  },
  {
   "cell_type": "code",
   "execution_count": 17,
   "metadata": {
    "colab": {
     "base_uri": "https://localhost:8080/",
     "height": 81
    },
    "colab_type": "code",
    "id": "TeY4NgYxBuhU",
    "outputId": "641ef2ef-3f26-4b80-c398-afe91b0b2470"
   },
   "outputs": [
    {
     "data": {
      "text/html": [
       "<div>\n",
       "<style scoped>\n",
       "    .dataframe tbody tr th:only-of-type {\n",
       "        vertical-align: middle;\n",
       "    }\n",
       "\n",
       "    .dataframe tbody tr th {\n",
       "        vertical-align: top;\n",
       "    }\n",
       "\n",
       "    .dataframe thead th {\n",
       "        text-align: right;\n",
       "    }\n",
       "</style>\n",
       "<table border=\"1\" class=\"dataframe\">\n",
       "  <thead>\n",
       "    <tr style=\"text-align: right;\">\n",
       "      <th></th>\n",
       "      <th>datetime</th>\n",
       "      <th>dns_query</th>\n",
       "      <th>dns_resp</th>\n",
       "      <th>ip_dst</th>\n",
       "      <th>ip_src</th>\n",
       "      <th>is_dns</th>\n",
       "      <th>length</th>\n",
       "      <th>mac_dst</th>\n",
       "      <th>mac_src</th>\n",
       "      <th>port_dst</th>\n",
       "      <th>port_src</th>\n",
       "      <th>protocol</th>\n",
       "      <th>time</th>\n",
       "    </tr>\n",
       "  </thead>\n",
       "  <tbody>\n",
       "    <tr>\n",
       "      <th>0</th>\n",
       "      <td>2019-10-05 20:39:35.507428</td>\n",
       "      <td>None</td>\n",
       "      <td>None</td>\n",
       "      <td>192.204.13.35</td>\n",
       "      <td>192.168.1.13</td>\n",
       "      <td>False</td>\n",
       "      <td>651</td>\n",
       "      <td>08:02:8e:92:27:27</td>\n",
       "      <td>3c:15:c2:d9:d3:50</td>\n",
       "      <td>8801.0</td>\n",
       "      <td>62673.0</td>\n",
       "      <td>UDP</td>\n",
       "      <td>1.570326e+09</td>\n",
       "    </tr>\n",
       "  </tbody>\n",
       "</table>\n",
       "</div>"
      ],
      "text/plain": [
       "                    datetime dns_query dns_resp         ip_dst        ip_src  \\\n",
       "0 2019-10-05 20:39:35.507428      None     None  192.204.13.35  192.168.1.13   \n",
       "\n",
       "   is_dns  length            mac_dst            mac_src  port_dst  port_src  \\\n",
       "0   False     651  08:02:8e:92:27:27  3c:15:c2:d9:d3:50    8801.0   62673.0   \n",
       "\n",
       "  protocol          time  \n",
       "0      UDP  1.570326e+09  "
      ]
     },
     "execution_count": 17,
     "metadata": {},
     "output_type": "execute_result"
    }
   ],
   "source": [
    "ex_ppd.head(1)"
   ]
  },
  {
   "cell_type": "markdown",
   "metadata": {},
   "source": [
    "You can also look at the shape and size of the packet capture. This should match the number of packets that wireshark told you it captured for your trace."
   ]
  },
  {
   "cell_type": "code",
   "execution_count": 19,
   "metadata": {
    "colab": {
     "base_uri": "https://localhost:8080/",
     "height": 34
    },
    "colab_type": "code",
    "id": "LtOjBQIkCGCB",
    "outputId": "a9432670-aac9-4023-902f-c4018baaff02"
   },
   "outputs": [
    {
     "data": {
      "text/plain": [
       "(1209, 13)"
      ]
     },
     "execution_count": 19,
     "metadata": {},
     "output_type": "execute_result"
    }
   ],
   "source": [
    "ex_ppd.shape"
   ]
  },
  {
   "cell_type": "markdown",
   "metadata": {},
   "source": [
    "describe() tells us some basic stats on numerical columns. Some of this is meaningless, because it doesn't make any sense to take a mean on the port value.  But the stats on the time and length colum can be useful sanity checks."
   ]
  },
  {
   "cell_type": "code",
   "execution_count": 20,
   "metadata": {
    "colab": {
     "base_uri": "https://localhost:8080/",
     "height": 300
    },
    "colab_type": "code",
    "id": "EKM7ATcoCJbR",
    "outputId": "5ac9548d-3969-4546-e455-51fc962aadff"
   },
   "outputs": [
    {
     "data": {
      "text/html": [
       "<div>\n",
       "<style scoped>\n",
       "    .dataframe tbody tr th:only-of-type {\n",
       "        vertical-align: middle;\n",
       "    }\n",
       "\n",
       "    .dataframe tbody tr th {\n",
       "        vertical-align: top;\n",
       "    }\n",
       "\n",
       "    .dataframe thead th {\n",
       "        text-align: right;\n",
       "    }\n",
       "</style>\n",
       "<table border=\"1\" class=\"dataframe\">\n",
       "  <thead>\n",
       "    <tr style=\"text-align: right;\">\n",
       "      <th></th>\n",
       "      <th>length</th>\n",
       "      <th>port_dst</th>\n",
       "      <th>port_src</th>\n",
       "      <th>time</th>\n",
       "    </tr>\n",
       "  </thead>\n",
       "  <tbody>\n",
       "    <tr>\n",
       "      <th>count</th>\n",
       "      <td>1209.000000</td>\n",
       "      <td>1205.000000</td>\n",
       "      <td>1205.000000</td>\n",
       "      <td>1.209000e+03</td>\n",
       "    </tr>\n",
       "    <tr>\n",
       "      <th>mean</th>\n",
       "      <td>622.792390</td>\n",
       "      <td>21949.026556</td>\n",
       "      <td>45811.240664</td>\n",
       "      <td>1.570326e+09</td>\n",
       "    </tr>\n",
       "    <tr>\n",
       "      <th>std</th>\n",
       "      <td>479.581695</td>\n",
       "      <td>23030.730322</td>\n",
       "      <td>23808.302508</td>\n",
       "      <td>1.390592e+00</td>\n",
       "    </tr>\n",
       "    <tr>\n",
       "      <th>min</th>\n",
       "      <td>34.000000</td>\n",
       "      <td>80.000000</td>\n",
       "      <td>80.000000</td>\n",
       "      <td>1.570326e+09</td>\n",
       "    </tr>\n",
       "    <tr>\n",
       "      <th>25%</th>\n",
       "      <td>129.000000</td>\n",
       "      <td>8801.000000</td>\n",
       "      <td>8801.000000</td>\n",
       "      <td>1.570326e+09</td>\n",
       "    </tr>\n",
       "    <tr>\n",
       "      <th>50%</th>\n",
       "      <td>532.000000</td>\n",
       "      <td>8801.000000</td>\n",
       "      <td>61420.000000</td>\n",
       "      <td>1.570326e+09</td>\n",
       "    </tr>\n",
       "    <tr>\n",
       "      <th>75%</th>\n",
       "      <td>1122.000000</td>\n",
       "      <td>53207.000000</td>\n",
       "      <td>61420.000000</td>\n",
       "      <td>1.570326e+09</td>\n",
       "    </tr>\n",
       "    <tr>\n",
       "      <th>max</th>\n",
       "      <td>1326.000000</td>\n",
       "      <td>63232.000000</td>\n",
       "      <td>63232.000000</td>\n",
       "      <td>1.570326e+09</td>\n",
       "    </tr>\n",
       "  </tbody>\n",
       "</table>\n",
       "</div>"
      ],
      "text/plain": [
       "            length      port_dst      port_src          time\n",
       "count  1209.000000   1205.000000   1205.000000  1.209000e+03\n",
       "mean    622.792390  21949.026556  45811.240664  1.570326e+09\n",
       "std     479.581695  23030.730322  23808.302508  1.390592e+00\n",
       "min      34.000000     80.000000     80.000000  1.570326e+09\n",
       "25%     129.000000   8801.000000   8801.000000  1.570326e+09\n",
       "50%     532.000000   8801.000000  61420.000000  1.570326e+09\n",
       "75%    1122.000000  53207.000000  61420.000000  1.570326e+09\n",
       "max    1326.000000  63232.000000  63232.000000  1.570326e+09"
      ]
     },
     "execution_count": 20,
     "metadata": {},
     "output_type": "execute_result"
    }
   ],
   "source": [
    "# this is basically meaningless for our packet data but just to show an example\n",
    "ex_ppd.describe()"
   ]
  },
  {
   "cell_type": "markdown",
   "metadata": {
    "colab_type": "text",
    "id": "96_F5q9pCcDp"
   },
   "source": [
    "### Selecting Data"
   ]
  },
  {
   "cell_type": "markdown",
   "metadata": {
    "colab_type": "text",
    "id": "eyVpG7NdC_JE"
   },
   "source": [
    "**Selecting Based on Index**"
   ]
  },
  {
   "cell_type": "code",
   "execution_count": 21,
   "metadata": {
    "colab": {
     "base_uri": "https://localhost:8080/",
     "height": 260
    },
    "colab_type": "code",
    "id": "SBFh1v9CCMeY",
    "outputId": "031d165d-f2d7-4135-dd49-ad8e3807c0c4"
   },
   "outputs": [
    {
     "data": {
      "text/plain": [
       "datetime     2019-10-05 20:39:35.507428\n",
       "dns_query                          None\n",
       "dns_resp                           None\n",
       "ip_dst                    192.204.13.35\n",
       "ip_src                     192.168.1.13\n",
       "is_dns                            False\n",
       "length                              651\n",
       "mac_dst               08:02:8e:92:27:27\n",
       "mac_src               3c:15:c2:d9:d3:50\n",
       "port_dst                           8801\n",
       "port_src                          62673\n",
       "protocol                            UDP\n",
       "time                        1.57033e+09\n",
       "Name: 0, dtype: object"
      ]
     },
     "execution_count": 21,
     "metadata": {},
     "output_type": "execute_result"
    }
   ],
   "source": [
    "ex_ppd.iloc[0]"
   ]
  },
  {
   "cell_type": "markdown",
   "metadata": {},
   "source": [
    "Pandas allows you to \"slice\" the data structure. Here we slice by indexes (\"1:4\") giving us the second, third, and fourth entries in the data frame."
   ]
  },
  {
   "cell_type": "code",
   "execution_count": 24,
   "metadata": {
    "colab": {
     "base_uri": "https://localhost:8080/",
     "height": 143
    },
    "colab_type": "code",
    "id": "3u5vOmJMCgPA",
    "outputId": "bd0f60ed-f6e5-4f5b-fdf6-397561e6f74d"
   },
   "outputs": [
    {
     "data": {
      "text/html": [
       "<div>\n",
       "<style scoped>\n",
       "    .dataframe tbody tr th:only-of-type {\n",
       "        vertical-align: middle;\n",
       "    }\n",
       "\n",
       "    .dataframe tbody tr th {\n",
       "        vertical-align: top;\n",
       "    }\n",
       "\n",
       "    .dataframe thead th {\n",
       "        text-align: right;\n",
       "    }\n",
       "</style>\n",
       "<table border=\"1\" class=\"dataframe\">\n",
       "  <thead>\n",
       "    <tr style=\"text-align: right;\">\n",
       "      <th></th>\n",
       "      <th>datetime</th>\n",
       "      <th>dns_query</th>\n",
       "      <th>dns_resp</th>\n",
       "      <th>ip_dst</th>\n",
       "      <th>ip_src</th>\n",
       "      <th>is_dns</th>\n",
       "      <th>length</th>\n",
       "      <th>mac_dst</th>\n",
       "      <th>mac_src</th>\n",
       "      <th>port_dst</th>\n",
       "      <th>port_src</th>\n",
       "      <th>protocol</th>\n",
       "      <th>time</th>\n",
       "    </tr>\n",
       "  </thead>\n",
       "  <tbody>\n",
       "    <tr>\n",
       "      <th>12</th>\n",
       "      <td>2019-10-05 20:39:35.544286</td>\n",
       "      <td>None</td>\n",
       "      <td>None</td>\n",
       "      <td>192.204.13.35</td>\n",
       "      <td>192.168.1.13</td>\n",
       "      <td>False</td>\n",
       "      <td>1281</td>\n",
       "      <td>08:02:8e:92:27:27</td>\n",
       "      <td>3c:15:c2:d9:d3:50</td>\n",
       "      <td>8801.0</td>\n",
       "      <td>61420.0</td>\n",
       "      <td>UDP</td>\n",
       "      <td>1.570326e+09</td>\n",
       "    </tr>\n",
       "    <tr>\n",
       "      <th>13</th>\n",
       "      <td>2019-10-05 20:39:35.556435</td>\n",
       "      <td>None</td>\n",
       "      <td>None</td>\n",
       "      <td>192.204.13.35</td>\n",
       "      <td>192.168.1.13</td>\n",
       "      <td>False</td>\n",
       "      <td>1281</td>\n",
       "      <td>08:02:8e:92:27:27</td>\n",
       "      <td>3c:15:c2:d9:d3:50</td>\n",
       "      <td>8801.0</td>\n",
       "      <td>61420.0</td>\n",
       "      <td>UDP</td>\n",
       "      <td>1.570326e+09</td>\n",
       "    </tr>\n",
       "  </tbody>\n",
       "</table>\n",
       "</div>"
      ],
      "text/plain": [
       "                     datetime dns_query dns_resp         ip_dst        ip_src  \\\n",
       "12 2019-10-05 20:39:35.544286      None     None  192.204.13.35  192.168.1.13   \n",
       "13 2019-10-05 20:39:35.556435      None     None  192.204.13.35  192.168.1.13   \n",
       "\n",
       "    is_dns  length            mac_dst            mac_src  port_dst  port_src  \\\n",
       "12   False    1281  08:02:8e:92:27:27  3c:15:c2:d9:d3:50    8801.0   61420.0   \n",
       "13   False    1281  08:02:8e:92:27:27  3c:15:c2:d9:d3:50    8801.0   61420.0   \n",
       "\n",
       "   protocol          time  \n",
       "12      UDP  1.570326e+09  \n",
       "13      UDP  1.570326e+09  "
      ]
     },
     "execution_count": 24,
     "metadata": {},
     "output_type": "execute_result"
    }
   ],
   "source": [
    "ex_ppd.iloc[12:14]"
   ]
  },
  {
   "cell_type": "markdown",
   "metadata": {
    "colab_type": "text",
    "id": "3mJXmjjpC5W9"
   },
   "source": [
    "**Selecting Based on Conditionals**"
   ]
  },
  {
   "cell_type": "markdown",
   "metadata": {
    "colab_type": "text",
    "id": "b_wCEkffDWfE"
   },
   "source": [
    "Select all TCP packets."
   ]
  },
  {
   "cell_type": "code",
   "execution_count": 26,
   "metadata": {
    "colab": {
     "base_uri": "https://localhost:8080/",
     "height": 98
    },
    "colab_type": "code",
    "id": "L5HQCwcOCmjG",
    "outputId": "f6c44b9b-7000-4f1e-92b8-7757317c1ed4"
   },
   "outputs": [
    {
     "data": {
      "text/html": [
       "<div>\n",
       "<style scoped>\n",
       "    .dataframe tbody tr th:only-of-type {\n",
       "        vertical-align: middle;\n",
       "    }\n",
       "\n",
       "    .dataframe tbody tr th {\n",
       "        vertical-align: top;\n",
       "    }\n",
       "\n",
       "    .dataframe thead th {\n",
       "        text-align: right;\n",
       "    }\n",
       "</style>\n",
       "<table border=\"1\" class=\"dataframe\">\n",
       "  <thead>\n",
       "    <tr style=\"text-align: right;\">\n",
       "      <th></th>\n",
       "      <th>datetime</th>\n",
       "      <th>dns_query</th>\n",
       "      <th>dns_resp</th>\n",
       "      <th>ip_dst</th>\n",
       "      <th>ip_src</th>\n",
       "      <th>is_dns</th>\n",
       "      <th>length</th>\n",
       "      <th>mac_dst</th>\n",
       "      <th>mac_src</th>\n",
       "      <th>port_dst</th>\n",
       "      <th>port_src</th>\n",
       "      <th>protocol</th>\n",
       "      <th>time</th>\n",
       "    </tr>\n",
       "  </thead>\n",
       "  <tbody>\n",
       "    <tr>\n",
       "      <th>29</th>\n",
       "      <td>2019-10-05 20:39:35.614173</td>\n",
       "      <td>None</td>\n",
       "      <td>None</td>\n",
       "      <td>18.211.118.21</td>\n",
       "      <td>192.168.1.13</td>\n",
       "      <td>False</td>\n",
       "      <td>129</td>\n",
       "      <td>08:02:8e:92:27:27</td>\n",
       "      <td>3c:15:c2:d9:d3:50</td>\n",
       "      <td>443.0</td>\n",
       "      <td>62096.0</td>\n",
       "      <td>TCP</td>\n",
       "      <td>1.570326e+09</td>\n",
       "    </tr>\n",
       "    <tr>\n",
       "      <th>45</th>\n",
       "      <td>2019-10-05 20:39:35.644049</td>\n",
       "      <td>None</td>\n",
       "      <td>None</td>\n",
       "      <td>192.168.1.13</td>\n",
       "      <td>18.211.118.21</td>\n",
       "      <td>False</td>\n",
       "      <td>66</td>\n",
       "      <td>3c:15:c2:d9:d3:50</td>\n",
       "      <td>08:02:8e:92:27:27</td>\n",
       "      <td>62096.0</td>\n",
       "      <td>443.0</td>\n",
       "      <td>TCP</td>\n",
       "      <td>1.570326e+09</td>\n",
       "    </tr>\n",
       "    <tr>\n",
       "      <th>46</th>\n",
       "      <td>2019-10-05 20:39:35.644052</td>\n",
       "      <td>None</td>\n",
       "      <td>None</td>\n",
       "      <td>192.168.1.13</td>\n",
       "      <td>18.211.118.21</td>\n",
       "      <td>False</td>\n",
       "      <td>129</td>\n",
       "      <td>3c:15:c2:d9:d3:50</td>\n",
       "      <td>08:02:8e:92:27:27</td>\n",
       "      <td>62096.0</td>\n",
       "      <td>443.0</td>\n",
       "      <td>TCP</td>\n",
       "      <td>1.570326e+09</td>\n",
       "    </tr>\n",
       "    <tr>\n",
       "      <th>47</th>\n",
       "      <td>2019-10-05 20:39:35.644087</td>\n",
       "      <td>None</td>\n",
       "      <td>None</td>\n",
       "      <td>18.211.118.21</td>\n",
       "      <td>192.168.1.13</td>\n",
       "      <td>False</td>\n",
       "      <td>66</td>\n",
       "      <td>08:02:8e:92:27:27</td>\n",
       "      <td>3c:15:c2:d9:d3:50</td>\n",
       "      <td>443.0</td>\n",
       "      <td>62096.0</td>\n",
       "      <td>TCP</td>\n",
       "      <td>1.570326e+09</td>\n",
       "    </tr>\n",
       "    <tr>\n",
       "      <th>92</th>\n",
       "      <td>2019-10-05 20:39:35.823151</td>\n",
       "      <td>None</td>\n",
       "      <td>None</td>\n",
       "      <td>192.204.13.35</td>\n",
       "      <td>192.168.1.13</td>\n",
       "      <td>False</td>\n",
       "      <td>229</td>\n",
       "      <td>08:02:8e:92:27:27</td>\n",
       "      <td>3c:15:c2:d9:d3:50</td>\n",
       "      <td>443.0</td>\n",
       "      <td>62250.0</td>\n",
       "      <td>TCP</td>\n",
       "      <td>1.570326e+09</td>\n",
       "    </tr>\n",
       "    <tr>\n",
       "      <th>93</th>\n",
       "      <td>2019-10-05 20:39:35.823178</td>\n",
       "      <td>None</td>\n",
       "      <td>None</td>\n",
       "      <td>192.204.13.35</td>\n",
       "      <td>192.168.1.13</td>\n",
       "      <td>False</td>\n",
       "      <td>232</td>\n",
       "      <td>08:02:8e:92:27:27</td>\n",
       "      <td>3c:15:c2:d9:d3:50</td>\n",
       "      <td>443.0</td>\n",
       "      <td>62250.0</td>\n",
       "      <td>TCP</td>\n",
       "      <td>1.570326e+09</td>\n",
       "    </tr>\n",
       "    <tr>\n",
       "      <th>94</th>\n",
       "      <td>2019-10-05 20:39:35.823232</td>\n",
       "      <td>None</td>\n",
       "      <td>None</td>\n",
       "      <td>192.204.13.35</td>\n",
       "      <td>192.168.1.13</td>\n",
       "      <td>False</td>\n",
       "      <td>234</td>\n",
       "      <td>08:02:8e:92:27:27</td>\n",
       "      <td>3c:15:c2:d9:d3:50</td>\n",
       "      <td>443.0</td>\n",
       "      <td>62250.0</td>\n",
       "      <td>TCP</td>\n",
       "      <td>1.570326e+09</td>\n",
       "    </tr>\n",
       "    <tr>\n",
       "      <th>99</th>\n",
       "      <td>2019-10-05 20:39:35.830945</td>\n",
       "      <td>None</td>\n",
       "      <td>None</td>\n",
       "      <td>17.253.25.201</td>\n",
       "      <td>192.168.1.13</td>\n",
       "      <td>False</td>\n",
       "      <td>66</td>\n",
       "      <td>08:02:8e:92:27:27</td>\n",
       "      <td>3c:15:c2:d9:d3:50</td>\n",
       "      <td>80.0</td>\n",
       "      <td>63232.0</td>\n",
       "      <td>TCP</td>\n",
       "      <td>1.570326e+09</td>\n",
       "    </tr>\n",
       "    <tr>\n",
       "      <th>100</th>\n",
       "      <td>2019-10-05 20:39:35.840029</td>\n",
       "      <td>None</td>\n",
       "      <td>None</td>\n",
       "      <td>192.168.1.13</td>\n",
       "      <td>17.253.25.201</td>\n",
       "      <td>False</td>\n",
       "      <td>66</td>\n",
       "      <td>3c:15:c2:d9:d3:50</td>\n",
       "      <td>08:02:8e:92:27:27</td>\n",
       "      <td>63232.0</td>\n",
       "      <td>80.0</td>\n",
       "      <td>TCP</td>\n",
       "      <td>1.570326e+09</td>\n",
       "    </tr>\n",
       "    <tr>\n",
       "      <th>101</th>\n",
       "      <td>2019-10-05 20:39:35.840091</td>\n",
       "      <td>None</td>\n",
       "      <td>None</td>\n",
       "      <td>17.253.25.201</td>\n",
       "      <td>192.168.1.13</td>\n",
       "      <td>False</td>\n",
       "      <td>66</td>\n",
       "      <td>08:02:8e:92:27:27</td>\n",
       "      <td>3c:15:c2:d9:d3:50</td>\n",
       "      <td>80.0</td>\n",
       "      <td>63232.0</td>\n",
       "      <td>TCP</td>\n",
       "      <td>1.570326e+09</td>\n",
       "    </tr>\n",
       "  </tbody>\n",
       "</table>\n",
       "</div>"
      ],
      "text/plain": [
       "                      datetime dns_query dns_resp         ip_dst  \\\n",
       "29  2019-10-05 20:39:35.614173      None     None  18.211.118.21   \n",
       "45  2019-10-05 20:39:35.644049      None     None   192.168.1.13   \n",
       "46  2019-10-05 20:39:35.644052      None     None   192.168.1.13   \n",
       "47  2019-10-05 20:39:35.644087      None     None  18.211.118.21   \n",
       "92  2019-10-05 20:39:35.823151      None     None  192.204.13.35   \n",
       "93  2019-10-05 20:39:35.823178      None     None  192.204.13.35   \n",
       "94  2019-10-05 20:39:35.823232      None     None  192.204.13.35   \n",
       "99  2019-10-05 20:39:35.830945      None     None  17.253.25.201   \n",
       "100 2019-10-05 20:39:35.840029      None     None   192.168.1.13   \n",
       "101 2019-10-05 20:39:35.840091      None     None  17.253.25.201   \n",
       "\n",
       "            ip_src  is_dns  length            mac_dst            mac_src  \\\n",
       "29    192.168.1.13   False     129  08:02:8e:92:27:27  3c:15:c2:d9:d3:50   \n",
       "45   18.211.118.21   False      66  3c:15:c2:d9:d3:50  08:02:8e:92:27:27   \n",
       "46   18.211.118.21   False     129  3c:15:c2:d9:d3:50  08:02:8e:92:27:27   \n",
       "47    192.168.1.13   False      66  08:02:8e:92:27:27  3c:15:c2:d9:d3:50   \n",
       "92    192.168.1.13   False     229  08:02:8e:92:27:27  3c:15:c2:d9:d3:50   \n",
       "93    192.168.1.13   False     232  08:02:8e:92:27:27  3c:15:c2:d9:d3:50   \n",
       "94    192.168.1.13   False     234  08:02:8e:92:27:27  3c:15:c2:d9:d3:50   \n",
       "99    192.168.1.13   False      66  08:02:8e:92:27:27  3c:15:c2:d9:d3:50   \n",
       "100  17.253.25.201   False      66  3c:15:c2:d9:d3:50  08:02:8e:92:27:27   \n",
       "101   192.168.1.13   False      66  08:02:8e:92:27:27  3c:15:c2:d9:d3:50   \n",
       "\n",
       "     port_dst  port_src protocol          time  \n",
       "29      443.0   62096.0      TCP  1.570326e+09  \n",
       "45    62096.0     443.0      TCP  1.570326e+09  \n",
       "46    62096.0     443.0      TCP  1.570326e+09  \n",
       "47      443.0   62096.0      TCP  1.570326e+09  \n",
       "92      443.0   62250.0      TCP  1.570326e+09  \n",
       "93      443.0   62250.0      TCP  1.570326e+09  \n",
       "94      443.0   62250.0      TCP  1.570326e+09  \n",
       "99       80.0   63232.0      TCP  1.570326e+09  \n",
       "100   63232.0      80.0      TCP  1.570326e+09  \n",
       "101      80.0   63232.0      TCP  1.570326e+09  "
      ]
     },
     "execution_count": 26,
     "metadata": {},
     "output_type": "execute_result"
    }
   ],
   "source": [
    "ex_ppd[ex_ppd['protocol'] == 'TCP'][:10]"
   ]
  },
  {
   "cell_type": "markdown",
   "metadata": {
    "colab_type": "text",
    "id": "DiDij_8fDZJH"
   },
   "source": [
    "Select all packets destined for port 443."
   ]
  },
  {
   "cell_type": "code",
   "execution_count": 28,
   "metadata": {
    "colab": {
     "base_uri": "https://localhost:8080/",
     "height": 98
    },
    "colab_type": "code",
    "id": "wJWnenafC3H-",
    "outputId": "e17a8b1a-7305-44ed-a943-eabc85e5e63f"
   },
   "outputs": [
    {
     "data": {
      "text/html": [
       "<div>\n",
       "<style scoped>\n",
       "    .dataframe tbody tr th:only-of-type {\n",
       "        vertical-align: middle;\n",
       "    }\n",
       "\n",
       "    .dataframe tbody tr th {\n",
       "        vertical-align: top;\n",
       "    }\n",
       "\n",
       "    .dataframe thead th {\n",
       "        text-align: right;\n",
       "    }\n",
       "</style>\n",
       "<table border=\"1\" class=\"dataframe\">\n",
       "  <thead>\n",
       "    <tr style=\"text-align: right;\">\n",
       "      <th></th>\n",
       "      <th>datetime</th>\n",
       "      <th>dns_query</th>\n",
       "      <th>dns_resp</th>\n",
       "      <th>ip_dst</th>\n",
       "      <th>ip_src</th>\n",
       "      <th>is_dns</th>\n",
       "      <th>length</th>\n",
       "      <th>mac_dst</th>\n",
       "      <th>mac_src</th>\n",
       "      <th>port_dst</th>\n",
       "      <th>port_src</th>\n",
       "      <th>protocol</th>\n",
       "      <th>time</th>\n",
       "    </tr>\n",
       "  </thead>\n",
       "  <tbody>\n",
       "    <tr>\n",
       "      <th>29</th>\n",
       "      <td>2019-10-05 20:39:35.614173</td>\n",
       "      <td>None</td>\n",
       "      <td>None</td>\n",
       "      <td>18.211.118.21</td>\n",
       "      <td>192.168.1.13</td>\n",
       "      <td>False</td>\n",
       "      <td>129</td>\n",
       "      <td>08:02:8e:92:27:27</td>\n",
       "      <td>3c:15:c2:d9:d3:50</td>\n",
       "      <td>443.0</td>\n",
       "      <td>62096.0</td>\n",
       "      <td>TCP</td>\n",
       "      <td>1.570326e+09</td>\n",
       "    </tr>\n",
       "    <tr>\n",
       "      <th>47</th>\n",
       "      <td>2019-10-05 20:39:35.644087</td>\n",
       "      <td>None</td>\n",
       "      <td>None</td>\n",
       "      <td>18.211.118.21</td>\n",
       "      <td>192.168.1.13</td>\n",
       "      <td>False</td>\n",
       "      <td>66</td>\n",
       "      <td>08:02:8e:92:27:27</td>\n",
       "      <td>3c:15:c2:d9:d3:50</td>\n",
       "      <td>443.0</td>\n",
       "      <td>62096.0</td>\n",
       "      <td>TCP</td>\n",
       "      <td>1.570326e+09</td>\n",
       "    </tr>\n",
       "    <tr>\n",
       "      <th>92</th>\n",
       "      <td>2019-10-05 20:39:35.823151</td>\n",
       "      <td>None</td>\n",
       "      <td>None</td>\n",
       "      <td>192.204.13.35</td>\n",
       "      <td>192.168.1.13</td>\n",
       "      <td>False</td>\n",
       "      <td>229</td>\n",
       "      <td>08:02:8e:92:27:27</td>\n",
       "      <td>3c:15:c2:d9:d3:50</td>\n",
       "      <td>443.0</td>\n",
       "      <td>62250.0</td>\n",
       "      <td>TCP</td>\n",
       "      <td>1.570326e+09</td>\n",
       "    </tr>\n",
       "    <tr>\n",
       "      <th>93</th>\n",
       "      <td>2019-10-05 20:39:35.823178</td>\n",
       "      <td>None</td>\n",
       "      <td>None</td>\n",
       "      <td>192.204.13.35</td>\n",
       "      <td>192.168.1.13</td>\n",
       "      <td>False</td>\n",
       "      <td>232</td>\n",
       "      <td>08:02:8e:92:27:27</td>\n",
       "      <td>3c:15:c2:d9:d3:50</td>\n",
       "      <td>443.0</td>\n",
       "      <td>62250.0</td>\n",
       "      <td>TCP</td>\n",
       "      <td>1.570326e+09</td>\n",
       "    </tr>\n",
       "    <tr>\n",
       "      <th>94</th>\n",
       "      <td>2019-10-05 20:39:35.823232</td>\n",
       "      <td>None</td>\n",
       "      <td>None</td>\n",
       "      <td>192.204.13.35</td>\n",
       "      <td>192.168.1.13</td>\n",
       "      <td>False</td>\n",
       "      <td>234</td>\n",
       "      <td>08:02:8e:92:27:27</td>\n",
       "      <td>3c:15:c2:d9:d3:50</td>\n",
       "      <td>443.0</td>\n",
       "      <td>62250.0</td>\n",
       "      <td>TCP</td>\n",
       "      <td>1.570326e+09</td>\n",
       "    </tr>\n",
       "  </tbody>\n",
       "</table>\n",
       "</div>"
      ],
      "text/plain": [
       "                     datetime dns_query dns_resp         ip_dst        ip_src  \\\n",
       "29 2019-10-05 20:39:35.614173      None     None  18.211.118.21  192.168.1.13   \n",
       "47 2019-10-05 20:39:35.644087      None     None  18.211.118.21  192.168.1.13   \n",
       "92 2019-10-05 20:39:35.823151      None     None  192.204.13.35  192.168.1.13   \n",
       "93 2019-10-05 20:39:35.823178      None     None  192.204.13.35  192.168.1.13   \n",
       "94 2019-10-05 20:39:35.823232      None     None  192.204.13.35  192.168.1.13   \n",
       "\n",
       "    is_dns  length            mac_dst            mac_src  port_dst  port_src  \\\n",
       "29   False     129  08:02:8e:92:27:27  3c:15:c2:d9:d3:50     443.0   62096.0   \n",
       "47   False      66  08:02:8e:92:27:27  3c:15:c2:d9:d3:50     443.0   62096.0   \n",
       "92   False     229  08:02:8e:92:27:27  3c:15:c2:d9:d3:50     443.0   62250.0   \n",
       "93   False     232  08:02:8e:92:27:27  3c:15:c2:d9:d3:50     443.0   62250.0   \n",
       "94   False     234  08:02:8e:92:27:27  3c:15:c2:d9:d3:50     443.0   62250.0   \n",
       "\n",
       "   protocol          time  \n",
       "29      TCP  1.570326e+09  \n",
       "47      TCP  1.570326e+09  \n",
       "92      TCP  1.570326e+09  \n",
       "93      TCP  1.570326e+09  \n",
       "94      TCP  1.570326e+09  "
      ]
     },
     "execution_count": 28,
     "metadata": {},
     "output_type": "execute_result"
    }
   ],
   "source": [
    "tls_packets = ex_ppd[(ex_ppd['protocol'] == 'TCP') & (ex_ppd['port_dst'] == 443)]\n",
    "tls_packets[:5]"
   ]
  },
  {
   "cell_type": "markdown",
   "metadata": {},
   "source": [
    "How many TLS packets in the trace? Let's look at the shape of the resulting data frame."
   ]
  },
  {
   "cell_type": "code",
   "execution_count": 29,
   "metadata": {},
   "outputs": [
    {
     "data": {
      "text/plain": [
       "(58, 13)"
      ]
     },
     "execution_count": 29,
     "metadata": {},
     "output_type": "execute_result"
    }
   ],
   "source": [
    "tls_packets.shape"
   ]
  },
  {
   "cell_type": "markdown",
   "metadata": {
    "colab_type": "text",
    "id": "SovBN4P-Dilv"
   },
   "source": [
    "### Compute Statistics"
   ]
  },
  {
   "cell_type": "markdown",
   "metadata": {
    "colab_type": "text",
    "id": "H8fQFDbQDomn"
   },
   "source": [
    "Compute Packet Statistics"
   ]
  },
  {
   "cell_type": "code",
   "execution_count": 31,
   "metadata": {
    "colab": {
     "base_uri": "https://localhost:8080/",
     "height": 86
    },
    "colab_type": "code",
    "id": "H89QQIVcDLmB",
    "outputId": "e642a185-289b-41e7-f5c6-1c60fe00874f"
   },
   "outputs": [
    {
     "name": "stdout",
     "output_type": "stream",
     "text": [
      "Average Packet Length: 622.7923904052936\n",
      "Minimum Packet Length: 34\n",
      "Maximum Packet Length: 1326\n",
      "Median Packet Length: 532.0\n"
     ]
    }
   ],
   "source": [
    "print('Average Packet Length:', ex_ppd['length'].mean())\n",
    "print('Minimum Packet Length:', ex_ppd['length'].min())\n",
    "print('Maximum Packet Length:', ex_ppd['length'].max())\n",
    "print('Median Packet Length:', ex_ppd['length'].median())"
   ]
  },
  {
   "cell_type": "markdown",
   "metadata": {
    "colab_type": "text",
    "id": "KFMnlv71EMne"
   },
   "source": [
    "Count the number of times a distinct value appears. For example, we can see how many packets appear on distinct ports."
   ]
  },
  {
   "cell_type": "code",
   "execution_count": 32,
   "metadata": {
    "colab": {
     "base_uri": "https://localhost:8080/",
     "height": 156
    },
    "colab_type": "code",
    "id": "IMa1MnqpDzDw",
    "outputId": "1c5a9517-f33c-4b8a-d6d8-a767d07c02ed"
   },
   "outputs": [
    {
     "data": {
      "text/plain": [
       "443.0    58\n",
       "80.0      2\n",
       "Name: port_dst, dtype: int64"
      ]
     },
     "execution_count": 32,
     "metadata": {},
     "output_type": "execute_result"
    }
   ],
   "source": [
    "ex_ppd[ex_ppd['port_dst'] < 2048]['port_dst'].value_counts()"
   ]
  },
  {
   "cell_type": "code",
   "execution_count": 34,
   "metadata": {},
   "outputs": [
    {
     "data": {
      "text/html": [
       "<div>\n",
       "<style scoped>\n",
       "    .dataframe tbody tr th:only-of-type {\n",
       "        vertical-align: middle;\n",
       "    }\n",
       "\n",
       "    .dataframe tbody tr th {\n",
       "        vertical-align: top;\n",
       "    }\n",
       "\n",
       "    .dataframe thead th {\n",
       "        text-align: right;\n",
       "    }\n",
       "</style>\n",
       "<table border=\"1\" class=\"dataframe\">\n",
       "  <thead>\n",
       "    <tr style=\"text-align: right;\">\n",
       "      <th></th>\n",
       "      <th>datetime</th>\n",
       "      <th>dns_query</th>\n",
       "      <th>dns_resp</th>\n",
       "      <th>ip_dst</th>\n",
       "      <th>ip_src</th>\n",
       "      <th>is_dns</th>\n",
       "      <th>length</th>\n",
       "      <th>mac_dst</th>\n",
       "      <th>mac_src</th>\n",
       "      <th>port_dst</th>\n",
       "      <th>port_src</th>\n",
       "      <th>protocol</th>\n",
       "      <th>time</th>\n",
       "    </tr>\n",
       "  </thead>\n",
       "  <tbody>\n",
       "    <tr>\n",
       "      <th>99</th>\n",
       "      <td>2019-10-05 20:39:35.830945</td>\n",
       "      <td>None</td>\n",
       "      <td>None</td>\n",
       "      <td>17.253.25.201</td>\n",
       "      <td>192.168.1.13</td>\n",
       "      <td>False</td>\n",
       "      <td>66</td>\n",
       "      <td>08:02:8e:92:27:27</td>\n",
       "      <td>3c:15:c2:d9:d3:50</td>\n",
       "      <td>80.0</td>\n",
       "      <td>63232.0</td>\n",
       "      <td>TCP</td>\n",
       "      <td>1.570326e+09</td>\n",
       "    </tr>\n",
       "    <tr>\n",
       "      <th>101</th>\n",
       "      <td>2019-10-05 20:39:35.840091</td>\n",
       "      <td>None</td>\n",
       "      <td>None</td>\n",
       "      <td>17.253.25.201</td>\n",
       "      <td>192.168.1.13</td>\n",
       "      <td>False</td>\n",
       "      <td>66</td>\n",
       "      <td>08:02:8e:92:27:27</td>\n",
       "      <td>3c:15:c2:d9:d3:50</td>\n",
       "      <td>80.0</td>\n",
       "      <td>63232.0</td>\n",
       "      <td>TCP</td>\n",
       "      <td>1.570326e+09</td>\n",
       "    </tr>\n",
       "  </tbody>\n",
       "</table>\n",
       "</div>"
      ],
      "text/plain": [
       "                      datetime dns_query dns_resp         ip_dst  \\\n",
       "99  2019-10-05 20:39:35.830945      None     None  17.253.25.201   \n",
       "101 2019-10-05 20:39:35.840091      None     None  17.253.25.201   \n",
       "\n",
       "           ip_src  is_dns  length            mac_dst            mac_src  \\\n",
       "99   192.168.1.13   False      66  08:02:8e:92:27:27  3c:15:c2:d9:d3:50   \n",
       "101  192.168.1.13   False      66  08:02:8e:92:27:27  3c:15:c2:d9:d3:50   \n",
       "\n",
       "     port_dst  port_src protocol          time  \n",
       "99       80.0   63232.0      TCP  1.570326e+09  \n",
       "101      80.0   63232.0      TCP  1.570326e+09  "
      ]
     },
     "execution_count": 34,
     "metadata": {},
     "output_type": "execute_result"
    }
   ],
   "source": [
    "ex_ppd[ex_ppd['port_dst'] == 80][:2]"
   ]
  },
  {
   "cell_type": "markdown",
   "metadata": {
    "colab_type": "text",
    "id": "-z9f0JZ5FGn_"
   },
   "source": [
    "Find statistics grouped by particular categories."
   ]
  },
  {
   "cell_type": "markdown",
   "metadata": {
    "colab_type": "text",
    "id": "Ba1QSsG0GF1r"
   },
   "source": [
    "Average length by protocol type."
   ]
  },
  {
   "cell_type": "code",
   "execution_count": 35,
   "metadata": {
    "colab": {
     "base_uri": "https://localhost:8080/",
     "height": 104
    },
    "colab_type": "code",
    "id": "gI9gT1iwEUfL",
    "outputId": "25e37288-d085-4423-a25c-d2cbaba6c905"
   },
   "outputs": [
    {
     "data": {
      "text/plain": [
       "protocol\n",
       "TCP    111.333333\n",
       "UDP    679.957721\n",
       "Name: length, dtype: float64"
      ]
     },
     "execution_count": 35,
     "metadata": {},
     "output_type": "execute_result"
    }
   ],
   "source": [
    "ex_ppd.groupby('protocol')['length'].mean()"
   ]
  },
  {
   "cell_type": "code",
   "execution_count": 36,
   "metadata": {},
   "outputs": [
    {
     "data": {
      "text/plain": [
       "protocol\n",
       "TCP     817\n",
       "UDP    1326\n",
       "Name: length, dtype: int64"
      ]
     },
     "execution_count": 36,
     "metadata": {},
     "output_type": "execute_result"
    }
   ],
   "source": [
    "ex_ppd.groupby('protocol')['length'].max()"
   ]
  },
  {
   "cell_type": "markdown",
   "metadata": {
    "colab_type": "text",
    "id": "graskhooGIs9"
   },
   "source": [
    "Average length for packets destined to various destination ports."
   ]
  },
  {
   "cell_type": "code",
   "execution_count": 37,
   "metadata": {
    "colab": {
     "base_uri": "https://localhost:8080/",
     "height": 173
    },
    "colab_type": "code",
    "id": "Ip_Vp4CaFbE_",
    "outputId": "71f28937-a6e8-4a16-8279-bdb4c5fdca48"
   },
   "outputs": [
    {
     "data": {
      "text/plain": [
       "port_dst\n",
       "80.0      66.000000\n",
       "443.0    111.431034\n",
       "Name: length, dtype: float64"
      ]
     },
     "execution_count": 37,
     "metadata": {},
     "output_type": "execute_result"
    }
   ],
   "source": [
    "ex_ppd[ex_ppd['port_dst'] < 2048].groupby('port_dst')['length'].mean()"
   ]
  },
  {
   "cell_type": "markdown",
   "metadata": {},
   "source": [
    "## Grouping Packets by Time"
   ]
  },
  {
   "cell_type": "code",
   "execution_count": 60,
   "metadata": {},
   "outputs": [],
   "source": [
    "time_index = pd.date_range('09/28/2019 19:51:21', periods=100, freq='1S')\n",
    "time_df = pd.DataFrame(index=time_index)"
   ]
  },
  {
   "cell_type": "code",
   "execution_count": 61,
   "metadata": {},
   "outputs": [
    {
     "data": {
      "text/html": [
       "<div>\n",
       "<style scoped>\n",
       "    .dataframe tbody tr th:only-of-type {\n",
       "        vertical-align: middle;\n",
       "    }\n",
       "\n",
       "    .dataframe tbody tr th {\n",
       "        vertical-align: top;\n",
       "    }\n",
       "\n",
       "    .dataframe thead th {\n",
       "        text-align: right;\n",
       "    }\n",
       "</style>\n",
       "<table border=\"1\" class=\"dataframe\">\n",
       "  <thead>\n",
       "    <tr style=\"text-align: right;\">\n",
       "      <th></th>\n",
       "    </tr>\n",
       "  </thead>\n",
       "  <tbody>\n",
       "    <tr>\n",
       "      <th>2019-09-28 19:51:21</th>\n",
       "    </tr>\n",
       "    <tr>\n",
       "      <th>2019-09-28 19:51:22</th>\n",
       "    </tr>\n",
       "    <tr>\n",
       "      <th>2019-09-28 19:51:23</th>\n",
       "    </tr>\n",
       "    <tr>\n",
       "      <th>2019-09-28 19:51:24</th>\n",
       "    </tr>\n",
       "    <tr>\n",
       "      <th>2019-09-28 19:51:25</th>\n",
       "    </tr>\n",
       "    <tr>\n",
       "      <th>2019-09-28 19:51:26</th>\n",
       "    </tr>\n",
       "    <tr>\n",
       "      <th>2019-09-28 19:51:27</th>\n",
       "    </tr>\n",
       "    <tr>\n",
       "      <th>2019-09-28 19:51:28</th>\n",
       "    </tr>\n",
       "    <tr>\n",
       "      <th>2019-09-28 19:51:29</th>\n",
       "    </tr>\n",
       "    <tr>\n",
       "      <th>2019-09-28 19:51:30</th>\n",
       "    </tr>\n",
       "  </tbody>\n",
       "</table>\n",
       "</div>"
      ],
      "text/plain": [
       "Empty DataFrame\n",
       "Columns: []\n",
       "Index: [2019-09-28 19:51:21, 2019-09-28 19:51:22, 2019-09-28 19:51:23, 2019-09-28 19:51:24, 2019-09-28 19:51:25, 2019-09-28 19:51:26, 2019-09-28 19:51:27, 2019-09-28 19:51:28, 2019-09-28 19:51:29, 2019-09-28 19:51:30]"
      ]
     },
     "execution_count": 61,
     "metadata": {},
     "output_type": "execute_result"
    }
   ],
   "source": [
    "time_df.head (10)"
   ]
  },
  {
   "cell_type": "markdown",
   "metadata": {},
   "source": [
    "To be continued..."
   ]
  }
 ],
 "metadata": {
  "colab": {
   "collapsed_sections": [],
   "name": "Packet Capture and Pandas.ipynb",
   "provenance": []
  },
  "kernelspec": {
   "display_name": "Python 3",
   "language": "python",
   "name": "python3"
  },
  "language_info": {
   "codemirror_mode": {
    "name": "ipython",
    "version": 3
   },
   "file_extension": ".py",
   "mimetype": "text/x-python",
   "name": "python",
   "nbconvert_exporter": "python",
   "pygments_lexer": "ipython3",
   "version": "3.6.9"
  }
 },
 "nbformat": 4,
 "nbformat_minor": 1
}
