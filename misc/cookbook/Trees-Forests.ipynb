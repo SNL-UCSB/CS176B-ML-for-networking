{
 "cells": [
  {
   "cell_type": "markdown",
   "metadata": {
    "colab_type": "text",
    "id": "ItxjuT_GpvMJ"
   },
   "source": [
    "### Training a Decision Tree Classifier"
   ]
  },
  {
   "cell_type": "code",
   "execution_count": 1,
   "metadata": {
    "colab": {
     "base_uri": "https://localhost:8080/",
     "height": 243
    },
    "colab_type": "code",
    "executionInfo": {
     "elapsed": 345,
     "status": "ok",
     "timestamp": 1568160739899,
     "user": {
      "displayName": "Nick Feamster",
      "photoUrl": "https://lh3.googleusercontent.com/a-/AAuE7mDFvpet_sPPt5yq3MRRzIX3Q-CgsLV2DMhtu_Ivbl0=s64",
      "userId": "11425047561900094109"
     },
     "user_tz": 300
    },
    "id": "AOlOO2kIpycv",
    "outputId": "d6d8bdba-9840-4b4b-89e8-8b3f869f282a"
   },
   "outputs": [
    {
     "name": "stdout",
     "output_type": "stream",
     "text": [
      "(150, 4)\n",
      "[[5.1 3.5 1.4 0.2]\n",
      " [4.9 3.  1.4 0.2]\n",
      " [4.7 3.2 1.3 0.2]\n",
      " [4.6 3.1 1.5 0.2]\n",
      " [5.  3.6 1.4 0.2]\n",
      " [5.4 3.9 1.7 0.4]\n",
      " [4.6 3.4 1.4 0.3]\n",
      " [5.  3.4 1.5 0.2]\n",
      " [4.4 2.9 1.4 0.2]\n",
      " [4.9 3.1 1.5 0.1]]\n",
      "(150,)\n",
      "[0 0 0 0 0 0 0 0 0 0]\n"
     ]
    }
   ],
   "source": [
    "%matplotlib inline\n",
    "\n",
    "# import sample datasets from SciKit Learn\n",
    "from sklearn import datasets\n",
    "\n",
    "iris = datasets.load_iris()\n",
    "features = iris.data\n",
    "targets = iris.target\n",
    "\n",
    "# Print out the basics of the dataset\n",
    "print(features.shape)\n",
    "print(features[:10])\n",
    "\n",
    "print(targets.shape)\n",
    "print(targets[:10])"
   ]
  },
  {
   "cell_type": "code",
   "execution_count": 2,
   "metadata": {
    "colab": {},
    "colab_type": "code",
    "id": "Sm1SR4QUp2lI"
   },
   "outputs": [],
   "source": [
    "from sklearn.tree import DecisionTreeClassifier\n",
    "\n",
    "# Create decision tree instance. (Similar to Linear Regression, API, just different class)\n",
    "decisiontree = DecisionTreeClassifier(criterion='entropy', random_state=0)\n",
    "\n",
    "# Call fit function as before\n",
    "# features are rows of features\n",
    "# targets is a row corresponding to the outcomes\n",
    "model = decisiontree.fit(features, targets)"
   ]
  },
  {
   "cell_type": "code",
   "execution_count": 4,
   "metadata": {
    "colab": {
     "base_uri": "https://localhost:8080/",
     "height": 52
    },
    "colab_type": "code",
    "executionInfo": {
     "elapsed": 356,
     "status": "ok",
     "timestamp": 1568160992781,
     "user": {
      "displayName": "Nick Feamster",
      "photoUrl": "https://lh3.googleusercontent.com/a-/AAuE7mDFvpet_sPPt5yq3MRRzIX3Q-CgsLV2DMhtu_Ivbl0=s64",
      "userId": "11425047561900094109"
     },
     "user_tz": 300
    },
    "id": "c9b-8BMUqE3r",
    "outputId": "7560597c-2fd8-4e11-d386-1aee07adc6a9"
   },
   "outputs": [
    {
     "name": "stdout",
     "output_type": "stream",
     "text": [
      "the prediction for [[5, 4, 3, 2]] is [1]\n",
      "predicted probabilities for the three classes: [1]\n"
     ]
    }
   ],
   "source": [
    "observation = [[5, 4, 3, 2]]\n",
    "print(\"the prediction for {} is {}\".format(observation, model.predict(observation)))\n",
    "print(\"predicted probabilities for the three classes: {}\".format(model.predict(observation)))"
   ]
  },
  {
   "cell_type": "markdown",
   "metadata": {
    "colab_type": "text",
    "id": "6leK-zXirFSg"
   },
   "source": [
    "#### Comparison to linear regression.\n",
    "\n",
    "Compare to a linear regression prediction, which operates in a similar way, but predicts a continuous value."
   ]
  },
  {
   "cell_type": "code",
   "execution_count": 5,
   "metadata": {
    "colab": {},
    "colab_type": "code",
    "id": "BB6Ak5bnqIoW"
   },
   "outputs": [
    {
     "data": {
      "text/plain": [
       "array([1.37108722])"
      ]
     },
     "execution_count": 5,
     "metadata": {},
     "output_type": "execute_result"
    }
   ],
   "source": [
    "from sklearn import linear_model\n",
    "\n",
    "# ask for a linear regression model\n",
    "linear_regression = linear_model.LinearRegression()\n",
    "\n",
    "linear_regression.fit(features,targets)\n",
    "linear_regression.predict([[5, 4, 3, 2]])"
   ]
  },
  {
   "cell_type": "markdown",
   "metadata": {
    "colab_type": "text",
    "id": "5CAq7NMer0R9"
   },
   "source": [
    "### Decision Tree Regressor"
   ]
  },
  {
   "cell_type": "markdown",
   "metadata": {
    "colab_type": "text",
    "id": "kXuLW9Adr9QH"
   },
   "source": [
    "Decision tree regression works similarly to decision tree classification, however instead of reducing Gini impurity or entropy, potential splits are by default measure on how much they reduce mean squared error (MSE): "
   ]
  },
  {
   "cell_type": "code",
   "execution_count": 6,
   "metadata": {
    "colab": {
     "base_uri": "https://localhost:8080/",
     "height": 34
    },
    "colab_type": "code",
    "executionInfo": {
     "elapsed": 330,
     "status": "ok",
     "timestamp": 1568161099566,
     "user": {
      "displayName": "Nick Feamster",
      "photoUrl": "https://lh3.googleusercontent.com/a-/AAuE7mDFvpet_sPPt5yq3MRRzIX3Q-CgsLV2DMhtu_Ivbl0=s64",
      "userId": "11425047561900094109"
     },
     "user_tz": 300
    },
    "id": "snx-r1ifqy6A",
    "outputId": "fda04f0c-7e2f-46ff-a50a-392322999a1a"
   },
   "outputs": [
    {
     "data": {
      "text/plain": [
       "array([2.])"
      ]
     },
     "execution_count": 6,
     "metadata": {},
     "output_type": "execute_result"
    }
   ],
   "source": [
    "from sklearn.tree import DecisionTreeRegressor\n",
    "decisiontree = DecisionTreeRegressor(random_state=0)\n",
    "model = decisiontree.fit(features, targets)\n",
    "\n",
    "observation = [[0.02, 16, 13, 2]]\n",
    "model.predict(observation)"
   ]
  },
  {
   "cell_type": "markdown",
   "metadata": {
    "colab_type": "text",
    "id": "4yZyeoi7sSZU"
   },
   "source": [
    "### Random Forest Classifier"
   ]
  },
  {
   "cell_type": "code",
   "execution_count": 7,
   "metadata": {
    "colab": {
     "base_uri": "https://localhost:8080/",
     "height": 34
    },
    "colab_type": "code",
    "executionInfo": {
     "elapsed": 366,
     "status": "ok",
     "timestamp": 1568161204358,
     "user": {
      "displayName": "Nick Feamster",
      "photoUrl": "https://lh3.googleusercontent.com/a-/AAuE7mDFvpet_sPPt5yq3MRRzIX3Q-CgsLV2DMhtu_Ivbl0=s64",
      "userId": "11425047561900094109"
     },
     "user_tz": 300
    },
    "id": "rGDMDF_xrqcV",
    "outputId": "512171d5-c58a-4925-be87-8f4257affb59"
   },
   "outputs": [
    {
     "data": {
      "text/plain": [
       "array([1])"
      ]
     },
     "execution_count": 7,
     "metadata": {},
     "output_type": "execute_result"
    }
   ],
   "source": [
    "from sklearn.ensemble import RandomForestClassifier\n",
    "randomforest = RandomForestClassifier(random_state=0, n_estimators=100)\n",
    "model = randomforest.fit(features, targets)\n",
    "\n",
    "#randomforest_entropy = RandomForestClassifier(criterion='entropy', random_state=0)\n",
    "#model_entropy = randomforest_entropy.fit(features, target)\n",
    "\n",
    "observation = [[ 5, 4, 3, 2]]\n",
    "model.predict(observation)"
   ]
  },
  {
   "cell_type": "markdown",
   "metadata": {
    "colab_type": "text",
    "id": "ZBFcJZM2sbsS"
   },
   "source": [
    "### Feature Importance\n",
    "\n",
    "It is also possible to get a weighting of feature importance in a random forest classifier."
   ]
  },
  {
   "cell_type": "code",
   "execution_count": 10,
   "metadata": {
    "colab": {
     "base_uri": "https://localhost:8080/",
     "height": 394
    },
    "colab_type": "code",
    "executionInfo": {
     "elapsed": 518,
     "status": "ok",
     "timestamp": 1568161433822,
     "user": {
      "displayName": "Nick Feamster",
      "photoUrl": "https://lh3.googleusercontent.com/a-/AAuE7mDFvpet_sPPt5yq3MRRzIX3Q-CgsLV2DMhtu_Ivbl0=s64",
      "userId": "11425047561900094109"
     },
     "user_tz": 300
    },
    "id": "Cyc37jRFsfMx",
    "outputId": "64a296ab-bcb2-4fe5-a7e2-bcaf1f4c860e"
   },
   "outputs": [
    {
     "name": "stdout",
     "output_type": "stream",
     "text": [
      "[0.09090795 0.02453104 0.46044474 0.42411627]\n",
      "model.feature_importances_: [0.09090795 0.02453104 0.46044474 0.42411627]\n"
     ]
    },
    {
     "data": {
      "image/png": "[encoded data removed]",
      "text/plain": [
       "<Figure size 640x480 with 1 Axes>"
      ]
     },
     "metadata": {},
     "output_type": "display_data"
    }
   ],
   "source": [
    "import numpy as np\n",
    "import matplotlib.pyplot as plt\n",
    "\n",
    "# Ask for feature importances from trained model\n",
    "importances = model.feature_importances_\n",
    "\n",
    "print(importances[:10])\n",
    "\n",
    "# plot the relative importance of each feature\n",
    "print(\"model.feature_importances_: {}\".format(importances))\n",
    "\n",
    "# sort the indices in order of importance\n",
    "indices = np.argsort(importances)[::-1]\n",
    "\n",
    "\n",
    "# plot the relative importances\n",
    "names = [iris.feature_names[i] for i in indices]\n",
    "plt.figure()\n",
    "plt.title(\"feature importance\")\n",
    "plt.bar(range(features.shape[1]), importances[indices])\n",
    "plt.xticks(range(features.shape[1]), names, rotation=90)\n",
    "plt.show()"
   ]
  },
  {
   "cell_type": "markdown",
   "metadata": {
    "colab_type": "text",
    "id": "Zbs3sigeuKRi"
   },
   "source": [
    "### Boosting"
   ]
  },
  {
   "cell_type": "markdown",
   "metadata": {
    "colab_type": "text",
    "id": "mEgFH91-tt-N"
   },
   "source": [
    "In a random forest, an ensemble (group) of randomized decision trees predicts the target vector. \n",
    "\n",
    "An alternative approach is called boosting. In one form of boosting called AdaBoost, we iteratively train a series of weak models (most often a shallow decision tree, sometimes called a stump), each iteration giving higher priority to observations the previous model predicted incorrectly. \n",
    "\n",
    "More specifically in AdaBoost:\n",
    "\n",
    "    Assign every observation, $x_p$ an initial weight value, $w_i = \\frac{1}{n}$, where n is the total number of observations in the dat\n",
    "\n",
    "    Train a \"weak\" model on the data\n",
    "\n",
    "    For each observation: a. If weak model predicts $x_i$ correctly $w_i$ is increased. b. If weak model predicts $x_i$ incorrectly $w_i$ is decreased.\n",
    "\n",
    "    Train a new weak model where observations with greater $w_i$ are given greater priority.\n",
    "\n",
    "    Repeat steps 4 and 5 until the data is perfectly predicted or a preset number of weak models has been trained\n",
    "\n",
    "The end result is an aggregated model where individual weak mdoels focus on more difficult (from a prediction perspective) observations."
   ]
  },
  {
   "cell_type": "code",
   "execution_count": 11,
   "metadata": {
    "colab": {
     "base_uri": "https://localhost:8080/",
     "height": 34
    },
    "colab_type": "code",
    "executionInfo": {
     "elapsed": 323,
     "status": "ok",
     "timestamp": 1568161694726,
     "user": {
      "displayName": "Nick Feamster",
      "photoUrl": "https://lh3.googleusercontent.com/a-/AAuE7mDFvpet_sPPt5yq3MRRzIX3Q-CgsLV2DMhtu_Ivbl0=s64",
      "userId": "11425047561900094109"
     },
     "user_tz": 300
    },
    "id": "Kt1z71Losmc1",
    "outputId": "805c5146-f933-4bd0-f94f-cb3b85c2bee0"
   },
   "outputs": [
    {
     "data": {
      "text/plain": [
       "array([2])"
      ]
     },
     "execution_count": 11,
     "metadata": {},
     "output_type": "execute_result"
    }
   ],
   "source": [
    "from sklearn.ensemble import AdaBoostClassifier\n",
    "adaboost = AdaBoostClassifier(random_state=0)\n",
    "\n",
    "model = adaboost.fit(features, targets)\n",
    "model.predict(observation)"
   ]
  }
 ],
 "metadata": {
  "colab": {
   "name": "14. Trees and Forests - Chapter 14.ipynb",
   "provenance": [],
   "version": "0.3.2"
  },
  "kernelspec": {
   "display_name": "Python 3",
   "language": "python",
   "name": "python3"
  },
  "language_info": {
   "codemirror_mode": {
    "name": "ipython",
    "version": 3
   },
   "file_extension": ".py",
   "mimetype": "text/x-python",
   "name": "python",
   "nbconvert_exporter": "python",
   "pygments_lexer": "ipython3",
   "version": "3.7.1"
  }
 },
 "nbformat": 4,
 "nbformat_minor": 1
}
