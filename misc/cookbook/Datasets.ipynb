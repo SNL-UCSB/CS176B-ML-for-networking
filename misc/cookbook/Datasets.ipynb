{
 "cells": [
  {
   "cell_type": "markdown",
   "metadata": {
    "colab_type": "text",
    "id": "QClbYwOKpC__"
   },
   "source": [
    "# **Datasets**"
   ]
  },
  {
   "cell_type": "code",
   "execution_count": 7,
   "metadata": {
    "colab": {},
    "colab_type": "code",
    "id": "TD13BBEloYNE"
   },
   "outputs": [],
   "source": [
    "# plotting libraries\n",
    "import matplotlib as mpl\n",
    "import matplotlib.pyplot as plt\n",
    "\n",
    "# scikit-learn is a very common machine learning library\n",
    "# load scikit-learn's datasets\n",
    "from sklearn import datasets"
   ]
  },
  {
   "cell_type": "markdown",
   "metadata": {
    "colab_type": "text",
    "id": "PKdPSg9GpJe1"
   },
   "source": [
    "[Example Toy Datasets](https://scikit-learn.org/stable/datasets/index.html#toy-datasets) included with Python scikit-learn.\n",
    "\n",
    "* load_boston([return_X_y]) \tLoad and return the boston house-prices dataset (regression).\n",
    "* load_iris([return_X_y]) \tLoad and return the iris dataset (classification).\n",
    "* load_diabetes([return_X_y]) \tLoad and return the diabetes dataset (regression).\n",
    "* load_digits([n_class, return_X_y]) \tLoad and return the digits dataset (classification).\n",
    "* load_linnerud([return_X_y]) \tLoad and return the linnerud dataset (multivariate regression).\n",
    "* load_wine([return_X_y]) \tLoad and return the wine dataset (classification).\n",
    "* load_breast_cancer([return_X_y]) \tLoad and return the breast cancer wisconsin dataset (classification)."
   ]
  },
  {
   "cell_type": "markdown",
   "metadata": {},
   "source": [
    "### Looking at the Digits Example Dataset"
   ]
  },
  {
   "cell_type": "code",
   "execution_count": 3,
   "metadata": {
    "colab": {},
    "colab_type": "code",
    "id": "4PKZL7O_ojkH"
   },
   "outputs": [],
   "source": [
    "# load digits dataset\n",
    "digits = datasets.load_digits()"
   ]
  },
  {
   "cell_type": "code",
   "execution_count": 4,
   "metadata": {
    "colab": {},
    "colab_type": "code",
    "id": "etzuW3Stot6G"
   },
   "outputs": [],
   "source": [
    "# create features matrix\n",
    "features = digits.data\n",
    "\n",
    "# create target vector (outcomes, what we're trying to predict)\n",
    "target = digits.target"
   ]
  },
  {
   "cell_type": "code",
   "execution_count": 11,
   "metadata": {
    "colab": {
     "base_uri": "https://localhost:8080/",
     "height": 34
    },
    "colab_type": "code",
    "executionInfo": {
     "elapsed": 301,
     "status": "ok",
     "timestamp": 1566952342527,
     "user": {
      "displayName": "Nick Feamster",
      "photoUrl": "https://lh3.googleusercontent.com/a-/AAuE7mDFvpet_sPPt5yq3MRRzIX3Q-CgsLV2DMhtu_Ivbl0=s64",
      "userId": "11425047561900094109"
     },
     "user_tz": 300
    },
    "id": "HxIyEXdsoxgY",
    "outputId": "58c28581-e6e1-4c4b-a334-df9a634b59f8"
   },
   "outputs": [
    {
     "data": {
      "text/plain": [
       "(1797, 64)"
      ]
     },
     "execution_count": 11,
     "metadata": {},
     "output_type": "execute_result"
    }
   ],
   "source": [
    "features.shape"
   ]
  },
  {
   "cell_type": "markdown",
   "metadata": {},
   "source": [
    "Each entry is an 8x8 pixel image with intensity values. Let's reshape the matrix so that we can see what it looks like."
   ]
  },
  {
   "cell_type": "code",
   "execution_count": 9,
   "metadata": {
    "colab": {
     "base_uri": "https://localhost:8080/",
     "height": 102
    },
    "colab_type": "code",
    "executionInfo": {
     "elapsed": 325,
     "status": "ok",
     "timestamp": 1566952364938,
     "user": {
      "displayName": "Nick Feamster",
      "photoUrl": "https://lh3.googleusercontent.com/a-/AAuE7mDFvpet_sPPt5yq3MRRzIX3Q-CgsLV2DMhtu_Ivbl0=s64",
      "userId": "11425047561900094109"
     },
     "user_tz": 300
    },
    "id": "FkFwI3r9o0KY",
    "outputId": "d8f8cdec-6a6e-4582-b9c8-229e3ff7443d"
   },
   "outputs": [
    {
     "data": {
      "text/plain": [
       "array([[ 0.,  0.,  5., 13.,  9.,  1.,  0.,  0.],\n",
       "       [ 0.,  0., 13., 15., 10., 15.,  5.,  0.],\n",
       "       [ 0.,  3., 15.,  2.,  0., 11.,  8.,  0.],\n",
       "       [ 0.,  4., 12.,  0.,  0.,  8.,  8.,  0.],\n",
       "       [ 0.,  5.,  8.,  0.,  0.,  9.,  8.,  0.],\n",
       "       [ 0.,  4., 11.,  0.,  1., 12.,  7.,  0.],\n",
       "       [ 0.,  2., 14.,  5., 10., 12.,  0.,  0.],\n",
       "       [ 0.,  0.,  6., 13., 10.,  0.,  0.,  0.]])"
      ]
     },
     "execution_count": 9,
     "metadata": {},
     "output_type": "execute_result"
    }
   ],
   "source": [
    "# -1 says \"give me as many as needed\"\n",
    "features[0].reshape(8,-1)"
   ]
  },
  {
   "cell_type": "markdown",
   "metadata": {},
   "source": [
    "The label for the above feature set is given in the corresponding entry in the \"target\" data structure."
   ]
  },
  {
   "cell_type": "code",
   "execution_count": 7,
   "metadata": {},
   "outputs": [
    {
     "data": {
      "text/plain": [
       "0"
      ]
     },
     "execution_count": 7,
     "metadata": {},
     "output_type": "execute_result"
    }
   ],
   "source": [
    "target[0]"
   ]
  },
  {
   "cell_type": "code",
   "execution_count": 10,
   "metadata": {
    "colab": {
     "base_uri": "https://localhost:8080/",
     "height": 269
    },
    "colab_type": "code",
    "executionInfo": {
     "elapsed": 676,
     "status": "ok",
     "timestamp": 1566952714828,
     "user": {
      "displayName": "Nick Feamster",
      "photoUrl": "https://lh3.googleusercontent.com/a-/AAuE7mDFvpet_sPPt5yq3MRRzIX3Q-CgsLV2DMhtu_Ivbl0=s64",
      "userId": "11425047561900094109"
     },
     "user_tz": 300
    },
    "id": "aUab4DJRp6f2",
    "outputId": "e5cb3184-df9c-49a4-d393-f5b40397efa9"
   },
   "outputs": [
    {
     "data": {
      "image/png": "[encoded data removed]",
      "text/plain": [
       "<Figure size 640x480 with 1 Axes>"
      ]
     },
     "metadata": {},
     "output_type": "display_data"
    }
   ],
   "source": [
    "# load library\n",
    "import matplotlib.pyplot as plt\n",
    "\n",
    "# view scatterplot\n",
    "plt.scatter(features[:, 0], features[:, 2], c=target)\n",
    "plt.show()"
   ]
  },
  {
   "cell_type": "markdown",
   "metadata": {},
   "source": [
    "### Example: Boston Housing Prices Dataset\n",
    "\n",
    "**Features:**\n",
    "0. CRIM per capita crime rate by town\n",
    "1. ZN proportion of residential land zoned for lots over 25,000 sq.ft.\n",
    "2. INDUS proportion of non-retail business acres per town\n",
    "3. CHAS Charles River dummy variable (= 1 if tract bounds river; 0 otherwise)\n",
    "4. NOX nitric oxides concentration (parts per 10 million)\n",
    "5. RM average number of rooms per dwelling\n",
    "6. AGE proportion of owner-occupied units built prior to 1940\n",
    "7. DIS weighted distances to five Boston employment centres\n",
    "8. RAD index of accessibility to radial highways\n",
    "9. TAX full-value property-tax rate per $10,000\n",
    "10. PTRATIO pupil-teacher ratio by town\n",
    "11. B 1000(Bk - 0.63)^2 where Bk is the proportion of blacks by town\n",
    "12. LSTAT % lower status of the population\n",
    "\n",
    "**Target:**\n",
    "* MEDV Median value of owner-occupied homes in $1000’s"
   ]
  },
  {
   "cell_type": "code",
   "execution_count": 15,
   "metadata": {},
   "outputs": [],
   "source": [
    "from sklearn.datasets import load_boston\n",
    "import pandas as pd\n",
    "\n",
    "X_arr, y_arr = load_boston(return_X_y=True)\n",
    "\n",
    "X = pd.DataFrame(X_arr)\n",
    "y = pd.DataFrame(y_arr)"
   ]
  },
  {
   "cell_type": "code",
   "execution_count": 16,
   "metadata": {},
   "outputs": [
    {
     "data": {
      "text/html": [
       "<div>\n",
       "<style scoped>\n",
       "    .dataframe tbody tr th:only-of-type {\n",
       "        vertical-align: middle;\n",
       "    }\n",
       "\n",
       "    .dataframe tbody tr th {\n",
       "        vertical-align: top;\n",
       "    }\n",
       "\n",
       "    .dataframe thead th {\n",
       "        text-align: right;\n",
       "    }\n",
       "</style>\n",
       "<table border=\"1\" class=\"dataframe\">\n",
       "  <thead>\n",
       "    <tr style=\"text-align: right;\">\n",
       "      <th></th>\n",
       "      <th>0</th>\n",
       "      <th>1</th>\n",
       "      <th>2</th>\n",
       "      <th>3</th>\n",
       "      <th>4</th>\n",
       "      <th>5</th>\n",
       "      <th>6</th>\n",
       "      <th>7</th>\n",
       "      <th>8</th>\n",
       "      <th>9</th>\n",
       "      <th>10</th>\n",
       "      <th>11</th>\n",
       "      <th>12</th>\n",
       "    </tr>\n",
       "  </thead>\n",
       "  <tbody>\n",
       "    <tr>\n",
       "      <th>0</th>\n",
       "      <td>0.00632</td>\n",
       "      <td>18.0</td>\n",
       "      <td>2.31</td>\n",
       "      <td>0.0</td>\n",
       "      <td>0.538</td>\n",
       "      <td>6.575</td>\n",
       "      <td>65.2</td>\n",
       "      <td>4.0900</td>\n",
       "      <td>1.0</td>\n",
       "      <td>296.0</td>\n",
       "      <td>15.3</td>\n",
       "      <td>396.90</td>\n",
       "      <td>4.98</td>\n",
       "    </tr>\n",
       "    <tr>\n",
       "      <th>1</th>\n",
       "      <td>0.02731</td>\n",
       "      <td>0.0</td>\n",
       "      <td>7.07</td>\n",
       "      <td>0.0</td>\n",
       "      <td>0.469</td>\n",
       "      <td>6.421</td>\n",
       "      <td>78.9</td>\n",
       "      <td>4.9671</td>\n",
       "      <td>2.0</td>\n",
       "      <td>242.0</td>\n",
       "      <td>17.8</td>\n",
       "      <td>396.90</td>\n",
       "      <td>9.14</td>\n",
       "    </tr>\n",
       "    <tr>\n",
       "      <th>2</th>\n",
       "      <td>0.02729</td>\n",
       "      <td>0.0</td>\n",
       "      <td>7.07</td>\n",
       "      <td>0.0</td>\n",
       "      <td>0.469</td>\n",
       "      <td>7.185</td>\n",
       "      <td>61.1</td>\n",
       "      <td>4.9671</td>\n",
       "      <td>2.0</td>\n",
       "      <td>242.0</td>\n",
       "      <td>17.8</td>\n",
       "      <td>392.83</td>\n",
       "      <td>4.03</td>\n",
       "    </tr>\n",
       "    <tr>\n",
       "      <th>3</th>\n",
       "      <td>0.03237</td>\n",
       "      <td>0.0</td>\n",
       "      <td>2.18</td>\n",
       "      <td>0.0</td>\n",
       "      <td>0.458</td>\n",
       "      <td>6.998</td>\n",
       "      <td>45.8</td>\n",
       "      <td>6.0622</td>\n",
       "      <td>3.0</td>\n",
       "      <td>222.0</td>\n",
       "      <td>18.7</td>\n",
       "      <td>394.63</td>\n",
       "      <td>2.94</td>\n",
       "    </tr>\n",
       "    <tr>\n",
       "      <th>4</th>\n",
       "      <td>0.06905</td>\n",
       "      <td>0.0</td>\n",
       "      <td>2.18</td>\n",
       "      <td>0.0</td>\n",
       "      <td>0.458</td>\n",
       "      <td>7.147</td>\n",
       "      <td>54.2</td>\n",
       "      <td>6.0622</td>\n",
       "      <td>3.0</td>\n",
       "      <td>222.0</td>\n",
       "      <td>18.7</td>\n",
       "      <td>396.90</td>\n",
       "      <td>5.33</td>\n",
       "    </tr>\n",
       "  </tbody>\n",
       "</table>\n",
       "</div>"
      ],
      "text/plain": [
       "         0     1     2    3      4      5     6       7    8      9    10  \\\n",
       "0  0.00632  18.0  2.31  0.0  0.538  6.575  65.2  4.0900  1.0  296.0  15.3   \n",
       "1  0.02731   0.0  7.07  0.0  0.469  6.421  78.9  4.9671  2.0  242.0  17.8   \n",
       "2  0.02729   0.0  7.07  0.0  0.469  7.185  61.1  4.9671  2.0  242.0  17.8   \n",
       "3  0.03237   0.0  2.18  0.0  0.458  6.998  45.8  6.0622  3.0  222.0  18.7   \n",
       "4  0.06905   0.0  2.18  0.0  0.458  7.147  54.2  6.0622  3.0  222.0  18.7   \n",
       "\n",
       "       11    12  \n",
       "0  396.90  4.98  \n",
       "1  396.90  9.14  \n",
       "2  392.83  4.03  \n",
       "3  394.63  2.94  \n",
       "4  396.90  5.33  "
      ]
     },
     "execution_count": 16,
     "metadata": {},
     "output_type": "execute_result"
    }
   ],
   "source": [
    "X.head(5)"
   ]
  },
  {
   "cell_type": "code",
   "execution_count": 20,
   "metadata": {},
   "outputs": [
    {
     "data": {
      "text/html": [
       "<div>\n",
       "<style scoped>\n",
       "    .dataframe tbody tr th:only-of-type {\n",
       "        vertical-align: middle;\n",
       "    }\n",
       "\n",
       "    .dataframe tbody tr th {\n",
       "        vertical-align: top;\n",
       "    }\n",
       "\n",
       "    .dataframe thead th {\n",
       "        text-align: right;\n",
       "    }\n",
       "</style>\n",
       "<table border=\"1\" class=\"dataframe\">\n",
       "  <thead>\n",
       "    <tr style=\"text-align: right;\">\n",
       "      <th></th>\n",
       "      <th>6</th>\n",
       "      <th>9</th>\n",
       "    </tr>\n",
       "  </thead>\n",
       "  <tbody>\n",
       "    <tr>\n",
       "      <th>0</th>\n",
       "      <td>65.2</td>\n",
       "      <td>296.0</td>\n",
       "    </tr>\n",
       "    <tr>\n",
       "      <th>1</th>\n",
       "      <td>78.9</td>\n",
       "      <td>242.0</td>\n",
       "    </tr>\n",
       "    <tr>\n",
       "      <th>2</th>\n",
       "      <td>61.1</td>\n",
       "      <td>242.0</td>\n",
       "    </tr>\n",
       "    <tr>\n",
       "      <th>3</th>\n",
       "      <td>45.8</td>\n",
       "      <td>222.0</td>\n",
       "    </tr>\n",
       "    <tr>\n",
       "      <th>4</th>\n",
       "      <td>54.2</td>\n",
       "      <td>222.0</td>\n",
       "    </tr>\n",
       "  </tbody>\n",
       "</table>\n",
       "</div>"
      ],
      "text/plain": [
       "      6      9\n",
       "0  65.2  296.0\n",
       "1  78.9  242.0\n",
       "2  61.1  242.0\n",
       "3  45.8  222.0\n",
       "4  54.2  222.0"
      ]
     },
     "execution_count": 20,
     "metadata": {},
     "output_type": "execute_result"
    }
   ],
   "source": [
    "features = X.loc[:,[6,9]]\n",
    "features.head(5)"
   ]
  },
  {
   "cell_type": "code",
   "execution_count": 17,
   "metadata": {},
   "outputs": [
    {
     "data": {
      "text/html": [
       "<div>\n",
       "<style scoped>\n",
       "    .dataframe tbody tr th:only-of-type {\n",
       "        vertical-align: middle;\n",
       "    }\n",
       "\n",
       "    .dataframe tbody tr th {\n",
       "        vertical-align: top;\n",
       "    }\n",
       "\n",
       "    .dataframe thead th {\n",
       "        text-align: right;\n",
       "    }\n",
       "</style>\n",
       "<table border=\"1\" class=\"dataframe\">\n",
       "  <thead>\n",
       "    <tr style=\"text-align: right;\">\n",
       "      <th></th>\n",
       "      <th>0</th>\n",
       "    </tr>\n",
       "  </thead>\n",
       "  <tbody>\n",
       "    <tr>\n",
       "      <th>0</th>\n",
       "      <td>24.0</td>\n",
       "    </tr>\n",
       "    <tr>\n",
       "      <th>1</th>\n",
       "      <td>21.6</td>\n",
       "    </tr>\n",
       "    <tr>\n",
       "      <th>2</th>\n",
       "      <td>34.7</td>\n",
       "    </tr>\n",
       "    <tr>\n",
       "      <th>3</th>\n",
       "      <td>33.4</td>\n",
       "    </tr>\n",
       "    <tr>\n",
       "      <th>4</th>\n",
       "      <td>36.2</td>\n",
       "    </tr>\n",
       "  </tbody>\n",
       "</table>\n",
       "</div>"
      ],
      "text/plain": [
       "      0\n",
       "0  24.0\n",
       "1  21.6\n",
       "2  34.7\n",
       "3  33.4\n",
       "4  36.2"
      ]
     },
     "execution_count": 17,
     "metadata": {},
     "output_type": "execute_result"
    }
   ],
   "source": [
    "y.head(5)"
   ]
  },
  {
   "cell_type": "code",
   "execution_count": 23,
   "metadata": {},
   "outputs": [
    {
     "data": {
      "image/png": "[encoded data removed]",
      "text/plain": [
       "<Figure size 432x288 with 1 Axes>"
      ]
     },
     "metadata": {
      "needs_background": "light"
     },
     "output_type": "display_data"
    }
   ],
   "source": [
    "plt.xlabel('Proportion of units before 1940')\n",
    "plt.ylabel('Median value of home')\n",
    "plt.plot(X[6],y*1000,'*')\n",
    "plt.show()"
   ]
  },
  {
   "cell_type": "markdown",
   "metadata": {},
   "source": [
    "### Loading an CSV\n",
    "\n",
    "You can load a CSV from a local CSV file or from a URL.\n",
    "\n",
    "This file is downloaded locally but you can get it from [here](https://www.unb.ca/cic/datasets/ids-2017.html).\n"
   ]
  },
  {
   "cell_type": "code",
   "execution_count": 2,
   "metadata": {},
   "outputs": [],
   "source": [
    "import pandas as pd\n",
    "\n",
    "pkts = pd.read_csv('/data/CIC/CIC-IDS-2017/MachineLearningCVE/Friday-WorkingHours-Afternoon-PortScan.pcap_ISCX.csv')"
   ]
  },
  {
   "cell_type": "code",
   "execution_count": 3,
   "metadata": {},
   "outputs": [
    {
     "data": {
      "text/html": [
       "<div>\n",
       "<style scoped>\n",
       "    .dataframe tbody tr th:only-of-type {\n",
       "        vertical-align: middle;\n",
       "    }\n",
       "\n",
       "    .dataframe tbody tr th {\n",
       "        vertical-align: top;\n",
       "    }\n",
       "\n",
       "    .dataframe thead th {\n",
       "        text-align: right;\n",
       "    }\n",
       "</style>\n",
       "<table border=\"1\" class=\"dataframe\">\n",
       "  <thead>\n",
       "    <tr style=\"text-align: right;\">\n",
       "      <th></th>\n",
       "      <th>Destination Port</th>\n",
       "      <th>Flow Duration</th>\n",
       "      <th>Total Fwd Packets</th>\n",
       "      <th>Total Backward Packets</th>\n",
       "      <th>Total Length of Fwd Packets</th>\n",
       "      <th>Total Length of Bwd Packets</th>\n",
       "      <th>Fwd Packet Length Max</th>\n",
       "      <th>Fwd Packet Length Min</th>\n",
       "      <th>Fwd Packet Length Mean</th>\n",
       "      <th>Fwd Packet Length Std</th>\n",
       "      <th>...</th>\n",
       "      <th>min_seg_size_forward</th>\n",
       "      <th>Active Mean</th>\n",
       "      <th>Active Std</th>\n",
       "      <th>Active Max</th>\n",
       "      <th>Active Min</th>\n",
       "      <th>Idle Mean</th>\n",
       "      <th>Idle Std</th>\n",
       "      <th>Idle Max</th>\n",
       "      <th>Idle Min</th>\n",
       "      <th>Label</th>\n",
       "    </tr>\n",
       "  </thead>\n",
       "  <tbody>\n",
       "    <tr>\n",
       "      <th>0</th>\n",
       "      <td>22</td>\n",
       "      <td>1266342</td>\n",
       "      <td>41</td>\n",
       "      <td>44</td>\n",
       "      <td>2664</td>\n",
       "      <td>6954</td>\n",
       "      <td>456</td>\n",
       "      <td>0</td>\n",
       "      <td>64.975610</td>\n",
       "      <td>109.864573</td>\n",
       "      <td>...</td>\n",
       "      <td>32</td>\n",
       "      <td>0.0</td>\n",
       "      <td>0.0</td>\n",
       "      <td>0</td>\n",
       "      <td>0</td>\n",
       "      <td>0.0</td>\n",
       "      <td>0.0</td>\n",
       "      <td>0</td>\n",
       "      <td>0</td>\n",
       "      <td>BENIGN</td>\n",
       "    </tr>\n",
       "    <tr>\n",
       "      <th>1</th>\n",
       "      <td>22</td>\n",
       "      <td>1319353</td>\n",
       "      <td>41</td>\n",
       "      <td>44</td>\n",
       "      <td>2664</td>\n",
       "      <td>6954</td>\n",
       "      <td>456</td>\n",
       "      <td>0</td>\n",
       "      <td>64.975610</td>\n",
       "      <td>109.864573</td>\n",
       "      <td>...</td>\n",
       "      <td>32</td>\n",
       "      <td>0.0</td>\n",
       "      <td>0.0</td>\n",
       "      <td>0</td>\n",
       "      <td>0</td>\n",
       "      <td>0.0</td>\n",
       "      <td>0.0</td>\n",
       "      <td>0</td>\n",
       "      <td>0</td>\n",
       "      <td>BENIGN</td>\n",
       "    </tr>\n",
       "    <tr>\n",
       "      <th>2</th>\n",
       "      <td>22</td>\n",
       "      <td>160</td>\n",
       "      <td>1</td>\n",
       "      <td>1</td>\n",
       "      <td>0</td>\n",
       "      <td>0</td>\n",
       "      <td>0</td>\n",
       "      <td>0</td>\n",
       "      <td>0.000000</td>\n",
       "      <td>0.000000</td>\n",
       "      <td>...</td>\n",
       "      <td>32</td>\n",
       "      <td>0.0</td>\n",
       "      <td>0.0</td>\n",
       "      <td>0</td>\n",
       "      <td>0</td>\n",
       "      <td>0.0</td>\n",
       "      <td>0.0</td>\n",
       "      <td>0</td>\n",
       "      <td>0</td>\n",
       "      <td>BENIGN</td>\n",
       "    </tr>\n",
       "    <tr>\n",
       "      <th>3</th>\n",
       "      <td>22</td>\n",
       "      <td>1303488</td>\n",
       "      <td>41</td>\n",
       "      <td>42</td>\n",
       "      <td>2728</td>\n",
       "      <td>6634</td>\n",
       "      <td>456</td>\n",
       "      <td>0</td>\n",
       "      <td>66.536585</td>\n",
       "      <td>110.129945</td>\n",
       "      <td>...</td>\n",
       "      <td>32</td>\n",
       "      <td>0.0</td>\n",
       "      <td>0.0</td>\n",
       "      <td>0</td>\n",
       "      <td>0</td>\n",
       "      <td>0.0</td>\n",
       "      <td>0.0</td>\n",
       "      <td>0</td>\n",
       "      <td>0</td>\n",
       "      <td>BENIGN</td>\n",
       "    </tr>\n",
       "    <tr>\n",
       "      <th>4</th>\n",
       "      <td>35396</td>\n",
       "      <td>77</td>\n",
       "      <td>1</td>\n",
       "      <td>2</td>\n",
       "      <td>0</td>\n",
       "      <td>0</td>\n",
       "      <td>0</td>\n",
       "      <td>0</td>\n",
       "      <td>0.000000</td>\n",
       "      <td>0.000000</td>\n",
       "      <td>...</td>\n",
       "      <td>32</td>\n",
       "      <td>0.0</td>\n",
       "      <td>0.0</td>\n",
       "      <td>0</td>\n",
       "      <td>0</td>\n",
       "      <td>0.0</td>\n",
       "      <td>0.0</td>\n",
       "      <td>0</td>\n",
       "      <td>0</td>\n",
       "      <td>BENIGN</td>\n",
       "    </tr>\n",
       "  </tbody>\n",
       "</table>\n",
       "<p>5 rows × 79 columns</p>\n",
       "</div>"
      ],
      "text/plain": [
       "    Destination Port   Flow Duration   Total Fwd Packets  \\\n",
       "0                 22         1266342                  41   \n",
       "1                 22         1319353                  41   \n",
       "2                 22             160                   1   \n",
       "3                 22         1303488                  41   \n",
       "4              35396              77                   1   \n",
       "\n",
       "    Total Backward Packets  Total Length of Fwd Packets  \\\n",
       "0                       44                         2664   \n",
       "1                       44                         2664   \n",
       "2                        1                            0   \n",
       "3                       42                         2728   \n",
       "4                        2                            0   \n",
       "\n",
       "    Total Length of Bwd Packets   Fwd Packet Length Max  \\\n",
       "0                          6954                     456   \n",
       "1                          6954                     456   \n",
       "2                             0                       0   \n",
       "3                          6634                     456   \n",
       "4                             0                       0   \n",
       "\n",
       "    Fwd Packet Length Min   Fwd Packet Length Mean   Fwd Packet Length Std  \\\n",
       "0                       0                64.975610              109.864573   \n",
       "1                       0                64.975610              109.864573   \n",
       "2                       0                 0.000000                0.000000   \n",
       "3                       0                66.536585              110.129945   \n",
       "4                       0                 0.000000                0.000000   \n",
       "\n",
       "   ...   min_seg_size_forward  Active Mean   Active Std   Active Max  \\\n",
       "0  ...                     32          0.0          0.0            0   \n",
       "1  ...                     32          0.0          0.0            0   \n",
       "2  ...                     32          0.0          0.0            0   \n",
       "3  ...                     32          0.0          0.0            0   \n",
       "4  ...                     32          0.0          0.0            0   \n",
       "\n",
       "    Active Min  Idle Mean   Idle Std   Idle Max   Idle Min   Label  \n",
       "0            0        0.0        0.0          0          0  BENIGN  \n",
       "1            0        0.0        0.0          0          0  BENIGN  \n",
       "2            0        0.0        0.0          0          0  BENIGN  \n",
       "3            0        0.0        0.0          0          0  BENIGN  \n",
       "4            0        0.0        0.0          0          0  BENIGN  \n",
       "\n",
       "[5 rows x 79 columns]"
      ]
     },
     "execution_count": 3,
     "metadata": {},
     "output_type": "execute_result"
    }
   ],
   "source": [
    "pkts.head(5)"
   ]
  },
  {
   "cell_type": "code",
   "execution_count": 4,
   "metadata": {},
   "outputs": [
    {
     "data": {
      "text/plain": [
       "(286467, 79)"
      ]
     },
     "execution_count": 4,
     "metadata": {},
     "output_type": "execute_result"
    }
   ],
   "source": [
    "pkts.shape"
   ]
  },
  {
   "cell_type": "code",
   "execution_count": 5,
   "metadata": {},
   "outputs": [
    {
     "data": {
      "text/html": [
       "<div>\n",
       "<style scoped>\n",
       "    .dataframe tbody tr th:only-of-type {\n",
       "        vertical-align: middle;\n",
       "    }\n",
       "\n",
       "    .dataframe tbody tr th {\n",
       "        vertical-align: top;\n",
       "    }\n",
       "\n",
       "    .dataframe thead th {\n",
       "        text-align: right;\n",
       "    }\n",
       "</style>\n",
       "<table border=\"1\" class=\"dataframe\">\n",
       "  <thead>\n",
       "    <tr style=\"text-align: right;\">\n",
       "      <th></th>\n",
       "      <th>Destination Port</th>\n",
       "      <th>Flow Duration</th>\n",
       "      <th>Total Fwd Packets</th>\n",
       "      <th>Total Backward Packets</th>\n",
       "      <th>Total Length of Fwd Packets</th>\n",
       "      <th>Total Length of Bwd Packets</th>\n",
       "      <th>Fwd Packet Length Max</th>\n",
       "      <th>Fwd Packet Length Min</th>\n",
       "      <th>Fwd Packet Length Mean</th>\n",
       "      <th>Fwd Packet Length Std</th>\n",
       "      <th>...</th>\n",
       "      <th>act_data_pkt_fwd</th>\n",
       "      <th>min_seg_size_forward</th>\n",
       "      <th>Active Mean</th>\n",
       "      <th>Active Std</th>\n",
       "      <th>Active Max</th>\n",
       "      <th>Active Min</th>\n",
       "      <th>Idle Mean</th>\n",
       "      <th>Idle Std</th>\n",
       "      <th>Idle Max</th>\n",
       "      <th>Idle Min</th>\n",
       "    </tr>\n",
       "  </thead>\n",
       "  <tbody>\n",
       "    <tr>\n",
       "      <th>count</th>\n",
       "      <td>286467.000000</td>\n",
       "      <td>2.864670e+05</td>\n",
       "      <td>286467.000000</td>\n",
       "      <td>286467.000000</td>\n",
       "      <td>286467.000000</td>\n",
       "      <td>2.864670e+05</td>\n",
       "      <td>286467.000000</td>\n",
       "      <td>286467.000000</td>\n",
       "      <td>286467.000000</td>\n",
       "      <td>286467.000000</td>\n",
       "      <td>...</td>\n",
       "      <td>286467.000000</td>\n",
       "      <td>286467.000000</td>\n",
       "      <td>2.864670e+05</td>\n",
       "      <td>2.864670e+05</td>\n",
       "      <td>2.864670e+05</td>\n",
       "      <td>2.864670e+05</td>\n",
       "      <td>2.864670e+05</td>\n",
       "      <td>2.864670e+05</td>\n",
       "      <td>2.864670e+05</td>\n",
       "      <td>2.864670e+05</td>\n",
       "    </tr>\n",
       "    <tr>\n",
       "      <th>mean</th>\n",
       "      <td>8044.876324</td>\n",
       "      <td>5.379331e+06</td>\n",
       "      <td>3.473283</td>\n",
       "      <td>3.520500</td>\n",
       "      <td>233.407667</td>\n",
       "      <td>2.707247e+03</td>\n",
       "      <td>81.033369</td>\n",
       "      <td>10.352013</td>\n",
       "      <td>24.138688</td>\n",
       "      <td>24.590994</td>\n",
       "      <td>...</td>\n",
       "      <td>1.728618</td>\n",
       "      <td>29.075328</td>\n",
       "      <td>3.409213e+04</td>\n",
       "      <td>2.294987e+04</td>\n",
       "      <td>7.785722e+04</td>\n",
       "      <td>2.171380e+04</td>\n",
       "      <td>1.602973e+06</td>\n",
       "      <td>6.120390e+04</td>\n",
       "      <td>1.647188e+06</td>\n",
       "      <td>1.536286e+06</td>\n",
       "    </tr>\n",
       "    <tr>\n",
       "      <th>std</th>\n",
       "      <td>15378.583442</td>\n",
       "      <td>2.192364e+07</td>\n",
       "      <td>19.515131</td>\n",
       "      <td>28.288916</td>\n",
       "      <td>1865.523600</td>\n",
       "      <td>5.097783e+04</td>\n",
       "      <td>327.768035</td>\n",
       "      <td>24.237795</td>\n",
       "      <td>78.381542</td>\n",
       "      <td>117.218043</td>\n",
       "      <td>...</td>\n",
       "      <td>14.897361</td>\n",
       "      <td>8.014607</td>\n",
       "      <td>4.659319e+05</td>\n",
       "      <td>2.623049e+05</td>\n",
       "      <td>7.342606e+05</td>\n",
       "      <td>4.223145e+05</td>\n",
       "      <td>8.682334e+06</td>\n",
       "      <td>1.217016e+06</td>\n",
       "      <td>8.882728e+06</td>\n",
       "      <td>8.561545e+06</td>\n",
       "    </tr>\n",
       "    <tr>\n",
       "      <th>min</th>\n",
       "      <td>0.000000</td>\n",
       "      <td>-1.300000e+01</td>\n",
       "      <td>1.000000</td>\n",
       "      <td>0.000000</td>\n",
       "      <td>0.000000</td>\n",
       "      <td>0.000000e+00</td>\n",
       "      <td>0.000000</td>\n",
       "      <td>0.000000</td>\n",
       "      <td>0.000000</td>\n",
       "      <td>0.000000</td>\n",
       "      <td>...</td>\n",
       "      <td>0.000000</td>\n",
       "      <td>0.000000</td>\n",
       "      <td>0.000000e+00</td>\n",
       "      <td>0.000000e+00</td>\n",
       "      <td>0.000000e+00</td>\n",
       "      <td>0.000000e+00</td>\n",
       "      <td>0.000000e+00</td>\n",
       "      <td>0.000000e+00</td>\n",
       "      <td>0.000000e+00</td>\n",
       "      <td>0.000000e+00</td>\n",
       "    </tr>\n",
       "    <tr>\n",
       "      <th>25%</th>\n",
       "      <td>80.000000</td>\n",
       "      <td>4.400000e+01</td>\n",
       "      <td>1.000000</td>\n",
       "      <td>1.000000</td>\n",
       "      <td>0.000000</td>\n",
       "      <td>6.000000e+00</td>\n",
       "      <td>0.000000</td>\n",
       "      <td>0.000000</td>\n",
       "      <td>0.000000</td>\n",
       "      <td>0.000000</td>\n",
       "      <td>...</td>\n",
       "      <td>0.000000</td>\n",
       "      <td>20.000000</td>\n",
       "      <td>0.000000e+00</td>\n",
       "      <td>0.000000e+00</td>\n",
       "      <td>0.000000e+00</td>\n",
       "      <td>0.000000e+00</td>\n",
       "      <td>0.000000e+00</td>\n",
       "      <td>0.000000e+00</td>\n",
       "      <td>0.000000e+00</td>\n",
       "      <td>0.000000e+00</td>\n",
       "    </tr>\n",
       "    <tr>\n",
       "      <th>50%</th>\n",
       "      <td>1110.000000</td>\n",
       "      <td>6.500000e+01</td>\n",
       "      <td>1.000000</td>\n",
       "      <td>1.000000</td>\n",
       "      <td>2.000000</td>\n",
       "      <td>6.000000e+00</td>\n",
       "      <td>2.000000</td>\n",
       "      <td>2.000000</td>\n",
       "      <td>2.000000</td>\n",
       "      <td>0.000000</td>\n",
       "      <td>...</td>\n",
       "      <td>0.000000</td>\n",
       "      <td>24.000000</td>\n",
       "      <td>0.000000e+00</td>\n",
       "      <td>0.000000e+00</td>\n",
       "      <td>0.000000e+00</td>\n",
       "      <td>0.000000e+00</td>\n",
       "      <td>0.000000e+00</td>\n",
       "      <td>0.000000e+00</td>\n",
       "      <td>0.000000e+00</td>\n",
       "      <td>0.000000e+00</td>\n",
       "    </tr>\n",
       "    <tr>\n",
       "      <th>75%</th>\n",
       "      <td>6881.000000</td>\n",
       "      <td>2.380600e+04</td>\n",
       "      <td>2.000000</td>\n",
       "      <td>2.000000</td>\n",
       "      <td>62.000000</td>\n",
       "      <td>1.150000e+02</td>\n",
       "      <td>37.000000</td>\n",
       "      <td>6.000000</td>\n",
       "      <td>34.000000</td>\n",
       "      <td>0.000000</td>\n",
       "      <td>...</td>\n",
       "      <td>1.000000</td>\n",
       "      <td>40.000000</td>\n",
       "      <td>0.000000e+00</td>\n",
       "      <td>0.000000e+00</td>\n",
       "      <td>0.000000e+00</td>\n",
       "      <td>0.000000e+00</td>\n",
       "      <td>0.000000e+00</td>\n",
       "      <td>0.000000e+00</td>\n",
       "      <td>0.000000e+00</td>\n",
       "      <td>0.000000e+00</td>\n",
       "    </tr>\n",
       "    <tr>\n",
       "      <th>max</th>\n",
       "      <td>65389.000000</td>\n",
       "      <td>1.199999e+08</td>\n",
       "      <td>3119.000000</td>\n",
       "      <td>3635.000000</td>\n",
       "      <td>232349.000000</td>\n",
       "      <td>7.150819e+06</td>\n",
       "      <td>13929.000000</td>\n",
       "      <td>1472.000000</td>\n",
       "      <td>3412.938776</td>\n",
       "      <td>3541.466551</td>\n",
       "      <td>...</td>\n",
       "      <td>2056.000000</td>\n",
       "      <td>60.000000</td>\n",
       "      <td>1.100000e+08</td>\n",
       "      <td>7.050000e+07</td>\n",
       "      <td>1.100000e+08</td>\n",
       "      <td>1.100000e+08</td>\n",
       "      <td>1.200000e+08</td>\n",
       "      <td>7.050000e+07</td>\n",
       "      <td>1.200000e+08</td>\n",
       "      <td>1.200000e+08</td>\n",
       "    </tr>\n",
       "  </tbody>\n",
       "</table>\n",
       "<p>8 rows × 78 columns</p>\n",
       "</div>"
      ],
      "text/plain": [
       "        Destination Port   Flow Duration   Total Fwd Packets  \\\n",
       "count      286467.000000    2.864670e+05       286467.000000   \n",
       "mean         8044.876324    5.379331e+06            3.473283   \n",
       "std         15378.583442    2.192364e+07           19.515131   \n",
       "min             0.000000   -1.300000e+01            1.000000   \n",
       "25%            80.000000    4.400000e+01            1.000000   \n",
       "50%          1110.000000    6.500000e+01            1.000000   \n",
       "75%          6881.000000    2.380600e+04            2.000000   \n",
       "max         65389.000000    1.199999e+08         3119.000000   \n",
       "\n",
       "        Total Backward Packets  Total Length of Fwd Packets  \\\n",
       "count            286467.000000                286467.000000   \n",
       "mean                  3.520500                   233.407667   \n",
       "std                  28.288916                  1865.523600   \n",
       "min                   0.000000                     0.000000   \n",
       "25%                   1.000000                     0.000000   \n",
       "50%                   1.000000                     2.000000   \n",
       "75%                   2.000000                    62.000000   \n",
       "max                3635.000000                232349.000000   \n",
       "\n",
       "        Total Length of Bwd Packets   Fwd Packet Length Max  \\\n",
       "count                  2.864670e+05           286467.000000   \n",
       "mean                   2.707247e+03               81.033369   \n",
       "std                    5.097783e+04              327.768035   \n",
       "min                    0.000000e+00                0.000000   \n",
       "25%                    6.000000e+00                0.000000   \n",
       "50%                    6.000000e+00                2.000000   \n",
       "75%                    1.150000e+02               37.000000   \n",
       "max                    7.150819e+06            13929.000000   \n",
       "\n",
       "        Fwd Packet Length Min   Fwd Packet Length Mean  \\\n",
       "count           286467.000000            286467.000000   \n",
       "mean                10.352013                24.138688   \n",
       "std                 24.237795                78.381542   \n",
       "min                  0.000000                 0.000000   \n",
       "25%                  0.000000                 0.000000   \n",
       "50%                  2.000000                 2.000000   \n",
       "75%                  6.000000                34.000000   \n",
       "max               1472.000000              3412.938776   \n",
       "\n",
       "        Fwd Packet Length Std  ...   act_data_pkt_fwd   min_seg_size_forward  \\\n",
       "count           286467.000000  ...      286467.000000          286467.000000   \n",
       "mean                24.590994  ...           1.728618              29.075328   \n",
       "std                117.218043  ...          14.897361               8.014607   \n",
       "min                  0.000000  ...           0.000000               0.000000   \n",
       "25%                  0.000000  ...           0.000000              20.000000   \n",
       "50%                  0.000000  ...           0.000000              24.000000   \n",
       "75%                  0.000000  ...           1.000000              40.000000   \n",
       "max               3541.466551  ...        2056.000000              60.000000   \n",
       "\n",
       "        Active Mean    Active Std    Active Max    Active Min     Idle Mean  \\\n",
       "count  2.864670e+05  2.864670e+05  2.864670e+05  2.864670e+05  2.864670e+05   \n",
       "mean   3.409213e+04  2.294987e+04  7.785722e+04  2.171380e+04  1.602973e+06   \n",
       "std    4.659319e+05  2.623049e+05  7.342606e+05  4.223145e+05  8.682334e+06   \n",
       "min    0.000000e+00  0.000000e+00  0.000000e+00  0.000000e+00  0.000000e+00   \n",
       "25%    0.000000e+00  0.000000e+00  0.000000e+00  0.000000e+00  0.000000e+00   \n",
       "50%    0.000000e+00  0.000000e+00  0.000000e+00  0.000000e+00  0.000000e+00   \n",
       "75%    0.000000e+00  0.000000e+00  0.000000e+00  0.000000e+00  0.000000e+00   \n",
       "max    1.100000e+08  7.050000e+07  1.100000e+08  1.100000e+08  1.200000e+08   \n",
       "\n",
       "           Idle Std      Idle Max      Idle Min  \n",
       "count  2.864670e+05  2.864670e+05  2.864670e+05  \n",
       "mean   6.120390e+04  1.647188e+06  1.536286e+06  \n",
       "std    1.217016e+06  8.882728e+06  8.561545e+06  \n",
       "min    0.000000e+00  0.000000e+00  0.000000e+00  \n",
       "25%    0.000000e+00  0.000000e+00  0.000000e+00  \n",
       "50%    0.000000e+00  0.000000e+00  0.000000e+00  \n",
       "75%    0.000000e+00  0.000000e+00  0.000000e+00  \n",
       "max    7.050000e+07  1.200000e+08  1.200000e+08  \n",
       "\n",
       "[8 rows x 78 columns]"
      ]
     },
     "execution_count": 5,
     "metadata": {},
     "output_type": "execute_result"
    }
   ],
   "source": [
    "pkts.describe()"
   ]
  },
  {
   "cell_type": "code",
   "execution_count": 17,
   "metadata": {},
   "outputs": [
    {
     "data": {
      "image/png": "[encoded data removed]",
      "text/plain": [
       "<Figure size 432x288 with 1 Axes>"
      ]
     },
     "metadata": {
      "needs_background": "light"
     },
     "output_type": "display_data"
    }
   ],
   "source": [
    "plt.plot(pkts.iloc[:,1]/1000000,pkts.iloc[:,4]/(1024), '*')\n",
    "plt.xlabel('Duration (sec)')\n",
    "plt.ylabel('Total Volume (KB)')\n",
    "plt.show()"
   ]
  },
  {
   "cell_type": "markdown",
   "metadata": {
    "colab_type": "text",
    "id": "54L5Ic8pqXG1"
   },
   "source": [
    "### Generated Datasets"
   ]
  },
  {
   "cell_type": "markdown",
   "metadata": {
    "colab_type": "text",
    "id": "OyPQkrbBrfI7"
   },
   "source": [
    "*Regression*\n",
    "\n",
    "The \"make_regression\" function will give you fake datapoints. This is not a real dataset, it is just simulated data based on parameters that you feed the function. It may be helpful for debugging."
   ]
  },
  {
   "cell_type": "code",
   "execution_count": 23,
   "metadata": {
    "colab": {},
    "colab_type": "code",
    "id": "mpPT0sfCqa2N"
   },
   "outputs": [],
   "source": [
    "from sklearn.datasets import make_regression\n",
    "\n",
    "# generate features matrix, target vector, and the true coefficients\n",
    "features, target, coefficients = make_regression(n_samples = 100,\n",
    "                                                 n_features = 3,\n",
    "                                                 n_informative = 3,\n",
    "                                                 n_targets = 1,\n",
    "                                                 noise = 0.0,\n",
    "                                                 coef = True,\n",
    "                                                 random_state = 1)"
   ]
  },
  {
   "cell_type": "code",
   "execution_count": 24,
   "metadata": {
    "colab": {
     "base_uri": "https://localhost:8080/",
     "height": 34
    },
    "colab_type": "code",
    "executionInfo": {
     "elapsed": 310,
     "status": "ok",
     "timestamp": 1566954243323,
     "user": {
      "displayName": "Nick Feamster",
      "photoUrl": "https://lh3.googleusercontent.com/a-/AAuE7mDFvpet_sPPt5yq3MRRzIX3Q-CgsLV2DMhtu_Ivbl0=s64",
      "userId": "11425047561900094109"
     },
     "user_tz": 300
    },
    "id": "EwLinCPoqi4u",
    "outputId": "1dbe91be-468c-4b32-ef4c-9b8343ad2ec9"
   },
   "outputs": [
    {
     "data": {
      "text/plain": [
       "(100, 3)"
      ]
     },
     "execution_count": 24,
     "metadata": {},
     "output_type": "execute_result"
    }
   ],
   "source": [
    "# x (features)\n",
    "features.shape"
   ]
  },
  {
   "cell_type": "code",
   "execution_count": 25,
   "metadata": {
    "colab": {
     "base_uri": "https://localhost:8080/",
     "height": 34
    },
    "colab_type": "code",
    "executionInfo": {
     "elapsed": 302,
     "status": "ok",
     "timestamp": 1566954250949,
     "user": {
      "displayName": "Nick Feamster",
      "photoUrl": "https://lh3.googleusercontent.com/a-/AAuE7mDFvpet_sPPt5yq3MRRzIX3Q-CgsLV2DMhtu_Ivbl0=s64",
      "userId": "11425047561900094109"
     },
     "user_tz": 300
    },
    "id": "OkJh7K0AqpCo",
    "outputId": "0f07bc9a-a404-4ac1-c34a-2fe6eb3fff8f"
   },
   "outputs": [
    {
     "data": {
      "text/plain": [
       "(100,)"
      ]
     },
     "execution_count": 25,
     "metadata": {},
     "output_type": "execute_result"
    }
   ],
   "source": [
    "# y (outcomes)\n",
    "target.shape"
   ]
  },
  {
   "cell_type": "code",
   "execution_count": 26,
   "metadata": {
    "colab": {
     "base_uri": "https://localhost:8080/",
     "height": 34
    },
    "colab_type": "code",
    "executionInfo": {
     "elapsed": 318,
     "status": "ok",
     "timestamp": 1566952859218,
     "user": {
      "displayName": "Nick Feamster",
      "photoUrl": "https://lh3.googleusercontent.com/a-/AAuE7mDFvpet_sPPt5yq3MRRzIX3Q-CgsLV2DMhtu_Ivbl0=s64",
      "userId": "11425047561900094109"
     },
     "user_tz": 300
    },
    "id": "_zCLD45-qtHg",
    "outputId": "7bb269a9-262c-4363-941a-0c912f5649e6"
   },
   "outputs": [
    {
     "data": {
      "text/plain": [
       "array([ 1.29322588, -0.61736206, -0.11044703])"
      ]
     },
     "execution_count": 26,
     "metadata": {},
     "output_type": "execute_result"
    }
   ],
   "source": [
    "features[0]"
   ]
  },
  {
   "cell_type": "code",
   "execution_count": 27,
   "metadata": {
    "colab": {
     "base_uri": "https://localhost:8080/",
     "height": 34
    },
    "colab_type": "code",
    "executionInfo": {
     "elapsed": 185,
     "status": "ok",
     "timestamp": 1566952864771,
     "user": {
      "displayName": "Nick Feamster",
      "photoUrl": "https://lh3.googleusercontent.com/a-/AAuE7mDFvpet_sPPt5yq3MRRzIX3Q-CgsLV2DMhtu_Ivbl0=s64",
      "userId": "11425047561900094109"
     },
     "user_tz": 300
    },
    "id": "ublU2YftqyTM",
    "outputId": "0bf40d85-69db-4a14-ec1a-a467e4f58ff8"
   },
   "outputs": [
    {
     "data": {
      "text/plain": [
       "-10.378659861310346"
      ]
     },
     "execution_count": 27,
     "metadata": {},
     "output_type": "execute_result"
    }
   ],
   "source": [
    "target[0]"
   ]
  },
  {
   "cell_type": "code",
   "execution_count": 28,
   "metadata": {
    "colab": {
     "base_uri": "https://localhost:8080/",
     "height": 119
    },
    "colab_type": "code",
    "executionInfo": {
     "elapsed": 292,
     "status": "ok",
     "timestamp": 1566952890457,
     "user": {
      "displayName": "Nick Feamster",
      "photoUrl": "https://lh3.googleusercontent.com/a-/AAuE7mDFvpet_sPPt5yq3MRRzIX3Q-CgsLV2DMhtu_Ivbl0=s64",
      "userId": "11425047561900094109"
     },
     "user_tz": 300
    },
    "id": "GXyeQze0qzrz",
    "outputId": "1daf9e3f-b39f-43a8-ffd9-0226d256ca3f"
   },
   "outputs": [
    {
     "name": "stdout",
     "output_type": "stream",
     "text": [
      "Feature Matrix \n",
      " [[ 1.29322588 -0.61736206 -0.11044703]\n",
      " [-2.793085    0.36633201  1.93752881]\n",
      " [ 0.80186103 -0.18656977  0.0465673 ]]\n",
      "Target Vector \n",
      " [-10.37865986  25.5124503   19.67705609]\n"
     ]
    }
   ],
   "source": [
    "# view feature matrix and target vector\n",
    "print(\"Feature Matrix \\n {}\".format(features[:3]))\n",
    "print(\"Target Vector \\n {}\".format(target[:3]))"
   ]
  },
  {
   "cell_type": "markdown",
   "metadata": {},
   "source": [
    "_Linear Regression Example_\n",
    "\n",
    "**Todo:** Write a sample linear regression with the sample data above."
   ]
  },
  {
   "cell_type": "markdown",
   "metadata": {
    "colab_type": "text",
    "id": "4MkiGh8PrjQD"
   },
   "source": [
    "*Classification*"
   ]
  },
  {
   "cell_type": "code",
   "execution_count": 29,
   "metadata": {
    "colab": {
     "base_uri": "https://localhost:8080/",
     "height": 119
    },
    "colab_type": "code",
    "executionInfo": {
     "elapsed": 321,
     "status": "ok",
     "timestamp": 1566952954307,
     "user": {
      "displayName": "Nick Feamster",
      "photoUrl": "https://lh3.googleusercontent.com/a-/AAuE7mDFvpet_sPPt5yq3MRRzIX3Q-CgsLV2DMhtu_Ivbl0=s64",
      "userId": "11425047561900094109"
     },
     "user_tz": 300
    },
    "id": "GVMEhNtrq57t",
    "outputId": "06a59e81-4722-4d7e-e2af-d7e01527957b"
   },
   "outputs": [
    {
     "name": "stdout",
     "output_type": "stream",
     "text": [
      "Feature matrix\n",
      " [[ 1.06354768 -1.42632219  1.02163151]\n",
      " [ 0.23156977  1.49535261  0.33251578]\n",
      " [ 0.15972951  0.83533515 -0.40869554]]\n",
      "Target vector\n",
      " [1 0 0]\n"
     ]
    }
   ],
   "source": [
    "# load library\n",
    "from sklearn.datasets import make_classification\n",
    "\n",
    "# generate features matrix and target vector\n",
    "\n",
    "features, target = make_classification(n_samples = 100,\n",
    "                                       n_features = 3,\n",
    "                                       n_informative = 3,\n",
    "                                       n_redundant = 0,\n",
    "                                       n_classes = 2,\n",
    "                                       weights = [.25, .75],\n",
    "                                       random_state = 1)\n",
    "\n",
    "# view feature matrix and target vector\n",
    "print(\"Feature matrix\\n {}\".format(features[:3]))\n",
    "print(\"Target vector\\n {}\".format(target[:3]))"
   ]
  },
  {
   "cell_type": "markdown",
   "metadata": {},
   "source": [
    "_Classification Example_\n",
    "\n",
    "**Todo:** Write a sample logistic regression classification with the sample data above."
   ]
  },
  {
   "cell_type": "markdown",
   "metadata": {
    "colab_type": "text",
    "id": "HM1GEJ6TrmAL"
   },
   "source": [
    "*Clustering*"
   ]
  },
  {
   "cell_type": "code",
   "execution_count": 34,
   "metadata": {
    "colab": {
     "base_uri": "https://localhost:8080/",
     "height": 119
    },
    "colab_type": "code",
    "executionInfo": {
     "elapsed": 257,
     "status": "ok",
     "timestamp": 1566953113543,
     "user": {
      "displayName": "Nick Feamster",
      "photoUrl": "https://lh3.googleusercontent.com/a-/AAuE7mDFvpet_sPPt5yq3MRRzIX3Q-CgsLV2DMhtu_Ivbl0=s64",
      "userId": "11425047561900094109"
     },
     "user_tz": 300
    },
    "id": "GBes1R3JrJgl",
    "outputId": "e1c190bc-fb59-4f4f-f9e7-13b1de15dc5e"
   },
   "outputs": [
    {
     "name": "stdout",
     "output_type": "stream",
     "text": [
      "Feature Matrix\n",
      " [[ -1.443208     3.83110519]\n",
      " [ -9.78617234  -4.16822753]\n",
      " [-10.35874096  -4.07946501]]\n",
      "Target Vector\n",
      " [0 1 1]\n"
     ]
    }
   ],
   "source": [
    "# load library\n",
    "from sklearn.datasets import make_blobs\n",
    "\n",
    "# generate feature_matrix and target vector\n",
    "features, target = make_blobs(n_samples = 100,\n",
    "                              n_features = 2,\n",
    "                              centers = 3,\n",
    "                              cluster_std = .25,\n",
    "                              shuffle = True,\n",
    "                              random_state = 1)\n",
    "\n",
    "# view feature matrix and target vector\n",
    "print(\"Feature Matrix\\n {}\".format(features[:3]))\n",
    "print(\"Target Vector\\n {}\".format(target[:3]))"
   ]
  },
  {
   "cell_type": "code",
   "execution_count": 35,
   "metadata": {
    "colab": {
     "base_uri": "https://localhost:8080/",
     "height": 269
    },
    "colab_type": "code",
    "executionInfo": {
     "elapsed": 596,
     "status": "ok",
     "timestamp": 1566953114293,
     "user": {
      "displayName": "Nick Feamster",
      "photoUrl": "https://lh3.googleusercontent.com/a-/AAuE7mDFvpet_sPPt5yq3MRRzIX3Q-CgsLV2DMhtu_Ivbl0=s64",
      "userId": "11425047561900094109"
     },
     "user_tz": 300
    },
    "id": "xjjbyQMmrTET",
    "outputId": "dd906be5-be41-4a72-a341-89f8efbf61c7"
   },
   "outputs": [
    {
     "data": {
      "image/png": "[encoded data removed]",
      "text/plain": [
       "<Figure size 640x480 with 1 Axes>"
      ]
     },
     "metadata": {},
     "output_type": "display_data"
    }
   ],
   "source": [
    "plt.scatter(features[:, 0], features[:, 1], c=target)\n",
    "plt.show()"
   ]
  },
  {
   "cell_type": "markdown",
   "metadata": {},
   "source": [
    "_Classification Example_\n",
    "\n",
    "**Todo:** Write a sample nearest neighbor classification with the sample data above."
   ]
  },
  {
   "cell_type": "markdown",
   "metadata": {
    "colab_type": "text",
    "id": "VGTb9iESwLqA"
   },
   "source": [
    "**Loading CSV/Excel**"
   ]
  },
  {
   "cell_type": "code",
   "execution_count": 36,
   "metadata": {
    "colab": {
     "base_uri": "https://localhost:8080/",
     "height": 111
    },
    "colab_type": "code",
    "executionInfo": {
     "elapsed": 2411,
     "status": "ok",
     "timestamp": 1566954385033,
     "user": {
      "displayName": "Nick Feamster",
      "photoUrl": "https://lh3.googleusercontent.com/a-/AAuE7mDFvpet_sPPt5yq3MRRzIX3Q-CgsLV2DMhtu_Ivbl0=s64",
      "userId": "11425047561900094109"
     },
     "user_tz": 300
    },
    "id": "ta17X6OlwQyK",
    "outputId": "a3f98ca7-16ab-44e6-96e4-dd024718043b"
   },
   "outputs": [
    {
     "data": {
      "text/html": [
       "<div>\n",
       "<style scoped>\n",
       "    .dataframe tbody tr th:only-of-type {\n",
       "        vertical-align: middle;\n",
       "    }\n",
       "\n",
       "    .dataframe tbody tr th {\n",
       "        vertical-align: top;\n",
       "    }\n",
       "\n",
       "    .dataframe thead th {\n",
       "        text-align: right;\n",
       "    }\n",
       "</style>\n",
       "<table border=\"1\" class=\"dataframe\">\n",
       "  <thead>\n",
       "    <tr style=\"text-align: right;\">\n",
       "      <th></th>\n",
       "      <th>cdatetime</th>\n",
       "      <th>address</th>\n",
       "      <th>district</th>\n",
       "      <th>beat</th>\n",
       "      <th>grid</th>\n",
       "      <th>crimedescr</th>\n",
       "      <th>ucr_ncic_code</th>\n",
       "      <th>latitude</th>\n",
       "      <th>longitude</th>\n",
       "    </tr>\n",
       "  </thead>\n",
       "  <tbody>\n",
       "    <tr>\n",
       "      <th>0</th>\n",
       "      <td>1/1/06 0:00</td>\n",
       "      <td>3108 OCCIDENTAL DR</td>\n",
       "      <td>3</td>\n",
       "      <td>3C</td>\n",
       "      <td>1115</td>\n",
       "      <td>10851(A)VC TAKE VEH W/O OWNER</td>\n",
       "      <td>2404</td>\n",
       "      <td>38.550420</td>\n",
       "      <td>-121.391416</td>\n",
       "    </tr>\n",
       "    <tr>\n",
       "      <th>1</th>\n",
       "      <td>1/1/06 0:00</td>\n",
       "      <td>2082 EXPEDITION WAY</td>\n",
       "      <td>5</td>\n",
       "      <td>5A</td>\n",
       "      <td>1512</td>\n",
       "      <td>459 PC  BURGLARY RESIDENCE</td>\n",
       "      <td>2204</td>\n",
       "      <td>38.473501</td>\n",
       "      <td>-121.490186</td>\n",
       "    </tr>\n",
       "  </tbody>\n",
       "</table>\n",
       "</div>"
      ],
      "text/plain": [
       "     cdatetime              address  district        beat  grid  \\\n",
       "0  1/1/06 0:00   3108 OCCIDENTAL DR         3  3C          1115   \n",
       "1  1/1/06 0:00  2082 EXPEDITION WAY         5  5A          1512   \n",
       "\n",
       "                      crimedescr  ucr_ncic_code   latitude   longitude  \n",
       "0  10851(A)VC TAKE VEH W/O OWNER           2404  38.550420 -121.391416  \n",
       "1     459 PC  BURGLARY RESIDENCE           2204  38.473501 -121.490186  "
      ]
     },
     "execution_count": 36,
     "metadata": {},
     "output_type": "execute_result"
    }
   ],
   "source": [
    "# load library\n",
    "import pandas as pd\n",
    "\n",
    "# create url (excel spreadsheet, comma-separated value)\n",
    "url = \"http://samplecsvs.s3.amazonaws.com/SacramentocrimeJanuary2006.csv\"\n",
    "\n",
    "# load data\n",
    "df = pd.read_csv(url)\n",
    "\n",
    "# print first two rows of the comma-separated dataset\n",
    "df.head(2)\n"
   ]
  },
  {
   "cell_type": "code",
   "execution_count": 37,
   "metadata": {
    "colab": {
     "base_uri": "https://localhost:8080/",
     "height": 111
    },
    "colab_type": "code",
    "executionInfo": {
     "elapsed": 2002,
     "status": "ok",
     "timestamp": 1566954404960,
     "user": {
      "displayName": "Nick Feamster",
      "photoUrl": "https://lh3.googleusercontent.com/a-/AAuE7mDFvpet_sPPt5yq3MRRzIX3Q-CgsLV2DMhtu_Ivbl0=s64",
      "userId": "11425047561900094109"
     },
     "user_tz": 300
    },
    "id": "JLIkPCTrwaIL",
    "outputId": "3ab6d2d6-e3b1-4336-ae95-74cf3e4c020b"
   },
   "outputs": [
    {
     "data": {
      "text/html": [
       "<div>\n",
       "<style scoped>\n",
       "    .dataframe tbody tr th:only-of-type {\n",
       "        vertical-align: middle;\n",
       "    }\n",
       "\n",
       "    .dataframe tbody tr th {\n",
       "        vertical-align: top;\n",
       "    }\n",
       "\n",
       "    .dataframe thead th {\n",
       "        text-align: right;\n",
       "    }\n",
       "</style>\n",
       "<table border=\"1\" class=\"dataframe\">\n",
       "  <thead>\n",
       "    <tr style=\"text-align: right;\">\n",
       "      <th></th>\n",
       "      <th>0</th>\n",
       "      <th>1</th>\n",
       "      <th>2</th>\n",
       "      <th>3</th>\n",
       "      <th>4</th>\n",
       "      <th>5</th>\n",
       "      <th>6</th>\n",
       "      <th>7</th>\n",
       "      <th>8</th>\n",
       "      <th>9</th>\n",
       "    </tr>\n",
       "  </thead>\n",
       "  <tbody>\n",
       "    <tr>\n",
       "      <th>0</th>\n",
       "      <td>1</td>\n",
       "      <td>Eldon Base for stackable storage shelf, platinum</td>\n",
       "      <td>Muhammed MacIntyre</td>\n",
       "      <td>3</td>\n",
       "      <td>-213.25</td>\n",
       "      <td>38.94</td>\n",
       "      <td>35.00</td>\n",
       "      <td>Nunavut</td>\n",
       "      <td>Storage &amp; Organization</td>\n",
       "      <td>0.80</td>\n",
       "    </tr>\n",
       "    <tr>\n",
       "      <th>1</th>\n",
       "      <td>2</td>\n",
       "      <td>1.7 Cubic Foot Compact \"Cube\" Office Refrigera...</td>\n",
       "      <td>Barry French</td>\n",
       "      <td>293</td>\n",
       "      <td>457.81</td>\n",
       "      <td>208.16</td>\n",
       "      <td>68.02</td>\n",
       "      <td>Nunavut</td>\n",
       "      <td>Appliances</td>\n",
       "      <td>0.58</td>\n",
       "    </tr>\n",
       "  </tbody>\n",
       "</table>\n",
       "</div>"
      ],
      "text/plain": [
       "   0                                                  1                   2  \\\n",
       "0  1   Eldon Base for stackable storage shelf, platinum  Muhammed MacIntyre   \n",
       "1  2  1.7 Cubic Foot Compact \"Cube\" Office Refrigera...        Barry French   \n",
       "\n",
       "     3       4       5      6        7                       8     9  \n",
       "0    3 -213.25   38.94  35.00  Nunavut  Storage & Organization  0.80  \n",
       "1  293  457.81  208.16  68.02  Nunavut              Appliances  0.58  "
      ]
     },
     "execution_count": 37,
     "metadata": {},
     "output_type": "execute_result"
    }
   ],
   "source": [
    "url = \"https://www.sample-videos.com/xls/Sample-Spreadsheet-10-rows.xls\"\n",
    "\n",
    "# load data\n",
    "df = pd.read_excel(url, sheet_name=0, header=None)\n",
    "\n",
    "# view the first two rows\n",
    "df.head(2)"
   ]
  },
  {
   "cell_type": "markdown",
   "metadata": {
    "colab_type": "text",
    "id": "dd3jPRRwxNwB"
   },
   "source": [
    "## Linear Regression"
   ]
  },
  {
   "cell_type": "code",
   "execution_count": 44,
   "metadata": {
    "colab": {},
    "colab_type": "code",
    "id": "u7-6Ft1axSQ1"
   },
   "outputs": [
    {
     "data": {
      "text/plain": [
       "(506, 13)"
      ]
     },
     "execution_count": 44,
     "metadata": {},
     "output_type": "execute_result"
    }
   ],
   "source": [
    "# load one of the sample \"toy\" datasets\n",
    "from sklearn.datasets import load_boston\n",
    "boston = load_boston()\n",
    "boston.data.shape"
   ]
  },
  {
   "cell_type": "code",
   "execution_count": 45,
   "metadata": {
    "colab": {},
    "colab_type": "code",
    "id": "Lsh5Pp5xxm3N"
   },
   "outputs": [
    {
     "data": {
      "text/plain": [
       "(506, 2)"
      ]
     },
     "execution_count": 45,
     "metadata": {},
     "output_type": "execute_result"
    }
   ],
   "source": [
    "# only use the first 2 features \"\"(0:2)\"\"\n",
    "features = boston.data[:, 0:2]\n",
    "target = boston.target\n",
    "\n",
    "features.shape"
   ]
  },
  {
   "cell_type": "code",
   "execution_count": 42,
   "metadata": {
    "colab": {
     "base_uri": "https://localhost:8080/",
     "height": 187
    },
    "colab_type": "code",
    "executionInfo": {
     "elapsed": 327,
     "status": "ok",
     "timestamp": 1566954692329,
     "user": {
      "displayName": "Nick Feamster",
      "photoUrl": "https://lh3.googleusercontent.com/a-/AAuE7mDFvpet_sPPt5yq3MRRzIX3Q-CgsLV2DMhtu_Ivbl0=s64",
      "userId": "11425047561900094109"
     },
     "user_tz": 300
    },
    "id": "MiuEm97Fxpc9",
    "outputId": "8206301c-6d75-47db-fabb-c7011b7d707d"
   },
   "outputs": [
    {
     "data": {
      "text/plain": [
       "array([[6.3200e-03, 1.8000e+01],\n",
       "       [2.7310e-02, 0.0000e+00],\n",
       "       [2.7290e-02, 0.0000e+00],\n",
       "       [3.2370e-02, 0.0000e+00],\n",
       "       [6.9050e-02, 0.0000e+00],\n",
       "       [2.9850e-02, 0.0000e+00],\n",
       "       [8.8290e-02, 1.2500e+01],\n",
       "       [1.4455e-01, 1.2500e+01],\n",
       "       [2.1124e-01, 1.2500e+01],\n",
       "       [1.7004e-01, 1.2500e+01]])"
      ]
     },
     "execution_count": 42,
     "metadata": {},
     "output_type": "execute_result"
    }
   ],
   "source": [
    "features[:10]"
   ]
  },
  {
   "cell_type": "code",
   "execution_count": 26,
   "metadata": {
    "colab": {
     "base_uri": "https://localhost:8080/",
     "height": 187
    },
    "colab_type": "code",
    "executionInfo": {
     "elapsed": 318,
     "status": "ok",
     "timestamp": 1566954713158,
     "user": {
      "displayName": "Nick Feamster",
      "photoUrl": "https://lh3.googleusercontent.com/a-/AAuE7mDFvpet_sPPt5yq3MRRzIX3Q-CgsLV2DMhtu_Ivbl0=s64",
      "userId": "11425047561900094109"
     },
     "user_tz": 300
    },
    "id": "IKdUozbqxwVJ",
    "outputId": "962b1c23-4557-4942-ad09-50658f6e5f5a"
   },
   "outputs": [
    {
     "data": {
      "text/plain": [
       "array([[24. ],\n",
       "       [21.6],\n",
       "       [34.7],\n",
       "       [33.4],\n",
       "       [36.2],\n",
       "       [28.7],\n",
       "       [22.9],\n",
       "       [27.1],\n",
       "       [16.5],\n",
       "       [18.9]])"
      ]
     },
     "execution_count": 26,
     "metadata": {},
     "output_type": "execute_result"
    }
   ],
   "source": [
    "target[:10].reshape(-1,1)"
   ]
  },
  {
   "cell_type": "markdown",
   "metadata": {},
   "source": [
    "Do some machine learning..."
   ]
  },
  {
   "cell_type": "code",
   "execution_count": 46,
   "metadata": {
    "colab": {},
    "colab_type": "code",
    "id": "cqVhn4-Vx0gI"
   },
   "outputs": [],
   "source": [
    "# simple linear regression library\n",
    "from sklearn.linear_model import LinearRegression\n",
    "\n",
    "# Load Linear Regression Model\n",
    "regression = LinearRegression()\n",
    "\n",
    "# Train the Model\n",
    "model = regression.fit(features, target)"
   ]
  },
  {
   "cell_type": "markdown",
   "metadata": {},
   "source": [
    "Now, the model is trained. (\"fit\" did the training).  So, let's generate some random data and then feed it to the model to get some predictions."
   ]
  },
  {
   "cell_type": "code",
   "execution_count": 50,
   "metadata": {
    "colab": {
     "base_uri": "https://localhost:8080/",
     "height": 34
    },
    "colab_type": "code",
    "executionInfo": {
     "elapsed": 305,
     "status": "ok",
     "timestamp": 1566955208111,
     "user": {
      "displayName": "Nick Feamster",
      "photoUrl": "https://lh3.googleusercontent.com/a-/AAuE7mDFvpet_sPPt5yq3MRRzIX3Q-CgsLV2DMhtu_Ivbl0=s64",
      "userId": "11425047561900094109"
     },
     "user_tz": 300
    },
    "id": "PBtMchkPyBS8",
    "outputId": "aa5d74a6-018f-4087-82d6-5f02f5cba74c"
   },
   "outputs": [
    {
     "name": "stdout",
     "output_type": "stream",
     "text": [
      "[[0.05492793 0.99393723]]\n"
     ]
    }
   ],
   "source": [
    "# Generate a set of features that the model has never seen before\n",
    "import numpy as np\n",
    "\n",
    "# a sample data point is a random pair just like \"features\", but this one is not in the training set\n",
    "sample = np.random.random(2).reshape(1,-1)\n",
    "\n",
    "print(sample)"
   ]
  },
  {
   "cell_type": "code",
   "execution_count": 52,
   "metadata": {
    "colab": {
     "base_uri": "https://localhost:8080/",
     "height": 34
    },
    "colab_type": "code",
    "executionInfo": {
     "elapsed": 322,
     "status": "ok",
     "timestamp": 1566955228640,
     "user": {
      "displayName": "Nick Feamster",
      "photoUrl": "https://lh3.googleusercontent.com/a-/AAuE7mDFvpet_sPPt5yq3MRRzIX3Q-CgsLV2DMhtu_Ivbl0=s64",
      "userId": "11425047561900094109"
     },
     "user_tz": 300
    },
    "id": "Vvf9iFlqylNV",
    "outputId": "cf03727c-19a4-4a02-cc30-411481501493"
   },
   "outputs": [
    {
     "name": "stdout",
     "output_type": "stream",
     "text": [
      "[22.58169433]\n"
     ]
    }
   ],
   "source": [
    "# Predict the outcome based on that new set of features\n",
    "\n",
    "y_predict = regression.predict(sample.reshape(1,-1))\n",
    "print(y_predict)"
   ]
  }
 ],
 "metadata": {
  "colab": {
   "name": "Datasets - Chapter 2.ipynb",
   "provenance": [],
   "version": "0.3.2"
  },
  "kernelspec": {
   "display_name": "Python 3",
   "language": "python",
   "name": "python3"
  },
  "language_info": {
   "codemirror_mode": {
    "name": "ipython",
    "version": 3
   },
   "file_extension": ".py",
   "mimetype": "text/x-python",
   "name": "python",
   "nbconvert_exporter": "python",
   "pygments_lexer": "ipython3",
   "version": "3.6.9"
  }
 },
 "nbformat": 4,
 "nbformat_minor": 1
}
